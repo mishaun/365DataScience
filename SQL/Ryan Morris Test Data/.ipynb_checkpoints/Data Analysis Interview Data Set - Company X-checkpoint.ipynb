{
 "cells": [
  {
   "cell_type": "markdown",
   "metadata": {},
   "source": [
    "# The Project\n",
    "There are two sections of this data\n",
    "— Offer Usage and Point of Sale (POS). \n",
    "The offer usage demonstrates howcustomers interact with the offer, the POS data shows what customers purchased. These two data sets aren’t relatedand shouldn’t be compared or correlated."
   ]
  },
  {
   "cell_type": "markdown",
   "metadata": {},
   "source": [
    "---------"
   ]
  },
  {
   "cell_type": "markdown",
   "metadata": {},
   "source": [
    "# Offer Usage Questions\n",
    "\n",
    "There are two basic events that can take place — 1) Offer Viewed, which is basically an impression and implies that auser has “seen” the offer or opened it on their phone and 2) Offer Redeemed, this implies they actually redeemed itin the store. I’d like you to pull together a quick deck that answers some of these questions:\n",
    "\n",
    "1.  On average, how many offers are viewed and redeemed by each unique customer?\n",
    "2.  How do offer views and redemptions differ by retailer?\n",
    "3.  How do offer views and redemptions differ by distribution channel type?\n",
    "4.  Are there certain offers that are more successful than others and if so, by how much?\n",
    "5.  How is offer view/redemption performance impacted by time of day or day of the week?"
   ]
  },
  {
   "cell_type": "markdown",
   "metadata": {},
   "source": [
    "### Read In Data & Libraries"
   ]
  },
  {
   "cell_type": "code",
   "execution_count": 334,
   "metadata": {},
   "outputs": [],
   "source": [
    "import pandas as pd\n",
    "import seaborn as sns\n",
    "import matplotlib.pyplot as plt\n",
    "import numpy as np\n",
    "%matplotlib inline\n",
    "from IPython.core.interactiveshell import InteractiveShell\n",
    "InteractiveShell.ast_node_interactivity = \"all\""
   ]
  },
  {
   "cell_type": "code",
   "execution_count": 335,
   "metadata": {},
   "outputs": [],
   "source": [
    "offerData = pd.read_excel(\"Sample Data Worksheet.xlsx\")"
   ]
  },
  {
   "cell_type": "code",
   "execution_count": 336,
   "metadata": {},
   "outputs": [
    {
     "data": {
      "text/html": [
       "<div>\n",
       "<style scoped>\n",
       "    .dataframe tbody tr th:only-of-type {\n",
       "        vertical-align: middle;\n",
       "    }\n",
       "\n",
       "    .dataframe tbody tr th {\n",
       "        vertical-align: top;\n",
       "    }\n",
       "\n",
       "    .dataframe thead th {\n",
       "        text-align: right;\n",
       "    }\n",
       "</style>\n",
       "<table border=\"1\" class=\"dataframe\">\n",
       "  <thead>\n",
       "    <tr style=\"text-align: right;\">\n",
       "      <th></th>\n",
       "      <th>Timestamp</th>\n",
       "      <th>State</th>\n",
       "      <th>Offer ID</th>\n",
       "      <th>Customer ID</th>\n",
       "      <th>Channel Type</th>\n",
       "      <th>Retailer</th>\n",
       "    </tr>\n",
       "  </thead>\n",
       "  <tbody>\n",
       "    <tr>\n",
       "      <th>count</th>\n",
       "      <td>1395</td>\n",
       "      <td>1395</td>\n",
       "      <td>1395.000000</td>\n",
       "      <td>1395.000000</td>\n",
       "      <td>1395</td>\n",
       "      <td>1395</td>\n",
       "    </tr>\n",
       "    <tr>\n",
       "      <th>unique</th>\n",
       "      <td>1117</td>\n",
       "      <td>2</td>\n",
       "      <td>NaN</td>\n",
       "      <td>NaN</td>\n",
       "      <td>4</td>\n",
       "      <td>3</td>\n",
       "    </tr>\n",
       "    <tr>\n",
       "      <th>top</th>\n",
       "      <td>2018-03-09 12:40:19</td>\n",
       "      <td>Offer Viewed</td>\n",
       "      <td>NaN</td>\n",
       "      <td>NaN</td>\n",
       "      <td>Mobile Web</td>\n",
       "      <td>Quick Stop</td>\n",
       "    </tr>\n",
       "    <tr>\n",
       "      <th>freq</th>\n",
       "      <td>5</td>\n",
       "      <td>920</td>\n",
       "      <td>NaN</td>\n",
       "      <td>NaN</td>\n",
       "      <td>554</td>\n",
       "      <td>705</td>\n",
       "    </tr>\n",
       "    <tr>\n",
       "      <th>first</th>\n",
       "      <td>2018-03-05 00:57:36</td>\n",
       "      <td>NaN</td>\n",
       "      <td>NaN</td>\n",
       "      <td>NaN</td>\n",
       "      <td>NaN</td>\n",
       "      <td>NaN</td>\n",
       "    </tr>\n",
       "    <tr>\n",
       "      <th>last</th>\n",
       "      <td>2018-03-11 22:56:38</td>\n",
       "      <td>NaN</td>\n",
       "      <td>NaN</td>\n",
       "      <td>NaN</td>\n",
       "      <td>NaN</td>\n",
       "      <td>NaN</td>\n",
       "    </tr>\n",
       "    <tr>\n",
       "      <th>mean</th>\n",
       "      <td>NaN</td>\n",
       "      <td>NaN</td>\n",
       "      <td>447079.915412</td>\n",
       "      <td>199054.620789</td>\n",
       "      <td>NaN</td>\n",
       "      <td>NaN</td>\n",
       "    </tr>\n",
       "    <tr>\n",
       "      <th>std</th>\n",
       "      <td>NaN</td>\n",
       "      <td>NaN</td>\n",
       "      <td>199904.017845</td>\n",
       "      <td>117631.183535</td>\n",
       "      <td>NaN</td>\n",
       "      <td>NaN</td>\n",
       "    </tr>\n",
       "    <tr>\n",
       "      <th>min</th>\n",
       "      <td>NaN</td>\n",
       "      <td>NaN</td>\n",
       "      <td>234098.000000</td>\n",
       "      <td>1324.000000</td>\n",
       "      <td>NaN</td>\n",
       "      <td>NaN</td>\n",
       "    </tr>\n",
       "    <tr>\n",
       "      <th>25%</th>\n",
       "      <td>NaN</td>\n",
       "      <td>NaN</td>\n",
       "      <td>234098.000000</td>\n",
       "      <td>94666.000000</td>\n",
       "      <td>NaN</td>\n",
       "      <td>NaN</td>\n",
       "    </tr>\n",
       "    <tr>\n",
       "      <th>50%</th>\n",
       "      <td>NaN</td>\n",
       "      <td>NaN</td>\n",
       "      <td>495834.000000</td>\n",
       "      <td>198600.000000</td>\n",
       "      <td>NaN</td>\n",
       "      <td>NaN</td>\n",
       "    </tr>\n",
       "    <tr>\n",
       "      <th>75%</th>\n",
       "      <td>NaN</td>\n",
       "      <td>NaN</td>\n",
       "      <td>495834.000000</td>\n",
       "      <td>305182.000000</td>\n",
       "      <td>NaN</td>\n",
       "      <td>NaN</td>\n",
       "    </tr>\n",
       "    <tr>\n",
       "      <th>max</th>\n",
       "      <td>NaN</td>\n",
       "      <td>NaN</td>\n",
       "      <td>859385.000000</td>\n",
       "      <td>397200.000000</td>\n",
       "      <td>NaN</td>\n",
       "      <td>NaN</td>\n",
       "    </tr>\n",
       "  </tbody>\n",
       "</table>\n",
       "</div>"
      ],
      "text/plain": [
       "                  Timestamp         State       Offer ID    Customer ID  \\\n",
       "count                  1395          1395    1395.000000    1395.000000   \n",
       "unique                 1117             2            NaN            NaN   \n",
       "top     2018-03-09 12:40:19  Offer Viewed            NaN            NaN   \n",
       "freq                      5           920            NaN            NaN   \n",
       "first   2018-03-05 00:57:36           NaN            NaN            NaN   \n",
       "last    2018-03-11 22:56:38           NaN            NaN            NaN   \n",
       "mean                    NaN           NaN  447079.915412  199054.620789   \n",
       "std                     NaN           NaN  199904.017845  117631.183535   \n",
       "min                     NaN           NaN  234098.000000    1324.000000   \n",
       "25%                     NaN           NaN  234098.000000   94666.000000   \n",
       "50%                     NaN           NaN  495834.000000  198600.000000   \n",
       "75%                     NaN           NaN  495834.000000  305182.000000   \n",
       "max                     NaN           NaN  859385.000000  397200.000000   \n",
       "\n",
       "       Channel Type    Retailer  \n",
       "count          1395        1395  \n",
       "unique            4           3  \n",
       "top      Mobile Web  Quick Stop  \n",
       "freq            554         705  \n",
       "first           NaN         NaN  \n",
       "last            NaN         NaN  \n",
       "mean            NaN         NaN  \n",
       "std             NaN         NaN  \n",
       "min             NaN         NaN  \n",
       "25%             NaN         NaN  \n",
       "50%             NaN         NaN  \n",
       "75%             NaN         NaN  \n",
       "max             NaN         NaN  "
      ]
     },
     "execution_count": 336,
     "metadata": {},
     "output_type": "execute_result"
    },
    {
     "data": {
      "text/plain": [
       "495834    531\n",
       "234098    402\n",
       "583728    164\n",
       "859385    160\n",
       "239480    138\n",
       "Name: Offer ID, dtype: int64"
      ]
     },
     "execution_count": 336,
     "metadata": {},
     "output_type": "execute_result"
    }
   ],
   "source": [
    "offerData.describe(include=\"all\")\n",
    "offerData[\"Offer ID\"].value_counts()"
   ]
  },
  {
   "cell_type": "markdown",
   "metadata": {},
   "source": [
    "## 1.  On average, how many offers are viewed and redeemed by each unique customer?"
   ]
  },
  {
   "cell_type": "code",
   "execution_count": 337,
   "metadata": {},
   "outputs": [
    {
     "data": {
      "text/html": [
       "<div>\n",
       "<style scoped>\n",
       "    .dataframe tbody tr th:only-of-type {\n",
       "        vertical-align: middle;\n",
       "    }\n",
       "\n",
       "    .dataframe tbody tr th {\n",
       "        vertical-align: top;\n",
       "    }\n",
       "\n",
       "    .dataframe thead th {\n",
       "        text-align: right;\n",
       "    }\n",
       "</style>\n",
       "<table border=\"1\" class=\"dataframe\">\n",
       "  <thead>\n",
       "    <tr style=\"text-align: right;\">\n",
       "      <th></th>\n",
       "      <th>State</th>\n",
       "      <th>Offer Redeemed</th>\n",
       "      <th>Offer Viewed</th>\n",
       "    </tr>\n",
       "    <tr>\n",
       "      <th>Customer ID</th>\n",
       "      <th>Offer ID</th>\n",
       "      <th></th>\n",
       "      <th></th>\n",
       "    </tr>\n",
       "  </thead>\n",
       "  <tbody>\n",
       "    <tr>\n",
       "      <th rowspan=\"3\" valign=\"top\">1324</th>\n",
       "      <th>234098</th>\n",
       "      <td>1.0</td>\n",
       "      <td>1.0</td>\n",
       "    </tr>\n",
       "    <tr>\n",
       "      <th>495834</th>\n",
       "      <td>1.0</td>\n",
       "      <td>1.0</td>\n",
       "    </tr>\n",
       "    <tr>\n",
       "      <th>583728</th>\n",
       "      <td>1.0</td>\n",
       "      <td>NaN</td>\n",
       "    </tr>\n",
       "    <tr>\n",
       "      <th rowspan=\"3\" valign=\"top\">2648</th>\n",
       "      <th>234098</th>\n",
       "      <td>NaN</td>\n",
       "      <td>1.0</td>\n",
       "    </tr>\n",
       "    <tr>\n",
       "      <th>495834</th>\n",
       "      <td>NaN</td>\n",
       "      <td>2.0</td>\n",
       "    </tr>\n",
       "    <tr>\n",
       "      <th>583728</th>\n",
       "      <td>1.0</td>\n",
       "      <td>NaN</td>\n",
       "    </tr>\n",
       "    <tr>\n",
       "      <th rowspan=\"3\" valign=\"top\">3972</th>\n",
       "      <th>495834</th>\n",
       "      <td>2.0</td>\n",
       "      <td>5.0</td>\n",
       "    </tr>\n",
       "    <tr>\n",
       "      <th>583728</th>\n",
       "      <td>NaN</td>\n",
       "      <td>1.0</td>\n",
       "    </tr>\n",
       "    <tr>\n",
       "      <th>859385</th>\n",
       "      <td>1.0</td>\n",
       "      <td>1.0</td>\n",
       "    </tr>\n",
       "    <tr>\n",
       "      <th rowspan=\"3\" valign=\"top\">5296</th>\n",
       "      <th>234098</th>\n",
       "      <td>1.0</td>\n",
       "      <td>1.0</td>\n",
       "    </tr>\n",
       "    <tr>\n",
       "      <th>239480</th>\n",
       "      <td>1.0</td>\n",
       "      <td>NaN</td>\n",
       "    </tr>\n",
       "    <tr>\n",
       "      <th>583728</th>\n",
       "      <td>NaN</td>\n",
       "      <td>1.0</td>\n",
       "    </tr>\n",
       "    <tr>\n",
       "      <th rowspan=\"2\" valign=\"top\">6620</th>\n",
       "      <th>495834</th>\n",
       "      <td>1.0</td>\n",
       "      <td>2.0</td>\n",
       "    </tr>\n",
       "    <tr>\n",
       "      <th>583728</th>\n",
       "      <td>NaN</td>\n",
       "      <td>1.0</td>\n",
       "    </tr>\n",
       "    <tr>\n",
       "      <th>7944</th>\n",
       "      <th>495834</th>\n",
       "      <td>1.0</td>\n",
       "      <td>1.0</td>\n",
       "    </tr>\n",
       "    <tr>\n",
       "      <th rowspan=\"3\" valign=\"top\">9268</th>\n",
       "      <th>234098</th>\n",
       "      <td>NaN</td>\n",
       "      <td>2.0</td>\n",
       "    </tr>\n",
       "    <tr>\n",
       "      <th>495834</th>\n",
       "      <td>1.0</td>\n",
       "      <td>NaN</td>\n",
       "    </tr>\n",
       "    <tr>\n",
       "      <th>859385</th>\n",
       "      <td>1.0</td>\n",
       "      <td>NaN</td>\n",
       "    </tr>\n",
       "    <tr>\n",
       "      <th rowspan=\"2\" valign=\"top\">10592</th>\n",
       "      <th>234098</th>\n",
       "      <td>1.0</td>\n",
       "      <td>2.0</td>\n",
       "    </tr>\n",
       "    <tr>\n",
       "      <th>239480</th>\n",
       "      <td>NaN</td>\n",
       "      <td>1.0</td>\n",
       "    </tr>\n",
       "  </tbody>\n",
       "</table>\n",
       "</div>"
      ],
      "text/plain": [
       "State                 Offer Redeemed  Offer Viewed\n",
       "Customer ID Offer ID                              \n",
       "1324        234098               1.0           1.0\n",
       "            495834               1.0           1.0\n",
       "            583728               1.0           NaN\n",
       "2648        234098               NaN           1.0\n",
       "            495834               NaN           2.0\n",
       "            583728               1.0           NaN\n",
       "3972        495834               2.0           5.0\n",
       "            583728               NaN           1.0\n",
       "            859385               1.0           1.0\n",
       "5296        234098               1.0           1.0\n",
       "            239480               1.0           NaN\n",
       "            583728               NaN           1.0\n",
       "6620        495834               1.0           2.0\n",
       "            583728               NaN           1.0\n",
       "7944        495834               1.0           1.0\n",
       "9268        234098               NaN           2.0\n",
       "            495834               1.0           NaN\n",
       "            859385               1.0           NaN\n",
       "10592       234098               1.0           2.0\n",
       "            239480               NaN           1.0"
      ]
     },
     "execution_count": 337,
     "metadata": {},
     "output_type": "execute_result"
    }
   ],
   "source": [
    "table = pd.pivot_table(offerData, index = [\"Customer ID\", \"Offer ID\"], columns = \"State\", values = \"Timestamp\", aggfunc = \"count\")\n",
    "\n",
    "table.head(20)"
   ]
  },
  {
   "cell_type": "code",
   "execution_count": 338,
   "metadata": {},
   "outputs": [
    {
     "data": {
      "text/plain": [
       "299"
      ]
     },
     "execution_count": 338,
     "metadata": {},
     "output_type": "execute_result"
    }
   ],
   "source": [
    "noOfCustomers = offerData[\"Customer ID\"].nunique()\n",
    "noOfCustomers"
   ]
  },
  {
   "cell_type": "code",
   "execution_count": 339,
   "metadata": {},
   "outputs": [
    {
     "data": {
      "text/plain": [
       "Offer Viewed      920\n",
       "Offer Redeemed    475\n",
       "Name: State, dtype: int64"
      ]
     },
     "execution_count": 339,
     "metadata": {},
     "output_type": "execute_result"
    }
   ],
   "source": [
    "offerData[\"State\"].value_counts()"
   ]
  },
  {
   "cell_type": "code",
   "execution_count": 340,
   "metadata": {},
   "outputs": [
    {
     "data": {
      "text/plain": [
       "(920, 475, 1395)"
      ]
     },
     "execution_count": 340,
     "metadata": {},
     "output_type": "execute_result"
    }
   ],
   "source": [
    "views = offerData[\"State\"].value_counts().iloc[0]\n",
    "redeems = offerData[\"State\"].value_counts().iloc[1]\n",
    "totalViews = views + redeems\n",
    "\n",
    "views, redeems, totalViews"
   ]
  },
  {
   "cell_type": "code",
   "execution_count": 341,
   "metadata": {},
   "outputs": [
    {
     "data": {
      "text/plain": [
       "3.076923076923077"
      ]
     },
     "execution_count": 341,
     "metadata": {},
     "output_type": "execute_result"
    },
    {
     "data": {
      "text/plain": [
       "1.588628762541806"
      ]
     },
     "execution_count": 341,
     "metadata": {},
     "output_type": "execute_result"
    }
   ],
   "source": [
    "views/noOfCustomers\n",
    "redeems/noOfCustomers"
   ]
  },
  {
   "cell_type": "markdown",
   "metadata": {},
   "source": [
    "#### Analysis"
   ]
  },
  {
   "cell_type": "markdown",
   "metadata": {},
   "source": [
    "There are 299 unique customers in the database.\n",
    "The number of offers redeemed is 475, while the number of offers viewed is 920.\n",
    "After analyzing the database, there were instances where customers redeemed offers but there was no offer viewed. \n",
    "Assuming an offer must be viewed in order for it to be redeemed, a cleaning of the database would have to be done to get a better estimate of the redemption percentage.\n",
    "The formula logic would check instances where redeemptions for a given offer for a given customer was greater than 1, and the number of views for that offer was 0.  A minimum of 1 view would then be filled for a missing value.\n",
    "\n",
    "Without cleaning, each customer averages 3 offer views and redeems 1.58 offers.  This implies a 50% redemption rate, which does not seem practical."
   ]
  },
  {
   "cell_type": "markdown",
   "metadata": {},
   "source": [
    "## 2. How do offer views and redemptions differ by retailer?"
   ]
  },
  {
   "cell_type": "code",
   "execution_count": 342,
   "metadata": {
    "scrolled": true
   },
   "outputs": [
    {
     "data": {
      "text/html": [
       "<div>\n",
       "<style scoped>\n",
       "    .dataframe tbody tr th:only-of-type {\n",
       "        vertical-align: middle;\n",
       "    }\n",
       "\n",
       "    .dataframe tbody tr th {\n",
       "        vertical-align: top;\n",
       "    }\n",
       "\n",
       "    .dataframe thead th {\n",
       "        text-align: right;\n",
       "    }\n",
       "</style>\n",
       "<table border=\"1\" class=\"dataframe\">\n",
       "  <thead>\n",
       "    <tr style=\"text-align: right;\">\n",
       "      <th></th>\n",
       "      <th></th>\n",
       "      <th>Timestamp</th>\n",
       "      <th>Offer ID</th>\n",
       "      <th>Customer ID</th>\n",
       "      <th>Channel Type</th>\n",
       "    </tr>\n",
       "    <tr>\n",
       "      <th>Retailer</th>\n",
       "      <th>State</th>\n",
       "      <th></th>\n",
       "      <th></th>\n",
       "      <th></th>\n",
       "      <th></th>\n",
       "    </tr>\n",
       "  </thead>\n",
       "  <tbody>\n",
       "    <tr>\n",
       "      <th rowspan=\"2\" valign=\"top\">Fast Mart</th>\n",
       "      <th>Offer Redeemed</th>\n",
       "      <td>114</td>\n",
       "      <td>114</td>\n",
       "      <td>114</td>\n",
       "      <td>114</td>\n",
       "    </tr>\n",
       "    <tr>\n",
       "      <th>Offer Viewed</th>\n",
       "      <td>265</td>\n",
       "      <td>265</td>\n",
       "      <td>265</td>\n",
       "      <td>265</td>\n",
       "    </tr>\n",
       "    <tr>\n",
       "      <th rowspan=\"2\" valign=\"top\">Fred's</th>\n",
       "      <th>Offer Redeemed</th>\n",
       "      <td>107</td>\n",
       "      <td>107</td>\n",
       "      <td>107</td>\n",
       "      <td>107</td>\n",
       "    </tr>\n",
       "    <tr>\n",
       "      <th>Offer Viewed</th>\n",
       "      <td>204</td>\n",
       "      <td>204</td>\n",
       "      <td>204</td>\n",
       "      <td>204</td>\n",
       "    </tr>\n",
       "    <tr>\n",
       "      <th rowspan=\"2\" valign=\"top\">Quick Stop</th>\n",
       "      <th>Offer Redeemed</th>\n",
       "      <td>254</td>\n",
       "      <td>254</td>\n",
       "      <td>254</td>\n",
       "      <td>254</td>\n",
       "    </tr>\n",
       "    <tr>\n",
       "      <th>Offer Viewed</th>\n",
       "      <td>451</td>\n",
       "      <td>451</td>\n",
       "      <td>451</td>\n",
       "      <td>451</td>\n",
       "    </tr>\n",
       "  </tbody>\n",
       "</table>\n",
       "</div>"
      ],
      "text/plain": [
       "                           Timestamp  Offer ID  Customer ID  Channel Type\n",
       "Retailer   State                                                         \n",
       "Fast Mart  Offer Redeemed        114       114          114           114\n",
       "           Offer Viewed          265       265          265           265\n",
       "Fred's     Offer Redeemed        107       107          107           107\n",
       "           Offer Viewed          204       204          204           204\n",
       "Quick Stop Offer Redeemed        254       254          254           254\n",
       "           Offer Viewed          451       451          451           451"
      ]
     },
     "execution_count": 342,
     "metadata": {},
     "output_type": "execute_result"
    },
    {
     "data": {
      "text/html": [
       "<div>\n",
       "<style scoped>\n",
       "    .dataframe tbody tr th:only-of-type {\n",
       "        vertical-align: middle;\n",
       "    }\n",
       "\n",
       "    .dataframe tbody tr th {\n",
       "        vertical-align: top;\n",
       "    }\n",
       "\n",
       "    .dataframe thead th {\n",
       "        text-align: right;\n",
       "    }\n",
       "</style>\n",
       "<table border=\"1\" class=\"dataframe\">\n",
       "  <thead>\n",
       "    <tr style=\"text-align: right;\">\n",
       "      <th></th>\n",
       "      <th></th>\n",
       "      <th>Timestamp</th>\n",
       "    </tr>\n",
       "    <tr>\n",
       "      <th>Retailer</th>\n",
       "      <th>State</th>\n",
       "      <th></th>\n",
       "    </tr>\n",
       "  </thead>\n",
       "  <tbody>\n",
       "    <tr>\n",
       "      <th rowspan=\"2\" valign=\"top\">Fast Mart</th>\n",
       "      <th>Offer Redeemed</th>\n",
       "      <td>114</td>\n",
       "    </tr>\n",
       "    <tr>\n",
       "      <th>Offer Viewed</th>\n",
       "      <td>265</td>\n",
       "    </tr>\n",
       "    <tr>\n",
       "      <th rowspan=\"2\" valign=\"top\">Fred's</th>\n",
       "      <th>Offer Redeemed</th>\n",
       "      <td>107</td>\n",
       "    </tr>\n",
       "    <tr>\n",
       "      <th>Offer Viewed</th>\n",
       "      <td>204</td>\n",
       "    </tr>\n",
       "    <tr>\n",
       "      <th rowspan=\"2\" valign=\"top\">Quick Stop</th>\n",
       "      <th>Offer Redeemed</th>\n",
       "      <td>254</td>\n",
       "    </tr>\n",
       "    <tr>\n",
       "      <th>Offer Viewed</th>\n",
       "      <td>451</td>\n",
       "    </tr>\n",
       "    <tr>\n",
       "      <th>All</th>\n",
       "      <th></th>\n",
       "      <td>1395</td>\n",
       "    </tr>\n",
       "  </tbody>\n",
       "</table>\n",
       "</div>"
      ],
      "text/plain": [
       "                           Timestamp\n",
       "Retailer   State                    \n",
       "Fast Mart  Offer Redeemed        114\n",
       "           Offer Viewed          265\n",
       "Fred's     Offer Redeemed        107\n",
       "           Offer Viewed          204\n",
       "Quick Stop Offer Redeemed        254\n",
       "           Offer Viewed          451\n",
       "All                             1395"
      ]
     },
     "execution_count": 342,
     "metadata": {},
     "output_type": "execute_result"
    }
   ],
   "source": [
    "offerData.groupby([\"Retailer\",\"State\"]).count()\n",
    "\n",
    "offerData.pivot_table(index = [\"Retailer\",\"State\"], values = \"Timestamp\", aggfunc = 'count', margins = True)"
   ]
  },
  {
   "cell_type": "code",
   "execution_count": 343,
   "metadata": {},
   "outputs": [
    {
     "data": {
      "text/plain": [
       "<Figure size 864x360 with 0 Axes>"
      ]
     },
     "execution_count": 343,
     "metadata": {},
     "output_type": "execute_result"
    },
    {
     "data": {
      "text/plain": [
       "Text(0.5, 1.0, 'Offer Activity By Retailor')"
      ]
     },
     "execution_count": 343,
     "metadata": {},
     "output_type": "execute_result"
    },
    {
     "data": {
      "text/plain": [
       "<matplotlib.axes._subplots.AxesSubplot at 0x1a498d2048>"
      ]
     },
     "execution_count": 343,
     "metadata": {},
     "output_type": "execute_result"
    },
    {
     "data": {
      "image/png": "[encoded data removed]",
      "text/plain": [
       "<Figure size 864x360 with 1 Axes>"
      ]
     },
     "metadata": {
      "needs_background": "light"
     },
     "output_type": "display_data"
    }
   ],
   "source": [
    "plt.figure(figsize = (12,5))\n",
    "plt.title(\"offer activity by retailor\".title(), fontdict={\"fontsize\": 15})\n",
    "sns.countplot(x = offerData[\"Retailer\"], hue = offerData[\"State\"])"
   ]
  },
  {
   "cell_type": "markdown",
   "metadata": {},
   "source": [
    "#### Analysis"
   ]
  },
  {
   "cell_type": "markdown",
   "metadata": {},
   "source": [
    "We see that Quick Stop has the most views along with the most offers redeems.  Fred's and First mart have similar offers redeemed, while Fast Mart has 25% more views than Fred's."
   ]
  },
  {
   "cell_type": "markdown",
   "metadata": {},
   "source": [
    "## 3. How do offer views and redemptions differ by distribution channel type?"
   ]
  },
  {
   "cell_type": "code",
   "execution_count": 344,
   "metadata": {},
   "outputs": [
    {
     "data": {
      "text/plain": [
       "<Figure size 864x360 with 0 Axes>"
      ]
     },
     "execution_count": 344,
     "metadata": {},
     "output_type": "execute_result"
    },
    {
     "data": {
      "text/plain": [
       "Text(0.5, 1.0, 'Offer Activity By Channel Type')"
      ]
     },
     "execution_count": 344,
     "metadata": {},
     "output_type": "execute_result"
    },
    {
     "data": {
      "text/plain": [
       "<matplotlib.axes._subplots.AxesSubplot at 0x1a497b88d0>"
      ]
     },
     "execution_count": 344,
     "metadata": {},
     "output_type": "execute_result"
    },
    {
     "data": {
      "image/png": "[encoded data removed]",
      "text/plain": [
       "<Figure size 864x360 with 1 Axes>"
      ]
     },
     "metadata": {
      "needs_background": "light"
     },
     "output_type": "display_data"
    }
   ],
   "source": [
    "plt.figure(figsize = (12,5))\n",
    "plt.title(\"offer activity by channel type\".title(), fontdict={\"fontsize\": 15})\n",
    "sns.countplot(x=offerData[\"Channel Type\"], hue = offerData[\"State\"])"
   ]
  },
  {
   "cell_type": "markdown",
   "metadata": {},
   "source": [
    "#### Analysis"
   ]
  },
  {
   "cell_type": "markdown",
   "metadata": {},
   "source": [
    "We clearly see mobile web is hte best channel type for offers to be viewed and redeemed.  All other channel types have similar performances"
   ]
  },
  {
   "cell_type": "markdown",
   "metadata": {},
   "source": [
    "## 4. Are there certain offers that are more successful than others and if so, by how much?"
   ]
  },
  {
   "cell_type": "code",
   "execution_count": 345,
   "metadata": {},
   "outputs": [
    {
     "data": {
      "text/html": [
       "<div>\n",
       "<style scoped>\n",
       "    .dataframe tbody tr th:only-of-type {\n",
       "        vertical-align: middle;\n",
       "    }\n",
       "\n",
       "    .dataframe tbody tr th {\n",
       "        vertical-align: top;\n",
       "    }\n",
       "\n",
       "    .dataframe thead th {\n",
       "        text-align: right;\n",
       "    }\n",
       "</style>\n",
       "<table border=\"1\" class=\"dataframe\">\n",
       "  <thead>\n",
       "    <tr style=\"text-align: right;\">\n",
       "      <th></th>\n",
       "      <th>Offer ID</th>\n",
       "      <th>Product</th>\n",
       "      <th>Category</th>\n",
       "      <th>Headline</th>\n",
       "      <th>Subheadline</th>\n",
       "      <th>Offer Value</th>\n",
       "    </tr>\n",
       "  </thead>\n",
       "  <tbody>\n",
       "    <tr>\n",
       "      <th>0</th>\n",
       "      <td>583728</td>\n",
       "      <td>Slim Jim</td>\n",
       "      <td>Snacks</td>\n",
       "      <td>$1 Off</td>\n",
       "      <td>Any Slim Jim Product</td>\n",
       "      <td>1.00</td>\n",
       "    </tr>\n",
       "    <tr>\n",
       "      <th>1</th>\n",
       "      <td>234098</td>\n",
       "      <td>Mountain Dew</td>\n",
       "      <td>Soda</td>\n",
       "      <td>Buy One Get One Free</td>\n",
       "      <td>Mountain Dew 20 oz.</td>\n",
       "      <td>1.69</td>\n",
       "    </tr>\n",
       "    <tr>\n",
       "      <th>2</th>\n",
       "      <td>239480</td>\n",
       "      <td>Hot Dog</td>\n",
       "      <td>Food</td>\n",
       "      <td>All Hot Dogs Only $0.50</td>\n",
       "      <td>Today Only!</td>\n",
       "      <td>1.00</td>\n",
       "    </tr>\n",
       "    <tr>\n",
       "      <th>3</th>\n",
       "      <td>495834</td>\n",
       "      <td>Coca Cola</td>\n",
       "      <td>Soda</td>\n",
       "      <td>Buy One Get One Half Off</td>\n",
       "      <td>All Coke 2 Liters</td>\n",
       "      <td>2.34</td>\n",
       "    </tr>\n",
       "    <tr>\n",
       "      <th>4</th>\n",
       "      <td>859385</td>\n",
       "      <td>Bud Light</td>\n",
       "      <td>Beer</td>\n",
       "      <td>$5 Cash Back</td>\n",
       "      <td>On Any 24 Pack of Bud Light</td>\n",
       "      <td>5.00</td>\n",
       "    </tr>\n",
       "  </tbody>\n",
       "</table>\n",
       "</div>"
      ],
      "text/plain": [
       "   Offer ID       Product Category                  Headline  \\\n",
       "0    583728      Slim Jim   Snacks                    $1 Off   \n",
       "1    234098  Mountain Dew     Soda      Buy One Get One Free   \n",
       "2    239480       Hot Dog     Food   All Hot Dogs Only $0.50   \n",
       "3    495834     Coca Cola     Soda  Buy One Get One Half Off   \n",
       "4    859385     Bud Light     Beer              $5 Cash Back   \n",
       "\n",
       "                   Subheadline  Offer Value  \n",
       "0         Any Slim Jim Product         1.00  \n",
       "1          Mountain Dew 20 oz.         1.69  \n",
       "2                  Today Only!         1.00  \n",
       "3            All Coke 2 Liters         2.34  \n",
       "4  On Any 24 Pack of Bud Light         5.00  "
      ]
     },
     "execution_count": 345,
     "metadata": {},
     "output_type": "execute_result"
    }
   ],
   "source": [
    "offerKeys = pd.read_excel(\"Sample Data Worksheet.xlsx\", sheet_name=\"Offer Key\")\n",
    "\n",
    "offerKeys"
   ]
  },
  {
   "cell_type": "code",
   "execution_count": 346,
   "metadata": {},
   "outputs": [],
   "source": [
    "#merging product type for easier readiblity\n",
    "offerData = pd.merge(offerData, offerKeys[[\"Offer ID\", \"Product\"]], how = \"left\", on = \"Offer ID\")"
   ]
  },
  {
   "cell_type": "code",
   "execution_count": 347,
   "metadata": {},
   "outputs": [
    {
     "data": {
      "text/plain": [
       "<Figure size 864x360 with 0 Axes>"
      ]
     },
     "execution_count": 347,
     "metadata": {},
     "output_type": "execute_result"
    },
    {
     "data": {
      "text/plain": [
       "Text(0.5, 1.0, 'Offer Activity by Product')"
      ]
     },
     "execution_count": 347,
     "metadata": {},
     "output_type": "execute_result"
    },
    {
     "data": {
      "text/plain": [
       "<matplotlib.axes._subplots.AxesSubplot at 0x1a49a55b38>"
      ]
     },
     "execution_count": 347,
     "metadata": {},
     "output_type": "execute_result"
    },
    {
     "data": {
      "image/png": "[encoded data removed]",
      "text/plain": [
       "<Figure size 864x360 with 1 Axes>"
      ]
     },
     "metadata": {
      "needs_background": "light"
     },
     "output_type": "display_data"
    }
   ],
   "source": [
    "plt.figure(figsize = (12,5))\n",
    "plt.title(\"Offer Activity by Product\", fontdict={\"fontsize\": 15})\n",
    "sns.countplot(x=offerData[\"Product\"], hue = offerData[\"State\"])"
   ]
  },
  {
   "cell_type": "code",
   "execution_count": 348,
   "metadata": {},
   "outputs": [
    {
     "data": {
      "text/html": [
       "<div>\n",
       "<style scoped>\n",
       "    .dataframe tbody tr th:only-of-type {\n",
       "        vertical-align: middle;\n",
       "    }\n",
       "\n",
       "    .dataframe tbody tr th {\n",
       "        vertical-align: top;\n",
       "    }\n",
       "\n",
       "    .dataframe thead th {\n",
       "        text-align: right;\n",
       "    }\n",
       "</style>\n",
       "<table border=\"1\" class=\"dataframe\">\n",
       "  <thead>\n",
       "    <tr style=\"text-align: right;\">\n",
       "      <th></th>\n",
       "      <th></th>\n",
       "      <th>Timestamp</th>\n",
       "      <th>Offer ID</th>\n",
       "      <th>Customer ID</th>\n",
       "      <th>Channel Type</th>\n",
       "      <th>Retailer</th>\n",
       "    </tr>\n",
       "    <tr>\n",
       "      <th>Product</th>\n",
       "      <th>State</th>\n",
       "      <th></th>\n",
       "      <th></th>\n",
       "      <th></th>\n",
       "      <th></th>\n",
       "      <th></th>\n",
       "    </tr>\n",
       "  </thead>\n",
       "  <tbody>\n",
       "    <tr>\n",
       "      <th rowspan=\"2\" valign=\"top\">Bud Light</th>\n",
       "      <th>Offer Redeemed</th>\n",
       "      <td>45</td>\n",
       "      <td>45</td>\n",
       "      <td>45</td>\n",
       "      <td>45</td>\n",
       "      <td>45</td>\n",
       "    </tr>\n",
       "    <tr>\n",
       "      <th>Offer Viewed</th>\n",
       "      <td>115</td>\n",
       "      <td>115</td>\n",
       "      <td>115</td>\n",
       "      <td>115</td>\n",
       "      <td>115</td>\n",
       "    </tr>\n",
       "    <tr>\n",
       "      <th rowspan=\"2\" valign=\"top\">Coca Cola</th>\n",
       "      <th>Offer Redeemed</th>\n",
       "      <td>192</td>\n",
       "      <td>192</td>\n",
       "      <td>192</td>\n",
       "      <td>192</td>\n",
       "      <td>192</td>\n",
       "    </tr>\n",
       "    <tr>\n",
       "      <th>Offer Viewed</th>\n",
       "      <td>339</td>\n",
       "      <td>339</td>\n",
       "      <td>339</td>\n",
       "      <td>339</td>\n",
       "      <td>339</td>\n",
       "    </tr>\n",
       "    <tr>\n",
       "      <th rowspan=\"2\" valign=\"top\">Hot Dog</th>\n",
       "      <th>Offer Redeemed</th>\n",
       "      <td>52</td>\n",
       "      <td>52</td>\n",
       "      <td>52</td>\n",
       "      <td>52</td>\n",
       "      <td>52</td>\n",
       "    </tr>\n",
       "    <tr>\n",
       "      <th>Offer Viewed</th>\n",
       "      <td>86</td>\n",
       "      <td>86</td>\n",
       "      <td>86</td>\n",
       "      <td>86</td>\n",
       "      <td>86</td>\n",
       "    </tr>\n",
       "    <tr>\n",
       "      <th rowspan=\"2\" valign=\"top\">Mountain Dew</th>\n",
       "      <th>Offer Redeemed</th>\n",
       "      <td>125</td>\n",
       "      <td>125</td>\n",
       "      <td>125</td>\n",
       "      <td>125</td>\n",
       "      <td>125</td>\n",
       "    </tr>\n",
       "    <tr>\n",
       "      <th>Offer Viewed</th>\n",
       "      <td>277</td>\n",
       "      <td>277</td>\n",
       "      <td>277</td>\n",
       "      <td>277</td>\n",
       "      <td>277</td>\n",
       "    </tr>\n",
       "    <tr>\n",
       "      <th rowspan=\"2\" valign=\"top\">Slim Jim</th>\n",
       "      <th>Offer Redeemed</th>\n",
       "      <td>61</td>\n",
       "      <td>61</td>\n",
       "      <td>61</td>\n",
       "      <td>61</td>\n",
       "      <td>61</td>\n",
       "    </tr>\n",
       "    <tr>\n",
       "      <th>Offer Viewed</th>\n",
       "      <td>103</td>\n",
       "      <td>103</td>\n",
       "      <td>103</td>\n",
       "      <td>103</td>\n",
       "      <td>103</td>\n",
       "    </tr>\n",
       "  </tbody>\n",
       "</table>\n",
       "</div>"
      ],
      "text/plain": [
       "                             Timestamp  Offer ID  Customer ID  Channel Type  \\\n",
       "Product      State                                                            \n",
       "Bud Light    Offer Redeemed         45        45           45            45   \n",
       "             Offer Viewed          115       115          115           115   \n",
       "Coca Cola    Offer Redeemed        192       192          192           192   \n",
       "             Offer Viewed          339       339          339           339   \n",
       "Hot Dog      Offer Redeemed         52        52           52            52   \n",
       "             Offer Viewed           86        86           86            86   \n",
       "Mountain Dew Offer Redeemed        125       125          125           125   \n",
       "             Offer Viewed          277       277          277           277   \n",
       "Slim Jim     Offer Redeemed         61        61           61            61   \n",
       "             Offer Viewed          103       103          103           103   \n",
       "\n",
       "                             Retailer  \n",
       "Product      State                     \n",
       "Bud Light    Offer Redeemed        45  \n",
       "             Offer Viewed         115  \n",
       "Coca Cola    Offer Redeemed       192  \n",
       "             Offer Viewed         339  \n",
       "Hot Dog      Offer Redeemed        52  \n",
       "             Offer Viewed          86  \n",
       "Mountain Dew Offer Redeemed       125  \n",
       "             Offer Viewed         277  \n",
       "Slim Jim     Offer Redeemed        61  \n",
       "             Offer Viewed         103  "
      ]
     },
     "execution_count": 348,
     "metadata": {},
     "output_type": "execute_result"
    }
   ],
   "source": [
    "offerData.groupby([\"Product\", \"State\"]).count()"
   ]
  },
  {
   "cell_type": "markdown",
   "metadata": {},
   "source": [
    "#### Analysis"
   ]
  },
  {
   "cell_type": "markdown",
   "metadata": {},
   "source": [
    "Coca Cola is the most successful in redeeming offers and having offers viewed.  The next best product is mountain dew, another soft drink product.  Coca Cola has a redemption rate 22% higher than mountain dew.  Amongst the other products, Coca-Cola dominates redemptions by up to 6x."
   ]
  },
  {
   "cell_type": "markdown",
   "metadata": {},
   "source": [
    "## 5.  How is offer view/redemption performance impacted by time of day or day of the week?"
   ]
  },
  {
   "cell_type": "markdown",
   "metadata": {},
   "source": [
    "### Cleaning/Processing Data to Get Day of Week"
   ]
  },
  {
   "cell_type": "code",
   "execution_count": 349,
   "metadata": {
    "scrolled": true
   },
   "outputs": [
    {
     "name": "stdout",
     "output_type": "stream",
     "text": [
      "<class 'pandas.core.frame.DataFrame'>\n",
      "Int64Index: 1395 entries, 0 to 1394\n",
      "Data columns (total 7 columns):\n",
      "Timestamp       1395 non-null datetime64[ns]\n",
      "State           1395 non-null object\n",
      "Offer ID        1395 non-null int64\n",
      "Customer ID     1395 non-null int64\n",
      "Channel Type    1395 non-null object\n",
      "Retailer        1395 non-null object\n",
      "Product         1395 non-null object\n",
      "dtypes: datetime64[ns](1), int64(2), object(4)\n",
      "memory usage: 127.2+ KB\n"
     ]
    }
   ],
   "source": [
    "offerData.info()"
   ]
  },
  {
   "cell_type": "code",
   "execution_count": 350,
   "metadata": {},
   "outputs": [],
   "source": [
    "offerData[\"DayofWeek\"] = offerData[\"Timestamp\"].apply(lambda x: x.dayofweek)"
   ]
  },
  {
   "cell_type": "code",
   "execution_count": 351,
   "metadata": {},
   "outputs": [
    {
     "data": {
      "text/html": [
       "<div>\n",
       "<style scoped>\n",
       "    .dataframe tbody tr th:only-of-type {\n",
       "        vertical-align: middle;\n",
       "    }\n",
       "\n",
       "    .dataframe tbody tr th {\n",
       "        vertical-align: top;\n",
       "    }\n",
       "\n",
       "    .dataframe thead th {\n",
       "        text-align: right;\n",
       "    }\n",
       "</style>\n",
       "<table border=\"1\" class=\"dataframe\">\n",
       "  <thead>\n",
       "    <tr style=\"text-align: right;\">\n",
       "      <th></th>\n",
       "      <th>Timestamp</th>\n",
       "      <th>State</th>\n",
       "      <th>Offer ID</th>\n",
       "      <th>Customer ID</th>\n",
       "      <th>Channel Type</th>\n",
       "      <th>Retailer</th>\n",
       "      <th>Product</th>\n",
       "      <th>DayofWeek</th>\n",
       "    </tr>\n",
       "  </thead>\n",
       "  <tbody>\n",
       "    <tr>\n",
       "      <th>0</th>\n",
       "      <td>2018-03-05 00:57:36</td>\n",
       "      <td>Offer Viewed</td>\n",
       "      <td>583728</td>\n",
       "      <td>227728</td>\n",
       "      <td>SMS</td>\n",
       "      <td>Fred's</td>\n",
       "      <td>Slim Jim</td>\n",
       "      <td>0</td>\n",
       "    </tr>\n",
       "    <tr>\n",
       "      <th>1</th>\n",
       "      <td>2018-03-05 01:56:38</td>\n",
       "      <td>Offer Viewed</td>\n",
       "      <td>234098</td>\n",
       "      <td>25156</td>\n",
       "      <td>SMS</td>\n",
       "      <td>Fast Mart</td>\n",
       "      <td>Mountain Dew</td>\n",
       "      <td>0</td>\n",
       "    </tr>\n",
       "    <tr>\n",
       "      <th>2</th>\n",
       "      <td>2018-03-05 03:31:41</td>\n",
       "      <td>Offer Viewed</td>\n",
       "      <td>239480</td>\n",
       "      <td>370720</td>\n",
       "      <td>SMS</td>\n",
       "      <td>Quick Stop</td>\n",
       "      <td>Hot Dog</td>\n",
       "      <td>0</td>\n",
       "    </tr>\n",
       "    <tr>\n",
       "      <th>3</th>\n",
       "      <td>2018-03-05 03:38:53</td>\n",
       "      <td>Offer Viewed</td>\n",
       "      <td>583728</td>\n",
       "      <td>313788</td>\n",
       "      <td>Mobile App</td>\n",
       "      <td>Fred's</td>\n",
       "      <td>Slim Jim</td>\n",
       "      <td>0</td>\n",
       "    </tr>\n",
       "    <tr>\n",
       "      <th>4</th>\n",
       "      <td>2018-03-05 03:40:19</td>\n",
       "      <td>Offer Redeemed</td>\n",
       "      <td>495834</td>\n",
       "      <td>233024</td>\n",
       "      <td>SMS</td>\n",
       "      <td>Fast Mart</td>\n",
       "      <td>Coca Cola</td>\n",
       "      <td>0</td>\n",
       "    </tr>\n",
       "  </tbody>\n",
       "</table>\n",
       "</div>"
      ],
      "text/plain": [
       "            Timestamp           State  Offer ID  Customer ID Channel Type  \\\n",
       "0 2018-03-05 00:57:36    Offer Viewed    583728       227728          SMS   \n",
       "1 2018-03-05 01:56:38    Offer Viewed    234098        25156          SMS   \n",
       "2 2018-03-05 03:31:41    Offer Viewed    239480       370720          SMS   \n",
       "3 2018-03-05 03:38:53    Offer Viewed    583728       313788   Mobile App   \n",
       "4 2018-03-05 03:40:19  Offer Redeemed    495834       233024          SMS   \n",
       "\n",
       "     Retailer       Product  DayofWeek  \n",
       "0      Fred's      Slim Jim          0  \n",
       "1   Fast Mart  Mountain Dew          0  \n",
       "2  Quick Stop       Hot Dog          0  \n",
       "3      Fred's      Slim Jim          0  \n",
       "4   Fast Mart     Coca Cola          0  "
      ]
     },
     "execution_count": 351,
     "metadata": {},
     "output_type": "execute_result"
    }
   ],
   "source": [
    "offerData.head()"
   ]
  },
  {
   "cell_type": "markdown",
   "metadata": {},
   "source": [
    "### Creating Day of Week dictionary to map "
   ]
  },
  {
   "cell_type": "code",
   "execution_count": 352,
   "metadata": {},
   "outputs": [
    {
     "data": {
      "text/plain": [
       "['Monday', 'Tuesday', 'Wednesday', 'Thursday', 'Friday', 'Saturday', 'Sunday']"
      ]
     },
     "execution_count": 352,
     "metadata": {},
     "output_type": "execute_result"
    }
   ],
   "source": [
    "import calendar\n",
    "dayList = list(calendar.day_name)\n",
    "dayList"
   ]
  },
  {
   "cell_type": "code",
   "execution_count": 353,
   "metadata": {},
   "outputs": [
    {
     "data": {
      "text/plain": [
       "{0: 'Monday',\n",
       " 1: 'Tuesday',\n",
       " 2: 'Wednesday',\n",
       " 3: 'Thursday',\n",
       " 4: 'Friday',\n",
       " 5: 'Saturday',\n",
       " 6: 'Sunday'}"
      ]
     },
     "execution_count": 353,
     "metadata": {},
     "output_type": "execute_result"
    }
   ],
   "source": [
    "\n",
    "dayofweekDict = {}\n",
    "for i in range(0,7):\n",
    "    dayofweekDict[i] = dayList[i]\n",
    "\n",
    "dayofweekDict"
   ]
  },
  {
   "cell_type": "code",
   "execution_count": 354,
   "metadata": {},
   "outputs": [],
   "source": [
    "offerData[\"DayofWeek\"] = offerData[\"DayofWeek\"].map(dayofweekDict)"
   ]
  },
  {
   "cell_type": "code",
   "execution_count": 355,
   "metadata": {},
   "outputs": [
    {
     "data": {
      "text/plain": [
       "<Figure size 864x360 with 0 Axes>"
      ]
     },
     "execution_count": 355,
     "metadata": {},
     "output_type": "execute_result"
    },
    {
     "data": {
      "text/plain": [
       "Text(0.5, 1.0, 'Offer Activity by Day of Week')"
      ]
     },
     "execution_count": 355,
     "metadata": {},
     "output_type": "execute_result"
    },
    {
     "data": {
      "text/plain": [
       "<matplotlib.axes._subplots.AxesSubplot at 0x1a49a5e748>"
      ]
     },
     "execution_count": 355,
     "metadata": {},
     "output_type": "execute_result"
    },
    {
     "data": {
      "image/png": "[encoded data removed]",
      "text/plain": [
       "<Figure size 864x360 with 1 Axes>"
      ]
     },
     "metadata": {
      "needs_background": "light"
     },
     "output_type": "display_data"
    }
   ],
   "source": [
    "plt.figure(figsize = (12,5))\n",
    "plt.title(\"Offer Activity by Day of Week\", fontdict={\"fontsize\": 15})\n",
    "sns.countplot(offerData[\"DayofWeek\"], hue = offerData[\"State\"])"
   ]
  },
  {
   "cell_type": "markdown",
   "metadata": {},
   "source": [
    "#### Analysis"
   ]
  },
  {
   "cell_type": "markdown",
   "metadata": {},
   "source": [
    "We see trends that would make typical common sense of when offers would most often be viewed and redeemed. \n",
    "The day with the highest offer views and redemption is Friday.\n",
    "It is understandable customers will be in a spending mood at the start of the weekend and pay day.  \n",
    "Also, Sundays are quiet, as most customers are most likely spending time with family, running erands, meal prepping, etc., and off online mediums. "
   ]
  },
  {
   "cell_type": "markdown",
   "metadata": {},
   "source": [
    "### Offers by Hour of Day"
   ]
  },
  {
   "cell_type": "code",
   "execution_count": 356,
   "metadata": {},
   "outputs": [
    {
     "data": {
      "text/html": [
       "<div>\n",
       "<style scoped>\n",
       "    .dataframe tbody tr th:only-of-type {\n",
       "        vertical-align: middle;\n",
       "    }\n",
       "\n",
       "    .dataframe tbody tr th {\n",
       "        vertical-align: top;\n",
       "    }\n",
       "\n",
       "    .dataframe thead th {\n",
       "        text-align: right;\n",
       "    }\n",
       "</style>\n",
       "<table border=\"1\" class=\"dataframe\">\n",
       "  <thead>\n",
       "    <tr style=\"text-align: right;\">\n",
       "      <th></th>\n",
       "      <th>Timestamp</th>\n",
       "      <th>State</th>\n",
       "      <th>Offer ID</th>\n",
       "      <th>Customer ID</th>\n",
       "      <th>Channel Type</th>\n",
       "      <th>Retailer</th>\n",
       "      <th>Product</th>\n",
       "      <th>DayofWeek</th>\n",
       "      <th>Hour of Day</th>\n",
       "    </tr>\n",
       "  </thead>\n",
       "  <tbody>\n",
       "    <tr>\n",
       "      <th>0</th>\n",
       "      <td>2018-03-05 00:57:36</td>\n",
       "      <td>Offer Viewed</td>\n",
       "      <td>583728</td>\n",
       "      <td>227728</td>\n",
       "      <td>SMS</td>\n",
       "      <td>Fred's</td>\n",
       "      <td>Slim Jim</td>\n",
       "      <td>Monday</td>\n",
       "      <td>0</td>\n",
       "    </tr>\n",
       "    <tr>\n",
       "      <th>1</th>\n",
       "      <td>2018-03-05 01:56:38</td>\n",
       "      <td>Offer Viewed</td>\n",
       "      <td>234098</td>\n",
       "      <td>25156</td>\n",
       "      <td>SMS</td>\n",
       "      <td>Fast Mart</td>\n",
       "      <td>Mountain Dew</td>\n",
       "      <td>Monday</td>\n",
       "      <td>1</td>\n",
       "    </tr>\n",
       "    <tr>\n",
       "      <th>2</th>\n",
       "      <td>2018-03-05 03:31:41</td>\n",
       "      <td>Offer Viewed</td>\n",
       "      <td>239480</td>\n",
       "      <td>370720</td>\n",
       "      <td>SMS</td>\n",
       "      <td>Quick Stop</td>\n",
       "      <td>Hot Dog</td>\n",
       "      <td>Monday</td>\n",
       "      <td>3</td>\n",
       "    </tr>\n",
       "    <tr>\n",
       "      <th>3</th>\n",
       "      <td>2018-03-05 03:38:53</td>\n",
       "      <td>Offer Viewed</td>\n",
       "      <td>583728</td>\n",
       "      <td>313788</td>\n",
       "      <td>Mobile App</td>\n",
       "      <td>Fred's</td>\n",
       "      <td>Slim Jim</td>\n",
       "      <td>Monday</td>\n",
       "      <td>3</td>\n",
       "    </tr>\n",
       "    <tr>\n",
       "      <th>4</th>\n",
       "      <td>2018-03-05 03:40:19</td>\n",
       "      <td>Offer Redeemed</td>\n",
       "      <td>495834</td>\n",
       "      <td>233024</td>\n",
       "      <td>SMS</td>\n",
       "      <td>Fast Mart</td>\n",
       "      <td>Coca Cola</td>\n",
       "      <td>Monday</td>\n",
       "      <td>3</td>\n",
       "    </tr>\n",
       "  </tbody>\n",
       "</table>\n",
       "</div>"
      ],
      "text/plain": [
       "            Timestamp           State  Offer ID  Customer ID Channel Type  \\\n",
       "0 2018-03-05 00:57:36    Offer Viewed    583728       227728          SMS   \n",
       "1 2018-03-05 01:56:38    Offer Viewed    234098        25156          SMS   \n",
       "2 2018-03-05 03:31:41    Offer Viewed    239480       370720          SMS   \n",
       "3 2018-03-05 03:38:53    Offer Viewed    583728       313788   Mobile App   \n",
       "4 2018-03-05 03:40:19  Offer Redeemed    495834       233024          SMS   \n",
       "\n",
       "     Retailer       Product DayofWeek  Hour of Day  \n",
       "0      Fred's      Slim Jim    Monday            0  \n",
       "1   Fast Mart  Mountain Dew    Monday            1  \n",
       "2  Quick Stop       Hot Dog    Monday            3  \n",
       "3      Fred's      Slim Jim    Monday            3  \n",
       "4   Fast Mart     Coca Cola    Monday            3  "
      ]
     },
     "execution_count": 356,
     "metadata": {},
     "output_type": "execute_result"
    }
   ],
   "source": [
    "offerData[\"Hour of Day\"] = offerData[\"Timestamp\"].apply(lambda x: x.hour)\n",
    "offerData.head()"
   ]
  },
  {
   "cell_type": "code",
   "execution_count": 357,
   "metadata": {},
   "outputs": [
    {
     "data": {
      "text/plain": [
       "<Figure size 864x360 with 0 Axes>"
      ]
     },
     "execution_count": 357,
     "metadata": {},
     "output_type": "execute_result"
    },
    {
     "data": {
      "text/plain": [
       "Text(0.5, 1.0, 'Offer Activity by Hour of Day')"
      ]
     },
     "execution_count": 357,
     "metadata": {},
     "output_type": "execute_result"
    },
    {
     "data": {
      "text/plain": [
       "<matplotlib.axes._subplots.AxesSubplot at 0x1a45d68240>"
      ]
     },
     "execution_count": 357,
     "metadata": {},
     "output_type": "execute_result"
    },
    {
     "data": {
      "image/png": "[encoded data removed]",
      "text/plain": [
       "<Figure size 864x360 with 1 Axes>"
      ]
     },
     "metadata": {
      "needs_background": "light"
     },
     "output_type": "display_data"
    }
   ],
   "source": [
    "plt.figure(figsize = (12,5))\n",
    "plt.title(\"Offer Activity by Hour of Day\")\n",
    "sns.countplot(offerData[\"Hour of Day\"], hue = offerData[\"State\"])"
   ]
  },
  {
   "cell_type": "markdown",
   "metadata": {},
   "source": [
    "#### Analysis"
   ]
  },
  {
   "cell_type": "markdown",
   "metadata": {},
   "source": [
    "Again, as common sense would predict, most offers are viewed on times where customers are not working.  \n",
    "Assuming most customers spend most of their time at work, 5 days a week, the highest offer views occur at noon where the typical lunch break occurs.\n",
    "The next uptick in offer views and redemptions occurs after work between 5pm - 8pm.\n",
    "The third most active hours for offers to be viewed is in the early morning between 6-9am, where most likely customers are waking up and casually browsing their devices."
   ]
  },
  {
   "cell_type": "markdown",
   "metadata": {},
   "source": [
    "# POS Related Questions"
   ]
  },
  {
   "cell_type": "markdown",
   "metadata": {},
   "source": [
    "In the POS data, each unique transaction ID represents a customer transaction or in retail terms, a “basket.” As you can see, some customers only buy one product, others buy many. Here are some of the things I’d like you to answer in the second portion of the deck:\n",
    "\n",
    "1.  How many items does the average customer buy?\n",
    "2.  How much does the average customer spend?\n",
    "3.  What’s the statsical distribution of how much a customer spends or how many items they buy?\n",
    "4.  How do these metrics vary by retailer?\n",
    "5.  How do the products compare to each other in terms of popularity and price?\n",
    "6.  How are purchase patterns impacted by time of day or day of the week?\n",
    "7.  Are there products that are more likely to be purchased together? If so, can you quantify this?"
   ]
  },
  {
   "cell_type": "markdown",
   "metadata": {},
   "source": [
    "### Read In Data Set"
   ]
  },
  {
   "cell_type": "code",
   "execution_count": 358,
   "metadata": {},
   "outputs": [
    {
     "data": {
      "text/html": [
       "<div>\n",
       "<style scoped>\n",
       "    .dataframe tbody tr th:only-of-type {\n",
       "        vertical-align: middle;\n",
       "    }\n",
       "\n",
       "    .dataframe tbody tr th {\n",
       "        vertical-align: top;\n",
       "    }\n",
       "\n",
       "    .dataframe thead th {\n",
       "        text-align: right;\n",
       "    }\n",
       "</style>\n",
       "<table border=\"1\" class=\"dataframe\">\n",
       "  <thead>\n",
       "    <tr style=\"text-align: right;\">\n",
       "      <th></th>\n",
       "      <th>Timestamp</th>\n",
       "      <th>Transaction Number</th>\n",
       "      <th>Product UPC Number</th>\n",
       "      <th>Price</th>\n",
       "      <th>Retailer</th>\n",
       "    </tr>\n",
       "  </thead>\n",
       "  <tbody>\n",
       "    <tr>\n",
       "      <th>0</th>\n",
       "      <td>2018-03-02 08:15:50.000</td>\n",
       "      <td>123098</td>\n",
       "      <td>111100001234</td>\n",
       "      <td>1.80</td>\n",
       "      <td>Fast Mart</td>\n",
       "    </tr>\n",
       "    <tr>\n",
       "      <th>1</th>\n",
       "      <td>2018-03-02 08:15:50.000</td>\n",
       "      <td>123098</td>\n",
       "      <td>111100001235</td>\n",
       "      <td>23.45</td>\n",
       "      <td>Fast Mart</td>\n",
       "    </tr>\n",
       "    <tr>\n",
       "      <th>2</th>\n",
       "      <td>2018-03-02 08:15:50.000</td>\n",
       "      <td>123098</td>\n",
       "      <td>111100001236</td>\n",
       "      <td>6.99</td>\n",
       "      <td>Fast Mart</td>\n",
       "    </tr>\n",
       "    <tr>\n",
       "      <th>3</th>\n",
       "      <td>2018-03-02 08:19:51.920</td>\n",
       "      <td>123099</td>\n",
       "      <td>111100001236</td>\n",
       "      <td>6.99</td>\n",
       "      <td>Quick Stop</td>\n",
       "    </tr>\n",
       "    <tr>\n",
       "      <th>4</th>\n",
       "      <td>2018-03-02 08:19:51.920</td>\n",
       "      <td>123099</td>\n",
       "      <td>111100001237</td>\n",
       "      <td>7.15</td>\n",
       "      <td>Quick Stop</td>\n",
       "    </tr>\n",
       "  </tbody>\n",
       "</table>\n",
       "</div>"
      ],
      "text/plain": [
       "                Timestamp  Transaction Number  Product UPC Number  Price  \\\n",
       "0 2018-03-02 08:15:50.000              123098        111100001234   1.80   \n",
       "1 2018-03-02 08:15:50.000              123098        111100001235  23.45   \n",
       "2 2018-03-02 08:15:50.000              123098        111100001236   6.99   \n",
       "3 2018-03-02 08:19:51.920              123099        111100001236   6.99   \n",
       "4 2018-03-02 08:19:51.920              123099        111100001237   7.15   \n",
       "\n",
       "     Retailer  \n",
       "0   Fast Mart  \n",
       "1   Fast Mart  \n",
       "2   Fast Mart  \n",
       "3  Quick Stop  \n",
       "4  Quick Stop  "
      ]
     },
     "execution_count": 358,
     "metadata": {},
     "output_type": "execute_result"
    },
    {
     "name": "stdout",
     "output_type": "stream",
     "text": [
      "<class 'pandas.core.frame.DataFrame'>\n",
      "RangeIndex: 1395 entries, 0 to 1394\n",
      "Data columns (total 5 columns):\n",
      "Timestamp             1395 non-null datetime64[ns]\n",
      "Transaction Number    1395 non-null int64\n",
      "Product UPC Number    1395 non-null int64\n",
      "Price                 1395 non-null float64\n",
      "Retailer              1395 non-null object\n",
      "dtypes: datetime64[ns](1), float64(1), int64(2), object(1)\n",
      "memory usage: 54.6+ KB\n"
     ]
    }
   ],
   "source": [
    "pos = pd.read_excel(\"Sample Data Worksheet.xlsx\", sheet_name=\"POS Data\")\n",
    "pos.head()\n",
    "pos.info()"
   ]
  },
  {
   "cell_type": "markdown",
   "metadata": {},
   "source": [
    "## 1.  How many items does the average customer buy?"
   ]
  },
  {
   "cell_type": "code",
   "execution_count": 589,
   "metadata": {},
   "outputs": [
    {
     "data": {
      "text/html": [
       "<div>\n",
       "<style scoped>\n",
       "    .dataframe tbody tr th:only-of-type {\n",
       "        vertical-align: middle;\n",
       "    }\n",
       "\n",
       "    .dataframe tbody tr th {\n",
       "        vertical-align: top;\n",
       "    }\n",
       "\n",
       "    .dataframe thead th {\n",
       "        text-align: right;\n",
       "    }\n",
       "</style>\n",
       "<table border=\"1\" class=\"dataframe\">\n",
       "  <thead>\n",
       "    <tr style=\"text-align: right;\">\n",
       "      <th></th>\n",
       "      <th>count</th>\n",
       "      <th>mean</th>\n",
       "      <th>std</th>\n",
       "      <th>min</th>\n",
       "      <th>25%</th>\n",
       "      <th>50%</th>\n",
       "      <th>75%</th>\n",
       "      <th>max</th>\n",
       "    </tr>\n",
       "    <tr>\n",
       "      <th>Transaction Number</th>\n",
       "      <th></th>\n",
       "      <th></th>\n",
       "      <th></th>\n",
       "      <th></th>\n",
       "      <th></th>\n",
       "      <th></th>\n",
       "      <th></th>\n",
       "      <th></th>\n",
       "    </tr>\n",
       "  </thead>\n",
       "  <tbody>\n",
       "    <tr>\n",
       "      <th>123098</th>\n",
       "      <td>3.0</td>\n",
       "      <td>10.746667</td>\n",
       "      <td>11.303320</td>\n",
       "      <td>1.80</td>\n",
       "      <td>4.3950</td>\n",
       "      <td>6.990</td>\n",
       "      <td>15.2200</td>\n",
       "      <td>23.45</td>\n",
       "    </tr>\n",
       "    <tr>\n",
       "      <th>123099</th>\n",
       "      <td>4.0</td>\n",
       "      <td>5.705000</td>\n",
       "      <td>2.784355</td>\n",
       "      <td>1.53</td>\n",
       "      <td>5.6250</td>\n",
       "      <td>7.070</td>\n",
       "      <td>7.1500</td>\n",
       "      <td>7.15</td>\n",
       "    </tr>\n",
       "    <tr>\n",
       "      <th>123100</th>\n",
       "      <td>5.0</td>\n",
       "      <td>1.296000</td>\n",
       "      <td>0.341731</td>\n",
       "      <td>0.99</td>\n",
       "      <td>0.9900</td>\n",
       "      <td>1.250</td>\n",
       "      <td>1.4500</td>\n",
       "      <td>1.80</td>\n",
       "    </tr>\n",
       "    <tr>\n",
       "      <th>123101</th>\n",
       "      <td>5.0</td>\n",
       "      <td>17.674000</td>\n",
       "      <td>9.211052</td>\n",
       "      <td>1.49</td>\n",
       "      <td>19.9900</td>\n",
       "      <td>19.990</td>\n",
       "      <td>23.4500</td>\n",
       "      <td>23.45</td>\n",
       "    </tr>\n",
       "    <tr>\n",
       "      <th>123102</th>\n",
       "      <td>3.0</td>\n",
       "      <td>5.296667</td>\n",
       "      <td>3.072545</td>\n",
       "      <td>1.75</td>\n",
       "      <td>4.3700</td>\n",
       "      <td>6.990</td>\n",
       "      <td>7.0700</td>\n",
       "      <td>7.15</td>\n",
       "    </tr>\n",
       "    <tr>\n",
       "      <th>123103</th>\n",
       "      <td>11.0</td>\n",
       "      <td>4.642727</td>\n",
       "      <td>5.719789</td>\n",
       "      <td>0.89</td>\n",
       "      <td>1.4050</td>\n",
       "      <td>1.560</td>\n",
       "      <td>7.0450</td>\n",
       "      <td>19.99</td>\n",
       "    </tr>\n",
       "    <tr>\n",
       "      <th>123104</th>\n",
       "      <td>9.0</td>\n",
       "      <td>10.081111</td>\n",
       "      <td>11.650081</td>\n",
       "      <td>1.25</td>\n",
       "      <td>1.5300</td>\n",
       "      <td>1.750</td>\n",
       "      <td>24.9900</td>\n",
       "      <td>25.65</td>\n",
       "    </tr>\n",
       "    <tr>\n",
       "      <th>123105</th>\n",
       "      <td>3.0</td>\n",
       "      <td>15.733333</td>\n",
       "      <td>12.596485</td>\n",
       "      <td>1.56</td>\n",
       "      <td>10.7750</td>\n",
       "      <td>19.990</td>\n",
       "      <td>22.8200</td>\n",
       "      <td>25.65</td>\n",
       "    </tr>\n",
       "    <tr>\n",
       "      <th>123106</th>\n",
       "      <td>3.0</td>\n",
       "      <td>3.383333</td>\n",
       "      <td>3.131203</td>\n",
       "      <td>1.36</td>\n",
       "      <td>1.5800</td>\n",
       "      <td>1.800</td>\n",
       "      <td>4.3950</td>\n",
       "      <td>6.99</td>\n",
       "    </tr>\n",
       "    <tr>\n",
       "      <th>123107</th>\n",
       "      <td>3.0</td>\n",
       "      <td>3.366667</td>\n",
       "      <td>3.143952</td>\n",
       "      <td>1.36</td>\n",
       "      <td>1.5550</td>\n",
       "      <td>1.750</td>\n",
       "      <td>4.3700</td>\n",
       "      <td>6.99</td>\n",
       "    </tr>\n",
       "    <tr>\n",
       "      <th>123108</th>\n",
       "      <td>2.0</td>\n",
       "      <td>1.470000</td>\n",
       "      <td>0.028284</td>\n",
       "      <td>1.45</td>\n",
       "      <td>1.4600</td>\n",
       "      <td>1.470</td>\n",
       "      <td>1.4800</td>\n",
       "      <td>1.49</td>\n",
       "    </tr>\n",
       "    <tr>\n",
       "      <th>123109</th>\n",
       "      <td>1.0</td>\n",
       "      <td>6.990000</td>\n",
       "      <td>NaN</td>\n",
       "      <td>6.99</td>\n",
       "      <td>6.9900</td>\n",
       "      <td>6.990</td>\n",
       "      <td>6.9900</td>\n",
       "      <td>6.99</td>\n",
       "    </tr>\n",
       "    <tr>\n",
       "      <th>123110</th>\n",
       "      <td>3.0</td>\n",
       "      <td>8.666667</td>\n",
       "      <td>12.805914</td>\n",
       "      <td>0.99</td>\n",
       "      <td>1.2750</td>\n",
       "      <td>1.560</td>\n",
       "      <td>12.5050</td>\n",
       "      <td>23.45</td>\n",
       "    </tr>\n",
       "    <tr>\n",
       "      <th>123111</th>\n",
       "      <td>7.0</td>\n",
       "      <td>15.245714</td>\n",
       "      <td>11.363042</td>\n",
       "      <td>1.36</td>\n",
       "      <td>4.2400</td>\n",
       "      <td>23.450</td>\n",
       "      <td>24.2200</td>\n",
       "      <td>24.99</td>\n",
       "    </tr>\n",
       "    <tr>\n",
       "      <th>123112</th>\n",
       "      <td>1.0</td>\n",
       "      <td>1.560000</td>\n",
       "      <td>NaN</td>\n",
       "      <td>1.56</td>\n",
       "      <td>1.5600</td>\n",
       "      <td>1.560</td>\n",
       "      <td>1.5600</td>\n",
       "      <td>1.56</td>\n",
       "    </tr>\n",
       "    <tr>\n",
       "      <th>123113</th>\n",
       "      <td>1.0</td>\n",
       "      <td>24.990000</td>\n",
       "      <td>NaN</td>\n",
       "      <td>24.99</td>\n",
       "      <td>24.9900</td>\n",
       "      <td>24.990</td>\n",
       "      <td>24.9900</td>\n",
       "      <td>24.99</td>\n",
       "    </tr>\n",
       "    <tr>\n",
       "      <th>123114</th>\n",
       "      <td>5.0</td>\n",
       "      <td>18.982000</td>\n",
       "      <td>9.989260</td>\n",
       "      <td>1.49</td>\n",
       "      <td>19.9900</td>\n",
       "      <td>23.450</td>\n",
       "      <td>24.9900</td>\n",
       "      <td>24.99</td>\n",
       "    </tr>\n",
       "    <tr>\n",
       "      <th>123115</th>\n",
       "      <td>1.0</td>\n",
       "      <td>7.150000</td>\n",
       "      <td>NaN</td>\n",
       "      <td>7.15</td>\n",
       "      <td>7.1500</td>\n",
       "      <td>7.150</td>\n",
       "      <td>7.1500</td>\n",
       "      <td>7.15</td>\n",
       "    </tr>\n",
       "    <tr>\n",
       "      <th>123116</th>\n",
       "      <td>3.0</td>\n",
       "      <td>9.593333</td>\n",
       "      <td>9.370274</td>\n",
       "      <td>1.80</td>\n",
       "      <td>4.3950</td>\n",
       "      <td>6.990</td>\n",
       "      <td>13.4900</td>\n",
       "      <td>19.99</td>\n",
       "    </tr>\n",
       "    <tr>\n",
       "      <th>123117</th>\n",
       "      <td>2.0</td>\n",
       "      <td>4.045000</td>\n",
       "      <td>4.320422</td>\n",
       "      <td>0.99</td>\n",
       "      <td>2.5175</td>\n",
       "      <td>4.045</td>\n",
       "      <td>5.5725</td>\n",
       "      <td>7.10</td>\n",
       "    </tr>\n",
       "    <tr>\n",
       "      <th>123118</th>\n",
       "      <td>1.0</td>\n",
       "      <td>0.990000</td>\n",
       "      <td>NaN</td>\n",
       "      <td>0.99</td>\n",
       "      <td>0.9900</td>\n",
       "      <td>0.990</td>\n",
       "      <td>0.9900</td>\n",
       "      <td>0.99</td>\n",
       "    </tr>\n",
       "    <tr>\n",
       "      <th>123119</th>\n",
       "      <td>3.0</td>\n",
       "      <td>17.093333</td>\n",
       "      <td>13.677428</td>\n",
       "      <td>1.30</td>\n",
       "      <td>13.1450</td>\n",
       "      <td>24.990</td>\n",
       "      <td>24.9900</td>\n",
       "      <td>24.99</td>\n",
       "    </tr>\n",
       "    <tr>\n",
       "      <th>123120</th>\n",
       "      <td>1.0</td>\n",
       "      <td>1.800000</td>\n",
       "      <td>NaN</td>\n",
       "      <td>1.80</td>\n",
       "      <td>1.8000</td>\n",
       "      <td>1.800</td>\n",
       "      <td>1.8000</td>\n",
       "      <td>1.80</td>\n",
       "    </tr>\n",
       "    <tr>\n",
       "      <th>123121</th>\n",
       "      <td>2.0</td>\n",
       "      <td>12.470000</td>\n",
       "      <td>15.528065</td>\n",
       "      <td>1.49</td>\n",
       "      <td>6.9800</td>\n",
       "      <td>12.470</td>\n",
       "      <td>17.9600</td>\n",
       "      <td>23.45</td>\n",
       "    </tr>\n",
       "    <tr>\n",
       "      <th>123122</th>\n",
       "      <td>1.0</td>\n",
       "      <td>1.300000</td>\n",
       "      <td>NaN</td>\n",
       "      <td>1.30</td>\n",
       "      <td>1.3000</td>\n",
       "      <td>1.300</td>\n",
       "      <td>1.3000</td>\n",
       "      <td>1.30</td>\n",
       "    </tr>\n",
       "    <tr>\n",
       "      <th>123123</th>\n",
       "      <td>7.0</td>\n",
       "      <td>10.680000</td>\n",
       "      <td>10.330699</td>\n",
       "      <td>1.36</td>\n",
       "      <td>4.2300</td>\n",
       "      <td>7.150</td>\n",
       "      <td>16.0700</td>\n",
       "      <td>25.65</td>\n",
       "    </tr>\n",
       "    <tr>\n",
       "      <th>123124</th>\n",
       "      <td>1.0</td>\n",
       "      <td>2.300000</td>\n",
       "      <td>NaN</td>\n",
       "      <td>2.30</td>\n",
       "      <td>2.3000</td>\n",
       "      <td>2.300</td>\n",
       "      <td>2.3000</td>\n",
       "      <td>2.30</td>\n",
       "    </tr>\n",
       "    <tr>\n",
       "      <th>123125</th>\n",
       "      <td>1.0</td>\n",
       "      <td>6.990000</td>\n",
       "      <td>NaN</td>\n",
       "      <td>6.99</td>\n",
       "      <td>6.9900</td>\n",
       "      <td>6.990</td>\n",
       "      <td>6.9900</td>\n",
       "      <td>6.99</td>\n",
       "    </tr>\n",
       "    <tr>\n",
       "      <th>123126</th>\n",
       "      <td>2.0</td>\n",
       "      <td>11.145000</td>\n",
       "      <td>12.508719</td>\n",
       "      <td>2.30</td>\n",
       "      <td>6.7225</td>\n",
       "      <td>11.145</td>\n",
       "      <td>15.5675</td>\n",
       "      <td>19.99</td>\n",
       "    </tr>\n",
       "    <tr>\n",
       "      <th>123127</th>\n",
       "      <td>4.0</td>\n",
       "      <td>12.065000</td>\n",
       "      <td>12.209924</td>\n",
       "      <td>1.53</td>\n",
       "      <td>1.6950</td>\n",
       "      <td>10.870</td>\n",
       "      <td>21.2400</td>\n",
       "      <td>24.99</td>\n",
       "    </tr>\n",
       "    <tr>\n",
       "      <th>...</th>\n",
       "      <td>...</td>\n",
       "      <td>...</td>\n",
       "      <td>...</td>\n",
       "      <td>...</td>\n",
       "      <td>...</td>\n",
       "      <td>...</td>\n",
       "      <td>...</td>\n",
       "      <td>...</td>\n",
       "    </tr>\n",
       "    <tr>\n",
       "      <th>123603</th>\n",
       "      <td>4.0</td>\n",
       "      <td>13.155000</td>\n",
       "      <td>13.670390</td>\n",
       "      <td>0.89</td>\n",
       "      <td>1.5350</td>\n",
       "      <td>13.370</td>\n",
       "      <td>24.9900</td>\n",
       "      <td>24.99</td>\n",
       "    </tr>\n",
       "    <tr>\n",
       "      <th>123604</th>\n",
       "      <td>1.0</td>\n",
       "      <td>1.800000</td>\n",
       "      <td>NaN</td>\n",
       "      <td>1.80</td>\n",
       "      <td>1.8000</td>\n",
       "      <td>1.800</td>\n",
       "      <td>1.8000</td>\n",
       "      <td>1.80</td>\n",
       "    </tr>\n",
       "    <tr>\n",
       "      <th>123605</th>\n",
       "      <td>1.0</td>\n",
       "      <td>24.990000</td>\n",
       "      <td>NaN</td>\n",
       "      <td>24.99</td>\n",
       "      <td>24.9900</td>\n",
       "      <td>24.990</td>\n",
       "      <td>24.9900</td>\n",
       "      <td>24.99</td>\n",
       "    </tr>\n",
       "    <tr>\n",
       "      <th>123606</th>\n",
       "      <td>1.0</td>\n",
       "      <td>19.990000</td>\n",
       "      <td>NaN</td>\n",
       "      <td>19.99</td>\n",
       "      <td>19.9900</td>\n",
       "      <td>19.990</td>\n",
       "      <td>19.9900</td>\n",
       "      <td>19.99</td>\n",
       "    </tr>\n",
       "    <tr>\n",
       "      <th>123607</th>\n",
       "      <td>2.0</td>\n",
       "      <td>1.490000</td>\n",
       "      <td>0.000000</td>\n",
       "      <td>1.49</td>\n",
       "      <td>1.4900</td>\n",
       "      <td>1.490</td>\n",
       "      <td>1.4900</td>\n",
       "      <td>1.49</td>\n",
       "    </tr>\n",
       "    <tr>\n",
       "      <th>123608</th>\n",
       "      <td>1.0</td>\n",
       "      <td>7.100000</td>\n",
       "      <td>NaN</td>\n",
       "      <td>7.10</td>\n",
       "      <td>7.1000</td>\n",
       "      <td>7.100</td>\n",
       "      <td>7.1000</td>\n",
       "      <td>7.10</td>\n",
       "    </tr>\n",
       "    <tr>\n",
       "      <th>123609</th>\n",
       "      <td>1.0</td>\n",
       "      <td>2.300000</td>\n",
       "      <td>NaN</td>\n",
       "      <td>2.30</td>\n",
       "      <td>2.3000</td>\n",
       "      <td>2.300</td>\n",
       "      <td>2.3000</td>\n",
       "      <td>2.30</td>\n",
       "    </tr>\n",
       "    <tr>\n",
       "      <th>123610</th>\n",
       "      <td>2.0</td>\n",
       "      <td>1.580000</td>\n",
       "      <td>0.311127</td>\n",
       "      <td>1.36</td>\n",
       "      <td>1.4700</td>\n",
       "      <td>1.580</td>\n",
       "      <td>1.6900</td>\n",
       "      <td>1.80</td>\n",
       "    </tr>\n",
       "    <tr>\n",
       "      <th>123611</th>\n",
       "      <td>1.0</td>\n",
       "      <td>1.300000</td>\n",
       "      <td>NaN</td>\n",
       "      <td>1.30</td>\n",
       "      <td>1.3000</td>\n",
       "      <td>1.300</td>\n",
       "      <td>1.3000</td>\n",
       "      <td>1.30</td>\n",
       "    </tr>\n",
       "    <tr>\n",
       "      <th>123612</th>\n",
       "      <td>2.0</td>\n",
       "      <td>1.305000</td>\n",
       "      <td>0.077782</td>\n",
       "      <td>1.25</td>\n",
       "      <td>1.2775</td>\n",
       "      <td>1.305</td>\n",
       "      <td>1.3325</td>\n",
       "      <td>1.36</td>\n",
       "    </tr>\n",
       "    <tr>\n",
       "      <th>123613</th>\n",
       "      <td>1.0</td>\n",
       "      <td>1.360000</td>\n",
       "      <td>NaN</td>\n",
       "      <td>1.36</td>\n",
       "      <td>1.3600</td>\n",
       "      <td>1.360</td>\n",
       "      <td>1.3600</td>\n",
       "      <td>1.36</td>\n",
       "    </tr>\n",
       "    <tr>\n",
       "      <th>123614</th>\n",
       "      <td>3.0</td>\n",
       "      <td>7.443333</td>\n",
       "      <td>10.869339</td>\n",
       "      <td>0.89</td>\n",
       "      <td>1.1700</td>\n",
       "      <td>1.450</td>\n",
       "      <td>10.7200</td>\n",
       "      <td>19.99</td>\n",
       "    </tr>\n",
       "    <tr>\n",
       "      <th>123615</th>\n",
       "      <td>3.0</td>\n",
       "      <td>16.086667</td>\n",
       "      <td>12.753667</td>\n",
       "      <td>1.36</td>\n",
       "      <td>12.4050</td>\n",
       "      <td>23.450</td>\n",
       "      <td>23.4500</td>\n",
       "      <td>23.45</td>\n",
       "    </tr>\n",
       "    <tr>\n",
       "      <th>123616</th>\n",
       "      <td>3.0</td>\n",
       "      <td>3.450000</td>\n",
       "      <td>3.068078</td>\n",
       "      <td>1.56</td>\n",
       "      <td>1.6800</td>\n",
       "      <td>1.800</td>\n",
       "      <td>4.3950</td>\n",
       "      <td>6.99</td>\n",
       "    </tr>\n",
       "    <tr>\n",
       "      <th>123617</th>\n",
       "      <td>1.0</td>\n",
       "      <td>7.100000</td>\n",
       "      <td>NaN</td>\n",
       "      <td>7.10</td>\n",
       "      <td>7.1000</td>\n",
       "      <td>7.100</td>\n",
       "      <td>7.1000</td>\n",
       "      <td>7.10</td>\n",
       "    </tr>\n",
       "    <tr>\n",
       "      <th>123618</th>\n",
       "      <td>4.0</td>\n",
       "      <td>2.920000</td>\n",
       "      <td>2.827413</td>\n",
       "      <td>1.25</td>\n",
       "      <td>1.4600</td>\n",
       "      <td>1.640</td>\n",
       "      <td>3.1000</td>\n",
       "      <td>7.15</td>\n",
       "    </tr>\n",
       "    <tr>\n",
       "      <th>123619</th>\n",
       "      <td>2.0</td>\n",
       "      <td>1.625000</td>\n",
       "      <td>0.247487</td>\n",
       "      <td>1.45</td>\n",
       "      <td>1.5375</td>\n",
       "      <td>1.625</td>\n",
       "      <td>1.7125</td>\n",
       "      <td>1.80</td>\n",
       "    </tr>\n",
       "    <tr>\n",
       "      <th>123620</th>\n",
       "      <td>1.0</td>\n",
       "      <td>19.990000</td>\n",
       "      <td>NaN</td>\n",
       "      <td>19.99</td>\n",
       "      <td>19.9900</td>\n",
       "      <td>19.990</td>\n",
       "      <td>19.9900</td>\n",
       "      <td>19.99</td>\n",
       "    </tr>\n",
       "    <tr>\n",
       "      <th>123621</th>\n",
       "      <td>3.0</td>\n",
       "      <td>1.546667</td>\n",
       "      <td>0.195533</td>\n",
       "      <td>1.36</td>\n",
       "      <td>1.4450</td>\n",
       "      <td>1.530</td>\n",
       "      <td>1.6400</td>\n",
       "      <td>1.75</td>\n",
       "    </tr>\n",
       "    <tr>\n",
       "      <th>123622</th>\n",
       "      <td>2.0</td>\n",
       "      <td>4.315000</td>\n",
       "      <td>3.938585</td>\n",
       "      <td>1.53</td>\n",
       "      <td>2.9225</td>\n",
       "      <td>4.315</td>\n",
       "      <td>5.7075</td>\n",
       "      <td>7.10</td>\n",
       "    </tr>\n",
       "    <tr>\n",
       "      <th>123623</th>\n",
       "      <td>2.0</td>\n",
       "      <td>12.490000</td>\n",
       "      <td>15.499781</td>\n",
       "      <td>1.53</td>\n",
       "      <td>7.0100</td>\n",
       "      <td>12.490</td>\n",
       "      <td>17.9700</td>\n",
       "      <td>23.45</td>\n",
       "    </tr>\n",
       "    <tr>\n",
       "      <th>123624</th>\n",
       "      <td>1.0</td>\n",
       "      <td>0.990000</td>\n",
       "      <td>NaN</td>\n",
       "      <td>0.99</td>\n",
       "      <td>0.9900</td>\n",
       "      <td>0.990</td>\n",
       "      <td>0.9900</td>\n",
       "      <td>0.99</td>\n",
       "    </tr>\n",
       "    <tr>\n",
       "      <th>123625</th>\n",
       "      <td>4.0</td>\n",
       "      <td>16.080000</td>\n",
       "      <td>10.257180</td>\n",
       "      <td>0.89</td>\n",
       "      <td>15.2150</td>\n",
       "      <td>19.990</td>\n",
       "      <td>20.8550</td>\n",
       "      <td>23.45</td>\n",
       "    </tr>\n",
       "    <tr>\n",
       "      <th>123626</th>\n",
       "      <td>2.0</td>\n",
       "      <td>1.750000</td>\n",
       "      <td>0.000000</td>\n",
       "      <td>1.75</td>\n",
       "      <td>1.7500</td>\n",
       "      <td>1.750</td>\n",
       "      <td>1.7500</td>\n",
       "      <td>1.75</td>\n",
       "    </tr>\n",
       "    <tr>\n",
       "      <th>123627</th>\n",
       "      <td>2.0</td>\n",
       "      <td>1.645000</td>\n",
       "      <td>0.926310</td>\n",
       "      <td>0.99</td>\n",
       "      <td>1.3175</td>\n",
       "      <td>1.645</td>\n",
       "      <td>1.9725</td>\n",
       "      <td>2.30</td>\n",
       "    </tr>\n",
       "    <tr>\n",
       "      <th>123628</th>\n",
       "      <td>1.0</td>\n",
       "      <td>0.890000</td>\n",
       "      <td>NaN</td>\n",
       "      <td>0.89</td>\n",
       "      <td>0.8900</td>\n",
       "      <td>0.890</td>\n",
       "      <td>0.8900</td>\n",
       "      <td>0.89</td>\n",
       "    </tr>\n",
       "    <tr>\n",
       "      <th>123629</th>\n",
       "      <td>3.0</td>\n",
       "      <td>8.696667</td>\n",
       "      <td>12.783995</td>\n",
       "      <td>0.89</td>\n",
       "      <td>1.3200</td>\n",
       "      <td>1.750</td>\n",
       "      <td>12.6000</td>\n",
       "      <td>23.45</td>\n",
       "    </tr>\n",
       "    <tr>\n",
       "      <th>123630</th>\n",
       "      <td>8.0</td>\n",
       "      <td>6.023750</td>\n",
       "      <td>8.025406</td>\n",
       "      <td>1.45</td>\n",
       "      <td>1.5300</td>\n",
       "      <td>2.300</td>\n",
       "      <td>7.0175</td>\n",
       "      <td>24.99</td>\n",
       "    </tr>\n",
       "    <tr>\n",
       "      <th>123631</th>\n",
       "      <td>1.0</td>\n",
       "      <td>1.750000</td>\n",
       "      <td>NaN</td>\n",
       "      <td>1.75</td>\n",
       "      <td>1.7500</td>\n",
       "      <td>1.750</td>\n",
       "      <td>1.7500</td>\n",
       "      <td>1.75</td>\n",
       "    </tr>\n",
       "    <tr>\n",
       "      <th>123632</th>\n",
       "      <td>1.0</td>\n",
       "      <td>24.990000</td>\n",
       "      <td>NaN</td>\n",
       "      <td>24.99</td>\n",
       "      <td>24.9900</td>\n",
       "      <td>24.990</td>\n",
       "      <td>24.9900</td>\n",
       "      <td>24.99</td>\n",
       "    </tr>\n",
       "  </tbody>\n",
       "</table>\n",
       "<p>535 rows × 8 columns</p>\n",
       "</div>"
      ],
      "text/plain": [
       "                    count       mean        std    min      25%     50%  \\\n",
       "Transaction Number                                                        \n",
       "123098                3.0  10.746667  11.303320   1.80   4.3950   6.990   \n",
       "123099                4.0   5.705000   2.784355   1.53   5.6250   7.070   \n",
       "123100                5.0   1.296000   0.341731   0.99   0.9900   1.250   \n",
       "123101                5.0  17.674000   9.211052   1.49  19.9900  19.990   \n",
       "123102                3.0   5.296667   3.072545   1.75   4.3700   6.990   \n",
       "123103               11.0   4.642727   5.719789   0.89   1.4050   1.560   \n",
       "123104                9.0  10.081111  11.650081   1.25   1.5300   1.750   \n",
       "123105                3.0  15.733333  12.596485   1.56  10.7750  19.990   \n",
       "123106                3.0   3.383333   3.131203   1.36   1.5800   1.800   \n",
       "123107                3.0   3.366667   3.143952   1.36   1.5550   1.750   \n",
       "123108                2.0   1.470000   0.028284   1.45   1.4600   1.470   \n",
       "123109                1.0   6.990000        NaN   6.99   6.9900   6.990   \n",
       "123110                3.0   8.666667  12.805914   0.99   1.2750   1.560   \n",
       "123111                7.0  15.245714  11.363042   1.36   4.2400  23.450   \n",
       "123112                1.0   1.560000        NaN   1.56   1.5600   1.560   \n",
       "123113                1.0  24.990000        NaN  24.99  24.9900  24.990   \n",
       "123114                5.0  18.982000   9.989260   1.49  19.9900  23.450   \n",
       "123115                1.0   7.150000        NaN   7.15   7.1500   7.150   \n",
       "123116                3.0   9.593333   9.370274   1.80   4.3950   6.990   \n",
       "123117                2.0   4.045000   4.320422   0.99   2.5175   4.045   \n",
       "123118                1.0   0.990000        NaN   0.99   0.9900   0.990   \n",
       "123119                3.0  17.093333  13.677428   1.30  13.1450  24.990   \n",
       "123120                1.0   1.800000        NaN   1.80   1.8000   1.800   \n",
       "123121                2.0  12.470000  15.528065   1.49   6.9800  12.470   \n",
       "123122                1.0   1.300000        NaN   1.30   1.3000   1.300   \n",
       "123123                7.0  10.680000  10.330699   1.36   4.2300   7.150   \n",
       "123124                1.0   2.300000        NaN   2.30   2.3000   2.300   \n",
       "123125                1.0   6.990000        NaN   6.99   6.9900   6.990   \n",
       "123126                2.0  11.145000  12.508719   2.30   6.7225  11.145   \n",
       "123127                4.0  12.065000  12.209924   1.53   1.6950  10.870   \n",
       "...                   ...        ...        ...    ...      ...     ...   \n",
       "123603                4.0  13.155000  13.670390   0.89   1.5350  13.370   \n",
       "123604                1.0   1.800000        NaN   1.80   1.8000   1.800   \n",
       "123605                1.0  24.990000        NaN  24.99  24.9900  24.990   \n",
       "123606                1.0  19.990000        NaN  19.99  19.9900  19.990   \n",
       "123607                2.0   1.490000   0.000000   1.49   1.4900   1.490   \n",
       "123608                1.0   7.100000        NaN   7.10   7.1000   7.100   \n",
       "123609                1.0   2.300000        NaN   2.30   2.3000   2.300   \n",
       "123610                2.0   1.580000   0.311127   1.36   1.4700   1.580   \n",
       "123611                1.0   1.300000        NaN   1.30   1.3000   1.300   \n",
       "123612                2.0   1.305000   0.077782   1.25   1.2775   1.305   \n",
       "123613                1.0   1.360000        NaN   1.36   1.3600   1.360   \n",
       "123614                3.0   7.443333  10.869339   0.89   1.1700   1.450   \n",
       "123615                3.0  16.086667  12.753667   1.36  12.4050  23.450   \n",
       "123616                3.0   3.450000   3.068078   1.56   1.6800   1.800   \n",
       "123617                1.0   7.100000        NaN   7.10   7.1000   7.100   \n",
       "123618                4.0   2.920000   2.827413   1.25   1.4600   1.640   \n",
       "123619                2.0   1.625000   0.247487   1.45   1.5375   1.625   \n",
       "123620                1.0  19.990000        NaN  19.99  19.9900  19.990   \n",
       "123621                3.0   1.546667   0.195533   1.36   1.4450   1.530   \n",
       "123622                2.0   4.315000   3.938585   1.53   2.9225   4.315   \n",
       "123623                2.0  12.490000  15.499781   1.53   7.0100  12.490   \n",
       "123624                1.0   0.990000        NaN   0.99   0.9900   0.990   \n",
       "123625                4.0  16.080000  10.257180   0.89  15.2150  19.990   \n",
       "123626                2.0   1.750000   0.000000   1.75   1.7500   1.750   \n",
       "123627                2.0   1.645000   0.926310   0.99   1.3175   1.645   \n",
       "123628                1.0   0.890000        NaN   0.89   0.8900   0.890   \n",
       "123629                3.0   8.696667  12.783995   0.89   1.3200   1.750   \n",
       "123630                8.0   6.023750   8.025406   1.45   1.5300   2.300   \n",
       "123631                1.0   1.750000        NaN   1.75   1.7500   1.750   \n",
       "123632                1.0  24.990000        NaN  24.99  24.9900  24.990   \n",
       "\n",
       "                        75%    max  \n",
       "Transaction Number                  \n",
       "123098              15.2200  23.45  \n",
       "123099               7.1500   7.15  \n",
       "123100               1.4500   1.80  \n",
       "123101              23.4500  23.45  \n",
       "123102               7.0700   7.15  \n",
       "123103               7.0450  19.99  \n",
       "123104              24.9900  25.65  \n",
       "123105              22.8200  25.65  \n",
       "123106               4.3950   6.99  \n",
       "123107               4.3700   6.99  \n",
       "123108               1.4800   1.49  \n",
       "123109               6.9900   6.99  \n",
       "123110              12.5050  23.45  \n",
       "123111              24.2200  24.99  \n",
       "123112               1.5600   1.56  \n",
       "123113              24.9900  24.99  \n",
       "123114              24.9900  24.99  \n",
       "123115               7.1500   7.15  \n",
       "123116              13.4900  19.99  \n",
       "123117               5.5725   7.10  \n",
       "123118               0.9900   0.99  \n",
       "123119              24.9900  24.99  \n",
       "123120               1.8000   1.80  \n",
       "123121              17.9600  23.45  \n",
       "123122               1.3000   1.30  \n",
       "123123              16.0700  25.65  \n",
       "123124               2.3000   2.30  \n",
       "123125               6.9900   6.99  \n",
       "123126              15.5675  19.99  \n",
       "123127              21.2400  24.99  \n",
       "...                     ...    ...  \n",
       "123603              24.9900  24.99  \n",
       "123604               1.8000   1.80  \n",
       "123605              24.9900  24.99  \n",
       "123606              19.9900  19.99  \n",
       "123607               1.4900   1.49  \n",
       "123608               7.1000   7.10  \n",
       "123609               2.3000   2.30  \n",
       "123610               1.6900   1.80  \n",
       "123611               1.3000   1.30  \n",
       "123612               1.3325   1.36  \n",
       "123613               1.3600   1.36  \n",
       "123614              10.7200  19.99  \n",
       "123615              23.4500  23.45  \n",
       "123616               4.3950   6.99  \n",
       "123617               7.1000   7.10  \n",
       "123618               3.1000   7.15  \n",
       "123619               1.7125   1.80  \n",
       "123620              19.9900  19.99  \n",
       "123621               1.6400   1.75  \n",
       "123622               5.7075   7.10  \n",
       "123623              17.9700  23.45  \n",
       "123624               0.9900   0.99  \n",
       "123625              20.8550  23.45  \n",
       "123626               1.7500   1.75  \n",
       "123627               1.9725   2.30  \n",
       "123628               0.8900   0.89  \n",
       "123629              12.6000  23.45  \n",
       "123630               7.0175  24.99  \n",
       "123631               1.7500   1.75  \n",
       "123632              24.9900  24.99  \n",
       "\n",
       "[535 rows x 8 columns]"
      ]
     },
     "execution_count": 589,
     "metadata": {},
     "output_type": "execute_result"
    }
   ],
   "source": [
    "pos.groupby(\"Transaction Number\").describe()[\"Price\"]"
   ]
  },
  {
   "cell_type": "code",
   "execution_count": 590,
   "metadata": {},
   "outputs": [
    {
     "data": {
      "text/plain": [
       "2.607476635514019"
      ]
     },
     "execution_count": 590,
     "metadata": {},
     "output_type": "execute_result"
    }
   ],
   "source": [
    "pos.groupby(\"Transaction Number\").describe()[\"Price\"][\"count\"].mean()"
   ]
  },
  {
   "cell_type": "markdown",
   "metadata": {},
   "source": [
    "### Analysis\n",
    "\n",
    "The average order contains close to 3 items"
   ]
  },
  {
   "cell_type": "markdown",
   "metadata": {},
   "source": [
    "## How much does the average customer spend?"
   ]
  },
  {
   "cell_type": "code",
   "execution_count": 361,
   "metadata": {},
   "outputs": [
    {
     "data": {
      "text/plain": [
       "17.82542056074766"
      ]
     },
     "execution_count": 361,
     "metadata": {},
     "output_type": "execute_result"
    }
   ],
   "source": [
    "#summing all the prices of items per order and then averaging\n",
    "pos.groupby(\"Transaction Number\").sum()[\"Price\"].mean()\n",
    "\n"
   ]
  },
  {
   "cell_type": "markdown",
   "metadata": {},
   "source": [
    "#### Analysis\n",
    "The average customer spends $18 per order"
   ]
  },
  {
   "cell_type": "markdown",
   "metadata": {},
   "source": [
    "## 3.  What’s the statsical distribution of how much a customer spends or how many items they buy?"
   ]
  },
  {
   "cell_type": "markdown",
   "metadata": {},
   "source": [
    "### Customer Spending"
   ]
  },
  {
   "cell_type": "code",
   "execution_count": 596,
   "metadata": {
    "scrolled": true
   },
   "outputs": [
    {
     "data": {
      "text/plain": [
       "Transaction Number\n",
       "123098     32.24\n",
       "123099     22.82\n",
       "123100      6.48\n",
       "123101     88.37\n",
       "123102     15.89\n",
       "123103     51.07\n",
       "123104     90.73\n",
       "123105     47.20\n",
       "123106     10.15\n",
       "123107     10.10\n",
       "123108      2.94\n",
       "123109      6.99\n",
       "123110     26.00\n",
       "123111    106.72\n",
       "123112      1.56\n",
       "123113     24.99\n",
       "123114     94.91\n",
       "123115      7.15\n",
       "123116     28.78\n",
       "123117      8.09\n",
       "123118      0.99\n",
       "123119     51.28\n",
       "123120      1.80\n",
       "123121     24.94\n",
       "123122      1.30\n",
       "123123     74.76\n",
       "123124      2.30\n",
       "123125      6.99\n",
       "123126     22.29\n",
       "123127     48.26\n",
       "           ...  \n",
       "123603     52.62\n",
       "123604      1.80\n",
       "123605     24.99\n",
       "123606     19.99\n",
       "123607      2.98\n",
       "123608      7.10\n",
       "123609      2.30\n",
       "123610      3.16\n",
       "123611      1.30\n",
       "123612      2.61\n",
       "123613      1.36\n",
       "123614     22.33\n",
       "123615     48.26\n",
       "123616     10.35\n",
       "123617      7.10\n",
       "123618     11.68\n",
       "123619      3.25\n",
       "123620     19.99\n",
       "123621      4.64\n",
       "123622      8.63\n",
       "123623     24.98\n",
       "123624      0.99\n",
       "123625     64.32\n",
       "123626      3.50\n",
       "123627      3.29\n",
       "123628      0.89\n",
       "123629     26.09\n",
       "123630     48.19\n",
       "123631      1.75\n",
       "123632     24.99\n",
       "Name: Price, Length: 535, dtype: float64"
      ]
     },
     "execution_count": 596,
     "metadata": {},
     "output_type": "execute_result"
    }
   ],
   "source": [
    "pos.groupby(\"Transaction Number\")[\"Price\"].sum()"
   ]
  },
  {
   "cell_type": "code",
   "execution_count": 619,
   "metadata": {},
   "outputs": [
    {
     "data": {
      "text/plain": [
       "<Figure size 576x576 with 0 Axes>"
      ]
     },
     "execution_count": 619,
     "metadata": {},
     "output_type": "execute_result"
    },
    {
     "data": {
      "text/plain": [
       "Text(0.5, 1.0, 'Checkout Price Per Order')"
      ]
     },
     "execution_count": 619,
     "metadata": {},
     "output_type": "execute_result"
    },
    {
     "data": {
      "text/plain": [
       "<matplotlib.axes._subplots.AxesSubplot at 0x1a4da93828>"
      ]
     },
     "execution_count": 619,
     "metadata": {},
     "output_type": "execute_result"
    },
    {
     "data": {
      "text/plain": [
       "Text(0.5, 0, 'Checkout Price Per Transaction')"
      ]
     },
     "execution_count": 619,
     "metadata": {},
     "output_type": "execute_result"
    },
    {
     "data": {
      "image/png": "[encoded data removed]",
      "text/plain": [
       "<Figure size 576x576 with 1 Axes>"
      ]
     },
     "metadata": {
      "needs_background": "light"
     },
     "output_type": "display_data"
    }
   ],
   "source": [
    "plt.figure(figsize = (8,8))\n",
    "plt.title(\"Checkout Price Per Order\")\n",
    "sns.distplot(pos.groupby(\"Transaction Number\").sum()[\"Price\"])\n",
    "plt.xlabel(\"Checkout Price Per Transaction\")"
   ]
  },
  {
   "cell_type": "code",
   "execution_count": 606,
   "metadata": {},
   "outputs": [
    {
     "data": {
      "text/plain": [
       "count    535.000000\n",
       "mean      17.825421\n",
       "std       19.738881\n",
       "min        0.890000\n",
       "25%        2.295000\n",
       "50%        9.680000\n",
       "75%       26.845000\n",
       "max      106.720000\n",
       "Name: Price, dtype: float64"
      ]
     },
     "execution_count": 606,
     "metadata": {},
     "output_type": "execute_result"
    }
   ],
   "source": [
    "pos.groupby(\"Transaction Number\")[\"Price\"].sum().describe()"
   ]
  },
  {
   "cell_type": "code",
   "execution_count": 623,
   "metadata": {},
   "outputs": [
    {
     "name": "stdout",
     "output_type": "stream",
     "text": [
      "Quantile of Average price per order\n"
     ]
    },
    {
     "data": {
      "text/plain": [
       "59.06542056074766"
      ]
     },
     "execution_count": 623,
     "metadata": {},
     "output_type": "execute_result"
    }
   ],
   "source": [
    "from scipy import stats\n",
    "avgPriceperTransaction = pos.groupby(\"Transaction Number\")[\"Price\"].sum().describe()[\"mean\"]\n",
    "\n",
    "print(\"Quantile of Average price per order\")\n",
    "stats.percentileofscore(pos.groupby(\"Transaction Number\")[\"Price\"].sum(), avgPriceperTransaction)"
   ]
  },
  {
   "cell_type": "markdown",
   "metadata": {},
   "source": [
    "#### Analysis\n",
    "\n",
    "We see that a high volume of transactions are less than 10/usd and that the fewer higher priced orders are creating a positive skew. High priced tractions is skewing the average price to $18.  59% of the transactions are less than the calculated average."
   ]
  },
  {
   "cell_type": "markdown",
   "metadata": {},
   "source": [
    "### Items Per Order"
   ]
  },
  {
   "cell_type": "code",
   "execution_count": 618,
   "metadata": {},
   "outputs": [
    {
     "data": {
      "text/plain": [
       "<Figure size 576x576 with 0 Axes>"
      ]
     },
     "execution_count": 618,
     "metadata": {},
     "output_type": "execute_result"
    },
    {
     "data": {
      "text/plain": [
       "Text(0.5, 1.0, 'Distribution of Items Per Order')"
      ]
     },
     "execution_count": 618,
     "metadata": {},
     "output_type": "execute_result"
    },
    {
     "data": {
      "text/plain": [
       "<matplotlib.axes._subplots.AxesSubplot at 0x1a4cb3f320>"
      ]
     },
     "execution_count": 618,
     "metadata": {},
     "output_type": "execute_result"
    },
    {
     "data": {
      "text/plain": [
       "Text(0.5, 0, 'Items in Order')"
      ]
     },
     "execution_count": 618,
     "metadata": {},
     "output_type": "execute_result"
    },
    {
     "data": {
      "image/png": "[encoded data removed]",
      "text/plain": [
       "<Figure size 576x576 with 1 Axes>"
      ]
     },
     "metadata": {
      "needs_background": "light"
     },
     "output_type": "display_data"
    }
   ],
   "source": [
    "plt.figure(figsize = (8,8))\n",
    "plt.title(\"Distribution of Items Per Order\")\n",
    "sns.distplot(pos.groupby(\"Transaction Number\")[\"Price\"].count())\n",
    "plt.xlabel(\"Items in Order\")"
   ]
  },
  {
   "cell_type": "code",
   "execution_count": 622,
   "metadata": {},
   "outputs": [
    {
     "data": {
      "text/plain": [
       "count    535.000000\n",
       "mean       2.607477\n",
       "std        2.006343\n",
       "min        1.000000\n",
       "25%        1.000000\n",
       "50%        2.000000\n",
       "75%        3.000000\n",
       "max       12.000000\n",
       "Name: Price, dtype: float64"
      ]
     },
     "execution_count": 622,
     "metadata": {},
     "output_type": "execute_result"
    },
    {
     "name": "stdout",
     "output_type": "stream",
     "text": [
      "Quantile of Average items per order\n"
     ]
    },
    {
     "data": {
      "text/plain": [
       "61.308411214953274"
      ]
     },
     "execution_count": 622,
     "metadata": {},
     "output_type": "execute_result"
    }
   ],
   "source": [
    "pos.groupby(\"Transaction Number\")[\"Price\"].count().describe()\n",
    "\n",
    "print(\"Quantile of Average items per order\")\n",
    "stats.percentileofscore(pos.groupby(\"Transaction Number\")[\"Price\"].count(), pos.groupby(\"Transaction Number\")[\"Price\"].count().mean())"
   ]
  },
  {
   "cell_type": "markdown",
   "metadata": {},
   "source": [
    "#### Analysis\n",
    "\n",
    "We see that a high volume of transactions contain less than 2 items per order and that the fewer higher item orders are creating a positive skew. The average items per order to 2.6.  61% of the transactions are less than the calculated average."
   ]
  },
  {
   "cell_type": "markdown",
   "metadata": {},
   "source": [
    "## 4.  How do these metrics vary by retailer?"
   ]
  },
  {
   "cell_type": "markdown",
   "metadata": {},
   "source": [
    "### Average Price Per Transaction by Retailer"
   ]
  },
  {
   "cell_type": "code",
   "execution_count": 660,
   "metadata": {},
   "outputs": [],
   "source": [
    "byRetailer = pos.groupby([\"Retailer\",\"Transaction Number\"])[\"Price\"]"
   ]
  },
  {
   "cell_type": "code",
   "execution_count": 668,
   "metadata": {},
   "outputs": [
    {
     "data": {
      "text/plain": [
       "Fast Mart     833\n",
       "Quick Stop    562\n",
       "Name: Retailer, dtype: int64"
      ]
     },
     "execution_count": 668,
     "metadata": {},
     "output_type": "execute_result"
    }
   ],
   "source": [
    "pos[\"Retailer\"].value_counts()"
   ]
  },
  {
   "cell_type": "code",
   "execution_count": 708,
   "metadata": {},
   "outputs": [
    {
     "data": {
      "text/plain": [
       "Transaction Number\n",
       "123098    32.24\n",
       "123100     5.23\n",
       "123101    88.37\n",
       "123102     8.74\n",
       "123103    38.64\n",
       "Name: Price, dtype: float64"
      ]
     },
     "execution_count": 708,
     "metadata": {},
     "output_type": "execute_result"
    },
    {
     "name": "stdout",
     "output_type": "stream",
     "text": [
      "Fast Mart Avg Transaction Price\n"
     ]
    },
    {
     "data": {
      "text/plain": [
       "15.827412587412587"
      ]
     },
     "execution_count": 708,
     "metadata": {},
     "output_type": "execute_result"
    },
    {
     "name": "stdout",
     "output_type": "stream",
     "text": [
      "Quick Stop Avg Transaction Price\n"
     ]
    },
    {
     "data": {
      "text/plain": [
       "8.273012048192768"
      ]
     },
     "execution_count": 708,
     "metadata": {},
     "output_type": "execute_result"
    }
   ],
   "source": [
    "byRetailer.sum()[\"Fast Mart\"].head()\n",
    "print(\"Fast Mart Avg Transaction Price\")\n",
    "byRetailer.sum()[\"Fast Mart\"].mean()\n",
    "\n",
    "print(\"Quick Stop Avg Transaction Price\")\n",
    "byRetailer.sum()[\"Quick Stop\"].mean()"
   ]
  },
  {
   "cell_type": "code",
   "execution_count": 706,
   "metadata": {},
   "outputs": [
    {
     "data": {
      "text/plain": [
       "<matplotlib.axes._subplots.AxesSubplot at 0x1a4ea6eb00>"
      ]
     },
     "execution_count": 706,
     "metadata": {},
     "output_type": "execute_result"
    },
    {
     "data": {
      "text/plain": [
       "<matplotlib.axes._subplots.AxesSubplot at 0x1a4eab6ac8>"
      ]
     },
     "execution_count": 706,
     "metadata": {},
     "output_type": "execute_result"
    },
    {
     "data": {
      "text/plain": [
       "Text(0.5, 1.0, 'Fast Mart Average Transaction $ Distribution')"
      ]
     },
     "execution_count": 706,
     "metadata": {},
     "output_type": "execute_result"
    },
    {
     "data": {
      "text/plain": [
       "Text(0.5, 1.0, 'Quick Stop Average Transaction $ Distribution')"
      ]
     },
     "execution_count": 706,
     "metadata": {},
     "output_type": "execute_result"
    },
    {
     "data": {
      "text/plain": [
       "<matplotlib.lines.Line2D at 0x1a4eb73748>"
      ]
     },
     "execution_count": 706,
     "metadata": {},
     "output_type": "execute_result"
    },
    {
     "data": {
      "text/plain": [
       "<matplotlib.lines.Line2D at 0x1a4eb73668>"
      ]
     },
     "execution_count": 706,
     "metadata": {},
     "output_type": "execute_result"
    },
    {
     "data": {
      "image/png": "[encoded data removed]",
      "text/plain": [
       "<Figure size 1080x360 with 2 Axes>"
      ]
     },
     "metadata": {
      "needs_background": "light"
     },
     "output_type": "display_data"
    }
   ],
   "source": [
    "fig, (ax1,ax2) = plt.subplots(1,2, figsize=(15,5))\n",
    "\n",
    "sns.distplot(byRetailer.sum()[\"Fast Mart\"], ax = ax1)\n",
    "sns.distplot(byRetailer.sum()[\"Quick Stop\"], ax = ax2, color = 'green')\n",
    "ax1.set_title(\"Fast Mart Average Transaction $ Distribution\")\n",
    "ax2.set_title(\"Quick Stop Average Transaction $ Distribution\")\n",
    "ax1.axvline(x = byRetailer.sum()[\"Fast Mart\"].mean(), label = \"Average\", color = \"red\")\n",
    "ax2.axvline(x = byRetailer.sum()[\"Quick Stop\"].mean(), label = \"Average\", color = \"red\")"
   ]
  },
  {
   "cell_type": "markdown",
   "metadata": {},
   "source": [
    "### Average Items Per Transaction by Retailer"
   ]
  },
  {
   "cell_type": "code",
   "execution_count": null,
   "metadata": {},
   "outputs": [],
   "source": []
  },
  {
   "cell_type": "code",
   "execution_count": 709,
   "metadata": {},
   "outputs": [
    {
     "data": {
      "text/plain": [
       "Transaction Number\n",
       "123098    3\n",
       "123100    4\n",
       "123101    5\n",
       "123102    2\n",
       "123103    6\n",
       "Name: Price, dtype: int64"
      ]
     },
     "execution_count": 709,
     "metadata": {},
     "output_type": "execute_result"
    },
    {
     "name": "stdout",
     "output_type": "stream",
     "text": [
      "Average Items Per Order for Fast Mart\n"
     ]
    },
    {
     "data": {
      "text/plain": [
       "1.9417249417249418"
      ]
     },
     "execution_count": 709,
     "metadata": {},
     "output_type": "execute_result"
    },
    {
     "name": "stdout",
     "output_type": "stream",
     "text": [
      "Average Items Per Order for Quick Stop\n"
     ]
    },
    {
     "data": {
      "text/plain": [
       "1.6927710843373494"
      ]
     },
     "execution_count": 709,
     "metadata": {},
     "output_type": "execute_result"
    },
    {
     "data": {
      "text/plain": [
       "<matplotlib.axes._subplots.AxesSubplot at 0x1a4ec50630>"
      ]
     },
     "execution_count": 709,
     "metadata": {},
     "output_type": "execute_result"
    },
    {
     "data": {
      "text/plain": [
       "<matplotlib.axes._subplots.AxesSubplot at 0x1a4ed8df98>"
      ]
     },
     "execution_count": 709,
     "metadata": {},
     "output_type": "execute_result"
    },
    {
     "data": {
      "text/plain": [
       "Text(0.5, 1.0, 'Fast Mart Average Items Per Order')"
      ]
     },
     "execution_count": 709,
     "metadata": {},
     "output_type": "execute_result"
    },
    {
     "data": {
      "text/plain": [
       "Text(0.5, 1.0, 'Quick Stop Average Items Per Order')"
      ]
     },
     "execution_count": 709,
     "metadata": {},
     "output_type": "execute_result"
    },
    {
     "data": {
      "text/plain": [
       "<matplotlib.lines.Line2D at 0x1a4eda9be0>"
      ]
     },
     "execution_count": 709,
     "metadata": {},
     "output_type": "execute_result"
    },
    {
     "data": {
      "text/plain": [
       "<matplotlib.lines.Line2D at 0x1a4eda9cc0>"
      ]
     },
     "execution_count": 709,
     "metadata": {},
     "output_type": "execute_result"
    },
    {
     "data": {
      "image/png": "[encoded data removed]",
      "text/plain": [
       "<Figure size 1080x360 with 2 Axes>"
      ]
     },
     "metadata": {
      "needs_background": "light"
     },
     "output_type": "display_data"
    }
   ],
   "source": [
    "byRetailer.count()[\"Fast Mart\"].head()\n",
    "\n",
    "print(\"Average Items Per Order for Fast Mart\")\n",
    "byRetailer.count()[\"Fast Mart\"].mean()\n",
    "\n",
    "print(\"Average Items Per Order for Quick Stop\")\n",
    "byRetailer.count()[\"Quick Stop\"].mean()\n",
    "\n",
    "fig, (ax1,ax2) = plt.subplots(1,2, figsize=(15,5))\n",
    "\n",
    "sns.distplot(byRetailer.count()[\"Fast Mart\"], ax = ax1)\n",
    "sns.distplot(byRetailer.count()[\"Quick Stop\"], ax = ax2, color = 'green')\n",
    "ax1.set_title(\"Fast Mart Average Items Per Order\")\n",
    "ax2.set_title(\"Quick Stop Average Items Per Order\")\n",
    "ax1.axvline(x = byRetailer.count()[\"Fast Mart\"].mean(), label = \"Average\", color = \"red\")\n",
    "ax2.axvline(x = byRetailer.count()[\"Quick Stop\"].mean(), label = \"Average\", color = \"red\")"
   ]
  },
  {
   "cell_type": "markdown",
   "metadata": {},
   "source": [
    "#### Analysis\n",
    "\n",
    "When looking at each retailer's metrics for average price per transaction and items per order, we see an overall positive skew.\n",
    "\n",
    "The average price and items per order for Fast Mart is \\\\$15.8 and \\\\$1.94, respectively.\n",
    "The average price and items per order for Quick Stop is \\\\$8.27 and \\\\$1.69, respectively"
   ]
  },
  {
   "cell_type": "markdown",
   "metadata": {},
   "source": [
    "## 5.  How do the products compare to each other in terms of popularity and price?"
   ]
  },
  {
   "cell_type": "markdown",
   "metadata": {},
   "source": [
    "#### Reading in Products UPC Key Table and Joining Product Name to POS Data Table"
   ]
  },
  {
   "cell_type": "code",
   "execution_count": 363,
   "metadata": {},
   "outputs": [
    {
     "data": {
      "text/html": [
       "<div>\n",
       "<style scoped>\n",
       "    .dataframe tbody tr th:only-of-type {\n",
       "        vertical-align: middle;\n",
       "    }\n",
       "\n",
       "    .dataframe tbody tr th {\n",
       "        vertical-align: top;\n",
       "    }\n",
       "\n",
       "    .dataframe thead th {\n",
       "        text-align: right;\n",
       "    }\n",
       "</style>\n",
       "<table border=\"1\" class=\"dataframe\">\n",
       "  <thead>\n",
       "    <tr style=\"text-align: right;\">\n",
       "      <th></th>\n",
       "      <th>Product UPC Number</th>\n",
       "      <th>Product Name</th>\n",
       "    </tr>\n",
       "  </thead>\n",
       "  <tbody>\n",
       "    <tr>\n",
       "      <th>0</th>\n",
       "      <td>111100001234</td>\n",
       "      <td>Coke 20 oz</td>\n",
       "    </tr>\n",
       "    <tr>\n",
       "      <th>1</th>\n",
       "      <td>111100001235</td>\n",
       "      <td>Miller Lite 24 Pack</td>\n",
       "    </tr>\n",
       "    <tr>\n",
       "      <th>2</th>\n",
       "      <td>111100001236</td>\n",
       "      <td>Pepsi 12 Pack</td>\n",
       "    </tr>\n",
       "  </tbody>\n",
       "</table>\n",
       "</div>"
      ],
      "text/plain": [
       "   Product UPC Number         Product Name\n",
       "0        111100001234           Coke 20 oz\n",
       "1        111100001235  Miller Lite 24 Pack\n",
       "2        111100001236        Pepsi 12 Pack"
      ]
     },
     "execution_count": 363,
     "metadata": {},
     "output_type": "execute_result"
    }
   ],
   "source": [
    "posProductKey = pd.read_excel(\"Sample Data Worksheet.xlsx\", sheet_name=\"Product UPC Key\")\n",
    "posProductKey.head(3)"
   ]
  },
  {
   "cell_type": "code",
   "execution_count": 364,
   "metadata": {},
   "outputs": [
    {
     "data": {
      "text/html": [
       "<div>\n",
       "<style scoped>\n",
       "    .dataframe tbody tr th:only-of-type {\n",
       "        vertical-align: middle;\n",
       "    }\n",
       "\n",
       "    .dataframe tbody tr th {\n",
       "        vertical-align: top;\n",
       "    }\n",
       "\n",
       "    .dataframe thead th {\n",
       "        text-align: right;\n",
       "    }\n",
       "</style>\n",
       "<table border=\"1\" class=\"dataframe\">\n",
       "  <thead>\n",
       "    <tr style=\"text-align: right;\">\n",
       "      <th></th>\n",
       "      <th>Timestamp</th>\n",
       "      <th>Transaction Number</th>\n",
       "      <th>Product UPC Number</th>\n",
       "      <th>Price</th>\n",
       "      <th>Retailer</th>\n",
       "      <th>Product Name</th>\n",
       "    </tr>\n",
       "  </thead>\n",
       "  <tbody>\n",
       "    <tr>\n",
       "      <th>0</th>\n",
       "      <td>2018-03-02 08:15:50</td>\n",
       "      <td>123098</td>\n",
       "      <td>111100001234</td>\n",
       "      <td>1.80</td>\n",
       "      <td>Fast Mart</td>\n",
       "      <td>Coke 20 oz</td>\n",
       "    </tr>\n",
       "    <tr>\n",
       "      <th>1</th>\n",
       "      <td>2018-03-02 08:15:50</td>\n",
       "      <td>123098</td>\n",
       "      <td>111100001235</td>\n",
       "      <td>23.45</td>\n",
       "      <td>Fast Mart</td>\n",
       "      <td>Miller Lite 24 Pack</td>\n",
       "    </tr>\n",
       "    <tr>\n",
       "      <th>2</th>\n",
       "      <td>2018-03-02 08:15:50</td>\n",
       "      <td>123098</td>\n",
       "      <td>111100001236</td>\n",
       "      <td>6.99</td>\n",
       "      <td>Fast Mart</td>\n",
       "      <td>Pepsi 12 Pack</td>\n",
       "    </tr>\n",
       "  </tbody>\n",
       "</table>\n",
       "</div>"
      ],
      "text/plain": [
       "            Timestamp  Transaction Number  Product UPC Number  Price  \\\n",
       "0 2018-03-02 08:15:50              123098        111100001234   1.80   \n",
       "1 2018-03-02 08:15:50              123098        111100001235  23.45   \n",
       "2 2018-03-02 08:15:50              123098        111100001236   6.99   \n",
       "\n",
       "    Retailer         Product Name  \n",
       "0  Fast Mart           Coke 20 oz  \n",
       "1  Fast Mart  Miller Lite 24 Pack  \n",
       "2  Fast Mart        Pepsi 12 Pack  "
      ]
     },
     "execution_count": 364,
     "metadata": {},
     "output_type": "execute_result"
    }
   ],
   "source": [
    "pos = pd.merge(pos, posProductKey, how = \"left\", on = \"Product UPC Number\")\n",
    "pos.head(3)"
   ]
  },
  {
   "cell_type": "code",
   "execution_count": 365,
   "metadata": {},
   "outputs": [
    {
     "data": {
      "text/plain": [
       "Product Name\n",
       "Bud Light 24 Pack      207\n",
       "Coke 12 Pack           143\n",
       "Coke 20 oz              85\n",
       "Doritos 12 oz.         130\n",
       "Hersheys Candy         145\n",
       "Lays Chips 12 oz.      149\n",
       "M&M's Candy             65\n",
       "Miller Lite 24 Pack     80\n",
       "Pepsi 12 Pack           71\n",
       "Pepsi 20 oz             79\n",
       "Slim Jim               166\n",
       "Starbucks Ice           75\n",
       "Name: Timestamp, dtype: int64"
      ]
     },
     "execution_count": 365,
     "metadata": {},
     "output_type": "execute_result"
    },
    {
     "data": {
      "text/plain": [
       "Product Name\n",
       "Bud Light 24 Pack      23.337343\n",
       "Coke 12 Pack            7.123776\n",
       "Coke 20 oz              1.800000\n",
       "Doritos 12 oz.          1.510308\n",
       "Hersheys Candy          1.331862\n",
       "Lays Chips 12 oz.       1.503893\n",
       "M&M's Candy             1.250000\n",
       "Miller Lite 24 Pack    23.450000\n",
       "Pepsi 12 Pack           6.990000\n",
       "Pepsi 20 oz             1.750000\n",
       "Slim Jim                0.941205\n",
       "Starbucks Ice           2.300000\n",
       "Name: Price, dtype: float64"
      ]
     },
     "execution_count": 365,
     "metadata": {},
     "output_type": "execute_result"
    }
   ],
   "source": [
    "byProductCount = pos.groupby(\"Product Name\").count()[\"Timestamp\"]\n",
    "byProductCount\n",
    "\n",
    "avgPricebyProduct = pos.groupby(\"Product Name\").mean()[\"Price\"]\n",
    "avgPricebyProduct"
   ]
  },
  {
   "cell_type": "code",
   "execution_count": 366,
   "metadata": {},
   "outputs": [
    {
     "data": {
      "text/plain": [
       "Index(['Bud Light 24 Pack', 'Coke 12 Pack', 'Coke 20 oz', 'Doritos 12 oz.',\n",
       "       'Hersheys Candy', 'Lays Chips 12 oz.', 'M&M's Candy',\n",
       "       'Miller Lite 24 Pack', 'Pepsi 12 Pack', 'Pepsi 20 oz', 'Slim Jim',\n",
       "       'Starbucks Ice'],\n",
       "      dtype='object', name='Product Name')"
      ]
     },
     "execution_count": 366,
     "metadata": {},
     "output_type": "execute_result"
    },
    {
     "data": {
      "text/plain": [
       "array([23.337343  ,  7.12377622,  1.8       ,  1.51030769,  1.33186207,\n",
       "        1.50389262,  1.25      , 23.45      ,  6.99      ,  1.75      ,\n",
       "        0.94120482,  2.3       ])"
      ]
     },
     "execution_count": 366,
     "metadata": {},
     "output_type": "execute_result"
    }
   ],
   "source": [
    "avgPricebyProduct.index\n",
    "avgPricebyProduct.values"
   ]
  },
  {
   "cell_type": "code",
   "execution_count": 367,
   "metadata": {},
   "outputs": [
    {
     "data": {
      "text/plain": [
       "<matplotlib.axes._subplots.AxesSubplot at 0x1a4a7494a8>"
      ]
     },
     "execution_count": 367,
     "metadata": {},
     "output_type": "execute_result"
    },
    {
     "data": {
      "text/plain": [
       "<matplotlib.axes._subplots.AxesSubplot at 0x1a4a749320>"
      ]
     },
     "execution_count": 367,
     "metadata": {},
     "output_type": "execute_result"
    },
    {
     "data": {
      "text/plain": [
       "Text(0, 0.5, 'Quantity Sold')"
      ]
     },
     "execution_count": 367,
     "metadata": {},
     "output_type": "execute_result"
    },
    {
     "data": {
      "text/plain": [
       "Text(0, 0.5, 'Average Price')"
      ]
     },
     "execution_count": 367,
     "metadata": {},
     "output_type": "execute_result"
    },
    {
     "data": {
      "text/plain": [
       "Text(0.5, 0, 'Product')"
      ]
     },
     "execution_count": 367,
     "metadata": {},
     "output_type": "execute_result"
    },
    {
     "data": {
      "text/plain": [
       "Text(0.5, 1.0, 'Product Order Count and Average Price')"
      ]
     },
     "execution_count": 367,
     "metadata": {},
     "output_type": "execute_result"
    },
    {
     "data": {
      "image/png": "[encoded data removed]",
      "text/plain": [
       "<Figure size 1296x360 with 2 Axes>"
      ]
     },
     "metadata": {
      "needs_background": "light"
     },
     "output_type": "display_data"
    }
   ],
   "source": [
    "fig = plt.figure(figsize = (18,5))\n",
    "ax1 = fig.add_subplot(111)\n",
    "ax2 = plt.twinx()\n",
    "\n",
    "sns.countplot(pos[\"Product Name\"], ax = ax1, label = \"Count of Product Sold\")\n",
    "sns.lineplot(avgPricebyProduct.index, y = avgPricebyProduct.values, ax = ax2, label = \"Average Price of Product\", marker=\"o\")\n",
    "\n",
    "ax1.set_ylabel(\"Quantity Sold\", fontdict={\"fontsize\" : 14})\n",
    "ax2.set_ylabel(\"Average Price\", fontdict={\"fontsize\": 14})\n",
    "ax1.set_xlabel(\"Product\", fontdict={\"fontsize\": 14})\n",
    "\n",
    "for tick in ax1.get_xticklabels():\n",
    "    tick.set_rotation(45)\n",
    "    \n",
    "ax1.set_title(\"Product Order Count and Average Price\", fontdict = {\"fontsize\": 20})\n"
   ]
  },
  {
   "cell_type": "code",
   "execution_count": 368,
   "metadata": {},
   "outputs": [
    {
     "data": {
      "text/html": [
       "<div>\n",
       "<style scoped>\n",
       "    .dataframe tbody tr th:only-of-type {\n",
       "        vertical-align: middle;\n",
       "    }\n",
       "\n",
       "    .dataframe tbody tr th {\n",
       "        vertical-align: top;\n",
       "    }\n",
       "\n",
       "    .dataframe thead th {\n",
       "        text-align: right;\n",
       "    }\n",
       "</style>\n",
       "<table border=\"1\" class=\"dataframe\">\n",
       "  <thead>\n",
       "    <tr style=\"text-align: right;\">\n",
       "      <th></th>\n",
       "      <th>count</th>\n",
       "      <th>mean</th>\n",
       "      <th>std</th>\n",
       "      <th>min</th>\n",
       "      <th>25%</th>\n",
       "      <th>50%</th>\n",
       "      <th>75%</th>\n",
       "      <th>max</th>\n",
       "    </tr>\n",
       "    <tr>\n",
       "      <th>Product Name</th>\n",
       "      <th></th>\n",
       "      <th></th>\n",
       "      <th></th>\n",
       "      <th></th>\n",
       "      <th></th>\n",
       "      <th></th>\n",
       "      <th></th>\n",
       "      <th></th>\n",
       "    </tr>\n",
       "  </thead>\n",
       "  <tbody>\n",
       "    <tr>\n",
       "      <th>Bud Light 24 Pack</th>\n",
       "      <td>207.0</td>\n",
       "      <td>23.337343</td>\n",
       "      <td>2.595684e+00</td>\n",
       "      <td>19.99</td>\n",
       "      <td>19.99</td>\n",
       "      <td>24.99</td>\n",
       "      <td>25.65</td>\n",
       "      <td>25.65</td>\n",
       "    </tr>\n",
       "    <tr>\n",
       "      <th>Coke 12 Pack</th>\n",
       "      <td>143.0</td>\n",
       "      <td>7.123776</td>\n",
       "      <td>2.505780e-02</td>\n",
       "      <td>7.10</td>\n",
       "      <td>7.10</td>\n",
       "      <td>7.10</td>\n",
       "      <td>7.15</td>\n",
       "      <td>7.15</td>\n",
       "    </tr>\n",
       "    <tr>\n",
       "      <th>Coke 20 oz</th>\n",
       "      <td>85.0</td>\n",
       "      <td>1.800000</td>\n",
       "      <td>8.934496e-16</td>\n",
       "      <td>1.80</td>\n",
       "      <td>1.80</td>\n",
       "      <td>1.80</td>\n",
       "      <td>1.80</td>\n",
       "      <td>1.80</td>\n",
       "    </tr>\n",
       "    <tr>\n",
       "      <th>Doritos 12 oz.</th>\n",
       "      <td>130.0</td>\n",
       "      <td>1.510308</td>\n",
       "      <td>2.007499e-02</td>\n",
       "      <td>1.49</td>\n",
       "      <td>1.49</td>\n",
       "      <td>1.53</td>\n",
       "      <td>1.53</td>\n",
       "      <td>1.53</td>\n",
       "    </tr>\n",
       "    <tr>\n",
       "      <th>Hersheys Candy</th>\n",
       "      <td>145.0</td>\n",
       "      <td>1.331862</td>\n",
       "      <td>3.004594e-02</td>\n",
       "      <td>1.30</td>\n",
       "      <td>1.30</td>\n",
       "      <td>1.36</td>\n",
       "      <td>1.36</td>\n",
       "      <td>1.36</td>\n",
       "    </tr>\n",
       "    <tr>\n",
       "      <th>Lays Chips 12 oz.</th>\n",
       "      <td>149.0</td>\n",
       "      <td>1.503893</td>\n",
       "      <td>5.517431e-02</td>\n",
       "      <td>1.45</td>\n",
       "      <td>1.45</td>\n",
       "      <td>1.45</td>\n",
       "      <td>1.56</td>\n",
       "      <td>1.56</td>\n",
       "    </tr>\n",
       "    <tr>\n",
       "      <th>M&amp;M's Candy</th>\n",
       "      <td>65.0</td>\n",
       "      <td>1.250000</td>\n",
       "      <td>0.000000e+00</td>\n",
       "      <td>1.25</td>\n",
       "      <td>1.25</td>\n",
       "      <td>1.25</td>\n",
       "      <td>1.25</td>\n",
       "      <td>1.25</td>\n",
       "    </tr>\n",
       "    <tr>\n",
       "      <th>Miller Lite 24 Pack</th>\n",
       "      <td>80.0</td>\n",
       "      <td>23.450000</td>\n",
       "      <td>3.575128e-15</td>\n",
       "      <td>23.45</td>\n",
       "      <td>23.45</td>\n",
       "      <td>23.45</td>\n",
       "      <td>23.45</td>\n",
       "      <td>23.45</td>\n",
       "    </tr>\n",
       "    <tr>\n",
       "      <th>Pepsi 12 Pack</th>\n",
       "      <td>71.0</td>\n",
       "      <td>6.990000</td>\n",
       "      <td>1.789000e-15</td>\n",
       "      <td>6.99</td>\n",
       "      <td>6.99</td>\n",
       "      <td>6.99</td>\n",
       "      <td>6.99</td>\n",
       "      <td>6.99</td>\n",
       "    </tr>\n",
       "    <tr>\n",
       "      <th>Pepsi 20 oz</th>\n",
       "      <td>79.0</td>\n",
       "      <td>1.750000</td>\n",
       "      <td>0.000000e+00</td>\n",
       "      <td>1.75</td>\n",
       "      <td>1.75</td>\n",
       "      <td>1.75</td>\n",
       "      <td>1.75</td>\n",
       "      <td>1.75</td>\n",
       "    </tr>\n",
       "    <tr>\n",
       "      <th>Slim Jim</th>\n",
       "      <td>166.0</td>\n",
       "      <td>0.941205</td>\n",
       "      <td>5.013672e-02</td>\n",
       "      <td>0.89</td>\n",
       "      <td>0.89</td>\n",
       "      <td>0.99</td>\n",
       "      <td>0.99</td>\n",
       "      <td>0.99</td>\n",
       "    </tr>\n",
       "    <tr>\n",
       "      <th>Starbucks Ice</th>\n",
       "      <td>75.0</td>\n",
       "      <td>2.300000</td>\n",
       "      <td>8.941595e-16</td>\n",
       "      <td>2.30</td>\n",
       "      <td>2.30</td>\n",
       "      <td>2.30</td>\n",
       "      <td>2.30</td>\n",
       "      <td>2.30</td>\n",
       "    </tr>\n",
       "  </tbody>\n",
       "</table>\n",
       "</div>"
      ],
      "text/plain": [
       "                     count       mean           std    min    25%    50%  \\\n",
       "Product Name                                                               \n",
       "Bud Light 24 Pack    207.0  23.337343  2.595684e+00  19.99  19.99  24.99   \n",
       "Coke 12 Pack         143.0   7.123776  2.505780e-02   7.10   7.10   7.10   \n",
       "Coke 20 oz            85.0   1.800000  8.934496e-16   1.80   1.80   1.80   \n",
       "Doritos 12 oz.       130.0   1.510308  2.007499e-02   1.49   1.49   1.53   \n",
       "Hersheys Candy       145.0   1.331862  3.004594e-02   1.30   1.30   1.36   \n",
       "Lays Chips 12 oz.    149.0   1.503893  5.517431e-02   1.45   1.45   1.45   \n",
       "M&M's Candy           65.0   1.250000  0.000000e+00   1.25   1.25   1.25   \n",
       "Miller Lite 24 Pack   80.0  23.450000  3.575128e-15  23.45  23.45  23.45   \n",
       "Pepsi 12 Pack         71.0   6.990000  1.789000e-15   6.99   6.99   6.99   \n",
       "Pepsi 20 oz           79.0   1.750000  0.000000e+00   1.75   1.75   1.75   \n",
       "Slim Jim             166.0   0.941205  5.013672e-02   0.89   0.89   0.99   \n",
       "Starbucks Ice         75.0   2.300000  8.941595e-16   2.30   2.30   2.30   \n",
       "\n",
       "                       75%    max  \n",
       "Product Name                       \n",
       "Bud Light 24 Pack    25.65  25.65  \n",
       "Coke 12 Pack          7.15   7.15  \n",
       "Coke 20 oz            1.80   1.80  \n",
       "Doritos 12 oz.        1.53   1.53  \n",
       "Hersheys Candy        1.36   1.36  \n",
       "Lays Chips 12 oz.     1.56   1.56  \n",
       "M&M's Candy           1.25   1.25  \n",
       "Miller Lite 24 Pack  23.45  23.45  \n",
       "Pepsi 12 Pack         6.99   6.99  \n",
       "Pepsi 20 oz           1.75   1.75  \n",
       "Slim Jim              0.99   0.99  \n",
       "Starbucks Ice         2.30   2.30  "
      ]
     },
     "execution_count": 368,
     "metadata": {},
     "output_type": "execute_result"
    },
    {
     "data": {
      "text/plain": [
       "6.836272401433691"
      ]
     },
     "execution_count": 368,
     "metadata": {},
     "output_type": "execute_result"
    }
   ],
   "source": [
    "pos.groupby(\"Product Name\").describe()[\"Price\"]\n",
    "pos[\"Price\"].mean()"
   ]
  },
  {
   "cell_type": "markdown",
   "metadata": {},
   "source": [
    "#### Analysis\n",
    "\n",
    "We can certainly see how average price and quantity sold for each product correlates with each other.  \n",
    "Two clear visible trends show how lower priced products have a higher quantity sold.  This is seen for Doritos, Hersheys, Lays, and M&Ms', where the average price for these items is less than 2 usd.  \n",
    "On the contrary, the higher priced items of beer displayed the lowest quantity sold from all products.  \n",
    "The average price for the products is $6.8, where beer products are 3x the average price.\n",
    "Beer is also limited to a certain audience, while all other products are available to all age groups and penetrate a bigger customer market."
   ]
  },
  {
   "cell_type": "markdown",
   "metadata": {},
   "source": [
    "## 6.  How are purchase patterns impacted by time of day or day of the week?"
   ]
  },
  {
   "cell_type": "code",
   "execution_count": 370,
   "metadata": {},
   "outputs": [
    {
     "data": {
      "text/html": [
       "<div>\n",
       "<style scoped>\n",
       "    .dataframe tbody tr th:only-of-type {\n",
       "        vertical-align: middle;\n",
       "    }\n",
       "\n",
       "    .dataframe tbody tr th {\n",
       "        vertical-align: top;\n",
       "    }\n",
       "\n",
       "    .dataframe thead th {\n",
       "        text-align: right;\n",
       "    }\n",
       "</style>\n",
       "<table border=\"1\" class=\"dataframe\">\n",
       "  <thead>\n",
       "    <tr style=\"text-align: right;\">\n",
       "      <th></th>\n",
       "      <th>Timestamp</th>\n",
       "      <th>Transaction Number</th>\n",
       "      <th>Product UPC Number</th>\n",
       "      <th>Price</th>\n",
       "      <th>Retailer</th>\n",
       "      <th>Product Name</th>\n",
       "      <th>DayofWeek</th>\n",
       "      <th>Hour</th>\n",
       "    </tr>\n",
       "  </thead>\n",
       "  <tbody>\n",
       "    <tr>\n",
       "      <th>0</th>\n",
       "      <td>2018-03-02 08:15:50</td>\n",
       "      <td>123098</td>\n",
       "      <td>111100001234</td>\n",
       "      <td>1.80</td>\n",
       "      <td>Fast Mart</td>\n",
       "      <td>Coke 20 oz</td>\n",
       "      <td>Friday</td>\n",
       "      <td>8</td>\n",
       "    </tr>\n",
       "    <tr>\n",
       "      <th>1</th>\n",
       "      <td>2018-03-02 08:15:50</td>\n",
       "      <td>123098</td>\n",
       "      <td>111100001235</td>\n",
       "      <td>23.45</td>\n",
       "      <td>Fast Mart</td>\n",
       "      <td>Miller Lite 24 Pack</td>\n",
       "      <td>Friday</td>\n",
       "      <td>8</td>\n",
       "    </tr>\n",
       "    <tr>\n",
       "      <th>2</th>\n",
       "      <td>2018-03-02 08:15:50</td>\n",
       "      <td>123098</td>\n",
       "      <td>111100001236</td>\n",
       "      <td>6.99</td>\n",
       "      <td>Fast Mart</td>\n",
       "      <td>Pepsi 12 Pack</td>\n",
       "      <td>Friday</td>\n",
       "      <td>8</td>\n",
       "    </tr>\n",
       "  </tbody>\n",
       "</table>\n",
       "</div>"
      ],
      "text/plain": [
       "            Timestamp  Transaction Number  Product UPC Number  Price  \\\n",
       "0 2018-03-02 08:15:50              123098        111100001234   1.80   \n",
       "1 2018-03-02 08:15:50              123098        111100001235  23.45   \n",
       "2 2018-03-02 08:15:50              123098        111100001236   6.99   \n",
       "\n",
       "    Retailer         Product Name DayofWeek  Hour  \n",
       "0  Fast Mart           Coke 20 oz    Friday     8  \n",
       "1  Fast Mart  Miller Lite 24 Pack    Friday     8  \n",
       "2  Fast Mart        Pepsi 12 Pack    Friday     8  "
      ]
     },
     "execution_count": 370,
     "metadata": {},
     "output_type": "execute_result"
    }
   ],
   "source": [
    "pos[\"DayofWeek\"] = pos[\"Timestamp\"].apply(lambda x: x.dayofweek)\n",
    "pos[\"DayofWeek\"] = pos[\"DayofWeek\"].map(dayofweekDict)\n",
    "pos[\"Hour\"] = pos[\"Timestamp\"].apply(lambda x: x.hour)\n",
    "\n",
    "pos.head(3)"
   ]
  },
  {
   "cell_type": "code",
   "execution_count": 371,
   "metadata": {},
   "outputs": [
    {
     "data": {
      "text/plain": [
       "<Figure size 864x360 with 0 Axes>"
      ]
     },
     "execution_count": 371,
     "metadata": {},
     "output_type": "execute_result"
    },
    {
     "data": {
      "text/plain": [
       "Text(0.5, 1.0, 'Order Count by Day of Week')"
      ]
     },
     "execution_count": 371,
     "metadata": {},
     "output_type": "execute_result"
    },
    {
     "data": {
      "text/plain": [
       "<matplotlib.axes._subplots.AxesSubplot at 0x1a4ad879b0>"
      ]
     },
     "execution_count": 371,
     "metadata": {},
     "output_type": "execute_result"
    },
    {
     "data": {
      "text/plain": [
       "<Figure size 864x360 with 0 Axes>"
      ]
     },
     "execution_count": 371,
     "metadata": {},
     "output_type": "execute_result"
    },
    {
     "data": {
      "text/plain": [
       "Text(0.5, 1.0, 'Order Count by Hour of Day')"
      ]
     },
     "execution_count": 371,
     "metadata": {},
     "output_type": "execute_result"
    },
    {
     "data": {
      "text/plain": [
       "<matplotlib.axes._subplots.AxesSubplot at 0x1a4ad9c0f0>"
      ]
     },
     "execution_count": 371,
     "metadata": {},
     "output_type": "execute_result"
    },
    {
     "data": {
      "text/plain": [
       "<Figure size 864x360 with 0 Axes>"
      ]
     },
     "execution_count": 371,
     "metadata": {},
     "output_type": "execute_result"
    },
    {
     "data": {
      "text/plain": [
       "Text(0.5, 1.0, 'Order Count by Hour of Day')"
      ]
     },
     "execution_count": 371,
     "metadata": {},
     "output_type": "execute_result"
    },
    {
     "data": {
      "text/plain": [
       "<matplotlib.axes._subplots.AxesSubplot at 0x1a4a9f4940>"
      ]
     },
     "execution_count": 371,
     "metadata": {},
     "output_type": "execute_result"
    },
    {
     "data": {
      "image/png": "[encoded data removed]",
      "text/plain": [
       "<Figure size 864x360 with 1 Axes>"
      ]
     },
     "metadata": {
      "needs_background": "light"
     },
     "output_type": "display_data"
    },
    {
     "data": {
      "image/png": "[encoded data removed]",
      "text/plain": [
       "<Figure size 864x360 with 1 Axes>"
      ]
     },
     "metadata": {
      "needs_background": "light"
     },
     "output_type": "display_data"
    },
    {
     "data": {
      "image/png": "[encoded data removed]",
      "text/plain": [
       "<Figure size 864x360 with 1 Axes>"
      ]
     },
     "metadata": {
      "needs_background": "light"
     },
     "output_type": "display_data"
    }
   ],
   "source": [
    "plt.figure(figsize = (12,5))\n",
    "plt.title(\"Order Count by Day of Week\")\n",
    "sns.countplot(pos[\"DayofWeek\"])\n",
    "\n",
    "plt.figure(figsize = (12,5))\n",
    "plt.title(\"Order Count by Hour of Day\")\n",
    "sns.countplot(pos[\"Hour\"])\n",
    "\n",
    "plt.figure(figsize = (12,5))\n",
    "plt.title(\"Order Count by Hour of Day\")\n",
    "sns.countplot(pos[\"DayofWeek\"], hue = pos[\"Hour\"], palette=\"rocket\")"
   ]
  },
  {
   "cell_type": "markdown",
   "metadata": {},
   "source": [
    "#### Analysis\n",
    "\n",
    "Purchase activity has a slight higher uptick on the weekends when customers are off of work and traveling.\n",
    "Hour of the day also has cyclical effects on purchase activity.  Upticks on orders occure in early morning between 7-8, again at lunch time from 12-1. Another spike occurs in mid afternoon between 3-4, where customers may be interested in snacks before dinner.  A heavy tapering of purchase activity is seen 8pm onwards."
   ]
  },
  {
   "cell_type": "markdown",
   "metadata": {},
   "source": [
    "## 7.  Are there products that are more likely to be purchased together? If so, can you quantify this?"
   ]
  },
  {
   "cell_type": "markdown",
   "metadata": {},
   "source": [
    "#### Definitions of Key Apriori Algortihm Metrics/Scores\n",
    "\n",
    "1.  Support \n",
    "Perecentage of occurence of item,a out of all transactions\n",
    "Example:  Item A (Milk) occurs 3 times out of 5 transactions or baskets in a database\n",
    "Support for item A will be 3/5 or 0.6\n",
    "\n",
    "2.  Confidence\n",
    "support(aUb)/support(a)\n",
    "\n",
    "The percentage item a and b occur together, divided by the occurence of item a\n",
    "the con about using confidence is that it doesn't account for the support of item b, which can skew decision making if item b is not popular, and we have an over optimistic confidence that item a and item b should be reccomended\n",
    "\n",
    "\n",
    "3.  Lift - helps decipher and adds meaning to the value of confidence\n",
    "Equation:  support(aUb)/support(a) * support(b)\n",
    "if lift>1, then item b is likely to be bought with item a\n",
    "\n"
   ]
  },
  {
   "cell_type": "code",
   "execution_count": 422,
   "metadata": {},
   "outputs": [
    {
     "data": {
      "text/html": [
       "<div>\n",
       "<style scoped>\n",
       "    .dataframe tbody tr th:only-of-type {\n",
       "        vertical-align: middle;\n",
       "    }\n",
       "\n",
       "    .dataframe tbody tr th {\n",
       "        vertical-align: top;\n",
       "    }\n",
       "\n",
       "    .dataframe thead th {\n",
       "        text-align: right;\n",
       "    }\n",
       "</style>\n",
       "<table border=\"1\" class=\"dataframe\">\n",
       "  <thead>\n",
       "    <tr style=\"text-align: right;\">\n",
       "      <th></th>\n",
       "      <th>Timestamp</th>\n",
       "      <th>Transaction Number</th>\n",
       "      <th>Product UPC Number</th>\n",
       "      <th>Price</th>\n",
       "      <th>Retailer</th>\n",
       "      <th>Product Name</th>\n",
       "      <th>DayofWeek</th>\n",
       "      <th>Hour</th>\n",
       "    </tr>\n",
       "  </thead>\n",
       "  <tbody>\n",
       "    <tr>\n",
       "      <th>0</th>\n",
       "      <td>2018-03-02 08:15:50.000</td>\n",
       "      <td>123098</td>\n",
       "      <td>111100001234</td>\n",
       "      <td>1.80</td>\n",
       "      <td>Fast Mart</td>\n",
       "      <td>Coke 20 oz</td>\n",
       "      <td>Friday</td>\n",
       "      <td>8</td>\n",
       "    </tr>\n",
       "    <tr>\n",
       "      <th>1</th>\n",
       "      <td>2018-03-02 08:15:50.000</td>\n",
       "      <td>123098</td>\n",
       "      <td>111100001235</td>\n",
       "      <td>23.45</td>\n",
       "      <td>Fast Mart</td>\n",
       "      <td>Miller Lite 24 Pack</td>\n",
       "      <td>Friday</td>\n",
       "      <td>8</td>\n",
       "    </tr>\n",
       "    <tr>\n",
       "      <th>2</th>\n",
       "      <td>2018-03-02 08:15:50.000</td>\n",
       "      <td>123098</td>\n",
       "      <td>111100001236</td>\n",
       "      <td>6.99</td>\n",
       "      <td>Fast Mart</td>\n",
       "      <td>Pepsi 12 Pack</td>\n",
       "      <td>Friday</td>\n",
       "      <td>8</td>\n",
       "    </tr>\n",
       "    <tr>\n",
       "      <th>3</th>\n",
       "      <td>2018-03-02 08:19:51.920</td>\n",
       "      <td>123099</td>\n",
       "      <td>111100001236</td>\n",
       "      <td>6.99</td>\n",
       "      <td>Quick Stop</td>\n",
       "      <td>Pepsi 12 Pack</td>\n",
       "      <td>Friday</td>\n",
       "      <td>8</td>\n",
       "    </tr>\n",
       "    <tr>\n",
       "      <th>4</th>\n",
       "      <td>2018-03-02 08:19:51.920</td>\n",
       "      <td>123099</td>\n",
       "      <td>111100001237</td>\n",
       "      <td>7.15</td>\n",
       "      <td>Quick Stop</td>\n",
       "      <td>Coke 12 Pack</td>\n",
       "      <td>Friday</td>\n",
       "      <td>8</td>\n",
       "    </tr>\n",
       "  </tbody>\n",
       "</table>\n",
       "</div>"
      ],
      "text/plain": [
       "                Timestamp  Transaction Number  Product UPC Number  Price  \\\n",
       "0 2018-03-02 08:15:50.000              123098        111100001234   1.80   \n",
       "1 2018-03-02 08:15:50.000              123098        111100001235  23.45   \n",
       "2 2018-03-02 08:15:50.000              123098        111100001236   6.99   \n",
       "3 2018-03-02 08:19:51.920              123099        111100001236   6.99   \n",
       "4 2018-03-02 08:19:51.920              123099        111100001237   7.15   \n",
       "\n",
       "     Retailer         Product Name DayofWeek  Hour  \n",
       "0   Fast Mart           Coke 20 oz    Friday     8  \n",
       "1   Fast Mart  Miller Lite 24 Pack    Friday     8  \n",
       "2   Fast Mart        Pepsi 12 Pack    Friday     8  \n",
       "3  Quick Stop        Pepsi 12 Pack    Friday     8  \n",
       "4  Quick Stop         Coke 12 Pack    Friday     8  "
      ]
     },
     "execution_count": 422,
     "metadata": {},
     "output_type": "execute_result"
    },
    {
     "data": {
      "text/plain": [
       "329"
      ]
     },
     "execution_count": 422,
     "metadata": {},
     "output_type": "execute_result"
    },
    {
     "data": {
      "text/plain": [
       "(1189, 8)"
      ]
     },
     "execution_count": 422,
     "metadata": {},
     "output_type": "execute_result"
    },
    {
     "data": {
      "text/plain": [
       "(1395, 8)"
      ]
     },
     "execution_count": 422,
     "metadata": {},
     "output_type": "execute_result"
    }
   ],
   "source": [
    "#trimming dataset down to orders that had mulitiple items\n",
    "pos.loc[pos[\"Transaction Number\"].duplicated(keep = False)].head()\n",
    "pos.loc[pos[\"Transaction Number\"].duplicated(keep = False)][\"Transaction Number\"].nunique()\n",
    "\n",
    "multiItemOrders = pos.loc[pos[\"Transaction Number\"].duplicated(keep = False)]\n",
    "multiItemOrders.shape\n",
    "pos.shape"
   ]
  },
  {
   "cell_type": "code",
   "execution_count": 423,
   "metadata": {},
   "outputs": [],
   "source": [
    "#grouping multi item orders by transaction number and getting quantity of items purchased\n",
    "groupedMulti = multiItemOrders.groupby([\"Transaction Number\", \"Product Name\"])[\"Timestamp\"]"
   ]
  },
  {
   "cell_type": "code",
   "execution_count": 424,
   "metadata": {},
   "outputs": [
    {
     "data": {
      "text/html": [
       "<div>\n",
       "<style scoped>\n",
       "    .dataframe tbody tr th:only-of-type {\n",
       "        vertical-align: middle;\n",
       "    }\n",
       "\n",
       "    .dataframe tbody tr th {\n",
       "        vertical-align: top;\n",
       "    }\n",
       "\n",
       "    .dataframe thead th {\n",
       "        text-align: right;\n",
       "    }\n",
       "</style>\n",
       "<table border=\"1\" class=\"dataframe\">\n",
       "  <thead>\n",
       "    <tr style=\"text-align: right;\">\n",
       "      <th>Product Name</th>\n",
       "      <th>Bud Light 24 Pack</th>\n",
       "      <th>Coke 12 Pack</th>\n",
       "      <th>Coke 20 oz</th>\n",
       "      <th>Doritos 12 oz.</th>\n",
       "      <th>Hersheys Candy</th>\n",
       "      <th>Lays Chips 12 oz.</th>\n",
       "      <th>M&amp;M's Candy</th>\n",
       "      <th>Miller Lite 24 Pack</th>\n",
       "      <th>Pepsi 12 Pack</th>\n",
       "      <th>Pepsi 20 oz</th>\n",
       "      <th>Slim Jim</th>\n",
       "      <th>Starbucks Ice</th>\n",
       "    </tr>\n",
       "    <tr>\n",
       "      <th>Transaction Number</th>\n",
       "      <th></th>\n",
       "      <th></th>\n",
       "      <th></th>\n",
       "      <th></th>\n",
       "      <th></th>\n",
       "      <th></th>\n",
       "      <th></th>\n",
       "      <th></th>\n",
       "      <th></th>\n",
       "      <th></th>\n",
       "      <th></th>\n",
       "      <th></th>\n",
       "    </tr>\n",
       "  </thead>\n",
       "  <tbody>\n",
       "    <tr>\n",
       "      <th>123098</th>\n",
       "      <td>NaN</td>\n",
       "      <td>NaN</td>\n",
       "      <td>1.0</td>\n",
       "      <td>NaN</td>\n",
       "      <td>NaN</td>\n",
       "      <td>NaN</td>\n",
       "      <td>NaN</td>\n",
       "      <td>1.0</td>\n",
       "      <td>1.0</td>\n",
       "      <td>NaN</td>\n",
       "      <td>NaN</td>\n",
       "      <td>NaN</td>\n",
       "    </tr>\n",
       "    <tr>\n",
       "      <th>123099</th>\n",
       "      <td>NaN</td>\n",
       "      <td>2.0</td>\n",
       "      <td>NaN</td>\n",
       "      <td>1.0</td>\n",
       "      <td>NaN</td>\n",
       "      <td>NaN</td>\n",
       "      <td>NaN</td>\n",
       "      <td>NaN</td>\n",
       "      <td>1.0</td>\n",
       "      <td>NaN</td>\n",
       "      <td>NaN</td>\n",
       "      <td>NaN</td>\n",
       "    </tr>\n",
       "    <tr>\n",
       "      <th>123100</th>\n",
       "      <td>NaN</td>\n",
       "      <td>NaN</td>\n",
       "      <td>1.0</td>\n",
       "      <td>NaN</td>\n",
       "      <td>NaN</td>\n",
       "      <td>1.0</td>\n",
       "      <td>1.0</td>\n",
       "      <td>NaN</td>\n",
       "      <td>NaN</td>\n",
       "      <td>NaN</td>\n",
       "      <td>2.0</td>\n",
       "      <td>NaN</td>\n",
       "    </tr>\n",
       "    <tr>\n",
       "      <th>123101</th>\n",
       "      <td>2.0</td>\n",
       "      <td>NaN</td>\n",
       "      <td>NaN</td>\n",
       "      <td>1.0</td>\n",
       "      <td>NaN</td>\n",
       "      <td>NaN</td>\n",
       "      <td>NaN</td>\n",
       "      <td>2.0</td>\n",
       "      <td>NaN</td>\n",
       "      <td>NaN</td>\n",
       "      <td>NaN</td>\n",
       "      <td>NaN</td>\n",
       "    </tr>\n",
       "    <tr>\n",
       "      <th>123102</th>\n",
       "      <td>NaN</td>\n",
       "      <td>1.0</td>\n",
       "      <td>NaN</td>\n",
       "      <td>NaN</td>\n",
       "      <td>NaN</td>\n",
       "      <td>NaN</td>\n",
       "      <td>NaN</td>\n",
       "      <td>NaN</td>\n",
       "      <td>1.0</td>\n",
       "      <td>1.0</td>\n",
       "      <td>NaN</td>\n",
       "      <td>NaN</td>\n",
       "    </tr>\n",
       "  </tbody>\n",
       "</table>\n",
       "</div>"
      ],
      "text/plain": [
       "Product Name        Bud Light 24 Pack  Coke 12 Pack  Coke 20 oz  \\\n",
       "Transaction Number                                                \n",
       "123098                            NaN           NaN         1.0   \n",
       "123099                            NaN           2.0         NaN   \n",
       "123100                            NaN           NaN         1.0   \n",
       "123101                            2.0           NaN         NaN   \n",
       "123102                            NaN           1.0         NaN   \n",
       "\n",
       "Product Name        Doritos 12 oz.  Hersheys Candy  Lays Chips 12 oz.  \\\n",
       "Transaction Number                                                      \n",
       "123098                         NaN             NaN                NaN   \n",
       "123099                         1.0             NaN                NaN   \n",
       "123100                         NaN             NaN                1.0   \n",
       "123101                         1.0             NaN                NaN   \n",
       "123102                         NaN             NaN                NaN   \n",
       "\n",
       "Product Name        M&M's Candy  Miller Lite 24 Pack  Pepsi 12 Pack  \\\n",
       "Transaction Number                                                    \n",
       "123098                      NaN                  1.0            1.0   \n",
       "123099                      NaN                  NaN            1.0   \n",
       "123100                      1.0                  NaN            NaN   \n",
       "123101                      NaN                  2.0            NaN   \n",
       "123102                      NaN                  NaN            1.0   \n",
       "\n",
       "Product Name        Pepsi 20 oz  Slim Jim  Starbucks Ice  \n",
       "Transaction Number                                        \n",
       "123098                      NaN       NaN            NaN  \n",
       "123099                      NaN       NaN            NaN  \n",
       "123100                      NaN       2.0            NaN  \n",
       "123101                      NaN       NaN            NaN  \n",
       "123102                      1.0       NaN            NaN  "
      ]
     },
     "execution_count": 424,
     "metadata": {},
     "output_type": "execute_result"
    }
   ],
   "source": [
    "orderCombos = groupedMulti.count().unstack()\n",
    "orderCombos.head()"
   ]
  },
  {
   "cell_type": "code",
   "execution_count": 425,
   "metadata": {},
   "outputs": [
    {
     "data": {
      "text/html": [
       "<div>\n",
       "<style scoped>\n",
       "    .dataframe tbody tr th:only-of-type {\n",
       "        vertical-align: middle;\n",
       "    }\n",
       "\n",
       "    .dataframe tbody tr th {\n",
       "        vertical-align: top;\n",
       "    }\n",
       "\n",
       "    .dataframe thead th {\n",
       "        text-align: right;\n",
       "    }\n",
       "</style>\n",
       "<table border=\"1\" class=\"dataframe\">\n",
       "  <thead>\n",
       "    <tr style=\"text-align: right;\">\n",
       "      <th>Product Name</th>\n",
       "      <th>Bud Light 24 Pack</th>\n",
       "      <th>Coke 12 Pack</th>\n",
       "      <th>Coke 20 oz</th>\n",
       "      <th>Doritos 12 oz.</th>\n",
       "      <th>Hersheys Candy</th>\n",
       "      <th>Lays Chips 12 oz.</th>\n",
       "      <th>M&amp;M's Candy</th>\n",
       "      <th>Miller Lite 24 Pack</th>\n",
       "      <th>Pepsi 12 Pack</th>\n",
       "      <th>Pepsi 20 oz</th>\n",
       "      <th>Slim Jim</th>\n",
       "      <th>Starbucks Ice</th>\n",
       "    </tr>\n",
       "    <tr>\n",
       "      <th>Transaction Number</th>\n",
       "      <th></th>\n",
       "      <th></th>\n",
       "      <th></th>\n",
       "      <th></th>\n",
       "      <th></th>\n",
       "      <th></th>\n",
       "      <th></th>\n",
       "      <th></th>\n",
       "      <th></th>\n",
       "      <th></th>\n",
       "      <th></th>\n",
       "      <th></th>\n",
       "    </tr>\n",
       "  </thead>\n",
       "  <tbody>\n",
       "    <tr>\n",
       "      <th>123098</th>\n",
       "      <td>0.0</td>\n",
       "      <td>0.0</td>\n",
       "      <td>1.0</td>\n",
       "      <td>0.0</td>\n",
       "      <td>0.0</td>\n",
       "      <td>0.0</td>\n",
       "      <td>0.0</td>\n",
       "      <td>1.0</td>\n",
       "      <td>1.0</td>\n",
       "      <td>0.0</td>\n",
       "      <td>0.0</td>\n",
       "      <td>0.0</td>\n",
       "    </tr>\n",
       "    <tr>\n",
       "      <th>123099</th>\n",
       "      <td>0.0</td>\n",
       "      <td>2.0</td>\n",
       "      <td>0.0</td>\n",
       "      <td>1.0</td>\n",
       "      <td>0.0</td>\n",
       "      <td>0.0</td>\n",
       "      <td>0.0</td>\n",
       "      <td>0.0</td>\n",
       "      <td>1.0</td>\n",
       "      <td>0.0</td>\n",
       "      <td>0.0</td>\n",
       "      <td>0.0</td>\n",
       "    </tr>\n",
       "    <tr>\n",
       "      <th>123100</th>\n",
       "      <td>0.0</td>\n",
       "      <td>0.0</td>\n",
       "      <td>1.0</td>\n",
       "      <td>0.0</td>\n",
       "      <td>0.0</td>\n",
       "      <td>1.0</td>\n",
       "      <td>1.0</td>\n",
       "      <td>0.0</td>\n",
       "      <td>0.0</td>\n",
       "      <td>0.0</td>\n",
       "      <td>2.0</td>\n",
       "      <td>0.0</td>\n",
       "    </tr>\n",
       "    <tr>\n",
       "      <th>123101</th>\n",
       "      <td>2.0</td>\n",
       "      <td>0.0</td>\n",
       "      <td>0.0</td>\n",
       "      <td>1.0</td>\n",
       "      <td>0.0</td>\n",
       "      <td>0.0</td>\n",
       "      <td>0.0</td>\n",
       "      <td>2.0</td>\n",
       "      <td>0.0</td>\n",
       "      <td>0.0</td>\n",
       "      <td>0.0</td>\n",
       "      <td>0.0</td>\n",
       "    </tr>\n",
       "    <tr>\n",
       "      <th>123102</th>\n",
       "      <td>0.0</td>\n",
       "      <td>1.0</td>\n",
       "      <td>0.0</td>\n",
       "      <td>0.0</td>\n",
       "      <td>0.0</td>\n",
       "      <td>0.0</td>\n",
       "      <td>0.0</td>\n",
       "      <td>0.0</td>\n",
       "      <td>1.0</td>\n",
       "      <td>1.0</td>\n",
       "      <td>0.0</td>\n",
       "      <td>0.0</td>\n",
       "    </tr>\n",
       "  </tbody>\n",
       "</table>\n",
       "</div>"
      ],
      "text/plain": [
       "Product Name        Bud Light 24 Pack  Coke 12 Pack  Coke 20 oz  \\\n",
       "Transaction Number                                                \n",
       "123098                            0.0           0.0         1.0   \n",
       "123099                            0.0           2.0         0.0   \n",
       "123100                            0.0           0.0         1.0   \n",
       "123101                            2.0           0.0         0.0   \n",
       "123102                            0.0           1.0         0.0   \n",
       "\n",
       "Product Name        Doritos 12 oz.  Hersheys Candy  Lays Chips 12 oz.  \\\n",
       "Transaction Number                                                      \n",
       "123098                         0.0             0.0                0.0   \n",
       "123099                         1.0             0.0                0.0   \n",
       "123100                         0.0             0.0                1.0   \n",
       "123101                         1.0             0.0                0.0   \n",
       "123102                         0.0             0.0                0.0   \n",
       "\n",
       "Product Name        M&M's Candy  Miller Lite 24 Pack  Pepsi 12 Pack  \\\n",
       "Transaction Number                                                    \n",
       "123098                      0.0                  1.0            1.0   \n",
       "123099                      0.0                  0.0            1.0   \n",
       "123100                      1.0                  0.0            0.0   \n",
       "123101                      0.0                  2.0            0.0   \n",
       "123102                      0.0                  0.0            1.0   \n",
       "\n",
       "Product Name        Pepsi 20 oz  Slim Jim  Starbucks Ice  \n",
       "Transaction Number                                        \n",
       "123098                      0.0       0.0            0.0  \n",
       "123099                      0.0       0.0            0.0  \n",
       "123100                      0.0       2.0            0.0  \n",
       "123101                      0.0       0.0            0.0  \n",
       "123102                      1.0       0.0            0.0  "
      ]
     },
     "execution_count": 425,
     "metadata": {},
     "output_type": "execute_result"
    }
   ],
   "source": [
    "orderCombos.fillna(0, inplace = True)\n",
    "orderCombos.head()"
   ]
  },
  {
   "cell_type": "code",
   "execution_count": 571,
   "metadata": {},
   "outputs": [],
   "source": [
    "def binaryOrder(quantity):\n",
    "    '''\n",
    "    This function will create binary values of 1's and 0's based on if items were bought in a given transaction\n",
    "    '''\n",
    "    \n",
    "    if quantity > 0:\n",
    "        return 1\n",
    "    else:\n",
    "        return 0"
   ]
  },
  {
   "cell_type": "code",
   "execution_count": 572,
   "metadata": {},
   "outputs": [
    {
     "data": {
      "text/html": [
       "<div>\n",
       "<style scoped>\n",
       "    .dataframe tbody tr th:only-of-type {\n",
       "        vertical-align: middle;\n",
       "    }\n",
       "\n",
       "    .dataframe tbody tr th {\n",
       "        vertical-align: top;\n",
       "    }\n",
       "\n",
       "    .dataframe thead th {\n",
       "        text-align: right;\n",
       "    }\n",
       "</style>\n",
       "<table border=\"1\" class=\"dataframe\">\n",
       "  <thead>\n",
       "    <tr style=\"text-align: right;\">\n",
       "      <th>Product Name</th>\n",
       "      <th>Bud Light 24 Pack</th>\n",
       "      <th>Coke 12 Pack</th>\n",
       "      <th>Coke 20 oz</th>\n",
       "      <th>Doritos 12 oz.</th>\n",
       "      <th>Hersheys Candy</th>\n",
       "      <th>Lays Chips 12 oz.</th>\n",
       "      <th>M&amp;M's Candy</th>\n",
       "      <th>Miller Lite 24 Pack</th>\n",
       "      <th>Pepsi 12 Pack</th>\n",
       "      <th>Pepsi 20 oz</th>\n",
       "      <th>Slim Jim</th>\n",
       "      <th>Starbucks Ice</th>\n",
       "    </tr>\n",
       "    <tr>\n",
       "      <th>Transaction Number</th>\n",
       "      <th></th>\n",
       "      <th></th>\n",
       "      <th></th>\n",
       "      <th></th>\n",
       "      <th></th>\n",
       "      <th></th>\n",
       "      <th></th>\n",
       "      <th></th>\n",
       "      <th></th>\n",
       "      <th></th>\n",
       "      <th></th>\n",
       "      <th></th>\n",
       "    </tr>\n",
       "  </thead>\n",
       "  <tbody>\n",
       "    <tr>\n",
       "      <th>123098</th>\n",
       "      <td>0</td>\n",
       "      <td>0</td>\n",
       "      <td>1</td>\n",
       "      <td>0</td>\n",
       "      <td>0</td>\n",
       "      <td>0</td>\n",
       "      <td>0</td>\n",
       "      <td>1</td>\n",
       "      <td>1</td>\n",
       "      <td>0</td>\n",
       "      <td>0</td>\n",
       "      <td>0</td>\n",
       "    </tr>\n",
       "    <tr>\n",
       "      <th>123099</th>\n",
       "      <td>0</td>\n",
       "      <td>1</td>\n",
       "      <td>0</td>\n",
       "      <td>1</td>\n",
       "      <td>0</td>\n",
       "      <td>0</td>\n",
       "      <td>0</td>\n",
       "      <td>0</td>\n",
       "      <td>1</td>\n",
       "      <td>0</td>\n",
       "      <td>0</td>\n",
       "      <td>0</td>\n",
       "    </tr>\n",
       "    <tr>\n",
       "      <th>123100</th>\n",
       "      <td>0</td>\n",
       "      <td>0</td>\n",
       "      <td>1</td>\n",
       "      <td>0</td>\n",
       "      <td>0</td>\n",
       "      <td>1</td>\n",
       "      <td>1</td>\n",
       "      <td>0</td>\n",
       "      <td>0</td>\n",
       "      <td>0</td>\n",
       "      <td>1</td>\n",
       "      <td>0</td>\n",
       "    </tr>\n",
       "    <tr>\n",
       "      <th>123101</th>\n",
       "      <td>1</td>\n",
       "      <td>0</td>\n",
       "      <td>0</td>\n",
       "      <td>1</td>\n",
       "      <td>0</td>\n",
       "      <td>0</td>\n",
       "      <td>0</td>\n",
       "      <td>1</td>\n",
       "      <td>0</td>\n",
       "      <td>0</td>\n",
       "      <td>0</td>\n",
       "      <td>0</td>\n",
       "    </tr>\n",
       "    <tr>\n",
       "      <th>123102</th>\n",
       "      <td>0</td>\n",
       "      <td>1</td>\n",
       "      <td>0</td>\n",
       "      <td>0</td>\n",
       "      <td>0</td>\n",
       "      <td>0</td>\n",
       "      <td>0</td>\n",
       "      <td>0</td>\n",
       "      <td>1</td>\n",
       "      <td>1</td>\n",
       "      <td>0</td>\n",
       "      <td>0</td>\n",
       "    </tr>\n",
       "  </tbody>\n",
       "</table>\n",
       "</div>"
      ],
      "text/plain": [
       "Product Name        Bud Light 24 Pack  Coke 12 Pack  Coke 20 oz  \\\n",
       "Transaction Number                                                \n",
       "123098                              0             0           1   \n",
       "123099                              0             1           0   \n",
       "123100                              0             0           1   \n",
       "123101                              1             0           0   \n",
       "123102                              0             1           0   \n",
       "\n",
       "Product Name        Doritos 12 oz.  Hersheys Candy  Lays Chips 12 oz.  \\\n",
       "Transaction Number                                                      \n",
       "123098                           0               0                  0   \n",
       "123099                           1               0                  0   \n",
       "123100                           0               0                  1   \n",
       "123101                           1               0                  0   \n",
       "123102                           0               0                  0   \n",
       "\n",
       "Product Name        M&M's Candy  Miller Lite 24 Pack  Pepsi 12 Pack  \\\n",
       "Transaction Number                                                    \n",
       "123098                        0                    1              1   \n",
       "123099                        0                    0              1   \n",
       "123100                        1                    0              0   \n",
       "123101                        0                    1              0   \n",
       "123102                        0                    0              1   \n",
       "\n",
       "Product Name        Pepsi 20 oz  Slim Jim  Starbucks Ice  \n",
       "Transaction Number                                        \n",
       "123098                        0         0              0  \n",
       "123099                        0         0              0  \n",
       "123100                        0         1              0  \n",
       "123101                        0         0              0  \n",
       "123102                        1         0              0  "
      ]
     },
     "execution_count": 572,
     "metadata": {},
     "output_type": "execute_result"
    }
   ],
   "source": [
    "orderCombos = orderCombos.applymap(binaryOrder)\n",
    "orderCombos.head()\n"
   ]
  },
  {
   "cell_type": "code",
   "execution_count": 573,
   "metadata": {},
   "outputs": [
    {
     "data": {
      "text/html": [
       "<div>\n",
       "<style scoped>\n",
       "    .dataframe tbody tr th:only-of-type {\n",
       "        vertical-align: middle;\n",
       "    }\n",
       "\n",
       "    .dataframe tbody tr th {\n",
       "        vertical-align: top;\n",
       "    }\n",
       "\n",
       "    .dataframe thead th {\n",
       "        text-align: right;\n",
       "    }\n",
       "</style>\n",
       "<table border=\"1\" class=\"dataframe\">\n",
       "  <thead>\n",
       "    <tr style=\"text-align: right;\">\n",
       "      <th>Product Name</th>\n",
       "      <th>Bud Light 24 Pack</th>\n",
       "      <th>Coke 12 Pack</th>\n",
       "      <th>Coke 20 oz</th>\n",
       "      <th>Doritos 12 oz.</th>\n",
       "      <th>Hersheys Candy</th>\n",
       "      <th>Lays Chips 12 oz.</th>\n",
       "      <th>M&amp;M's Candy</th>\n",
       "      <th>Miller Lite 24 Pack</th>\n",
       "      <th>Pepsi 12 Pack</th>\n",
       "      <th>Pepsi 20 oz</th>\n",
       "      <th>Slim Jim</th>\n",
       "      <th>Starbucks Ice</th>\n",
       "    </tr>\n",
       "  </thead>\n",
       "  <tbody>\n",
       "    <tr>\n",
       "      <th>count</th>\n",
       "      <td>329.000000</td>\n",
       "      <td>329.000000</td>\n",
       "      <td>329.000000</td>\n",
       "      <td>329.000000</td>\n",
       "      <td>329.000000</td>\n",
       "      <td>329.000000</td>\n",
       "      <td>329.000000</td>\n",
       "      <td>329.000000</td>\n",
       "      <td>329.000000</td>\n",
       "      <td>329.000000</td>\n",
       "      <td>329.000000</td>\n",
       "      <td>329.000000</td>\n",
       "    </tr>\n",
       "    <tr>\n",
       "      <th>mean</th>\n",
       "      <td>0.431611</td>\n",
       "      <td>0.294833</td>\n",
       "      <td>0.197568</td>\n",
       "      <td>0.294833</td>\n",
       "      <td>0.303951</td>\n",
       "      <td>0.319149</td>\n",
       "      <td>0.151976</td>\n",
       "      <td>0.191489</td>\n",
       "      <td>0.170213</td>\n",
       "      <td>0.176292</td>\n",
       "      <td>0.355623</td>\n",
       "      <td>0.164134</td>\n",
       "    </tr>\n",
       "    <tr>\n",
       "      <th>std</th>\n",
       "      <td>0.496055</td>\n",
       "      <td>0.456662</td>\n",
       "      <td>0.398771</td>\n",
       "      <td>0.456662</td>\n",
       "      <td>0.460663</td>\n",
       "      <td>0.466857</td>\n",
       "      <td>0.359544</td>\n",
       "      <td>0.394073</td>\n",
       "      <td>0.376392</td>\n",
       "      <td>0.381649</td>\n",
       "      <td>0.479431</td>\n",
       "      <td>0.370961</td>\n",
       "    </tr>\n",
       "    <tr>\n",
       "      <th>min</th>\n",
       "      <td>0.000000</td>\n",
       "      <td>0.000000</td>\n",
       "      <td>0.000000</td>\n",
       "      <td>0.000000</td>\n",
       "      <td>0.000000</td>\n",
       "      <td>0.000000</td>\n",
       "      <td>0.000000</td>\n",
       "      <td>0.000000</td>\n",
       "      <td>0.000000</td>\n",
       "      <td>0.000000</td>\n",
       "      <td>0.000000</td>\n",
       "      <td>0.000000</td>\n",
       "    </tr>\n",
       "    <tr>\n",
       "      <th>25%</th>\n",
       "      <td>0.000000</td>\n",
       "      <td>0.000000</td>\n",
       "      <td>0.000000</td>\n",
       "      <td>0.000000</td>\n",
       "      <td>0.000000</td>\n",
       "      <td>0.000000</td>\n",
       "      <td>0.000000</td>\n",
       "      <td>0.000000</td>\n",
       "      <td>0.000000</td>\n",
       "      <td>0.000000</td>\n",
       "      <td>0.000000</td>\n",
       "      <td>0.000000</td>\n",
       "    </tr>\n",
       "    <tr>\n",
       "      <th>50%</th>\n",
       "      <td>0.000000</td>\n",
       "      <td>0.000000</td>\n",
       "      <td>0.000000</td>\n",
       "      <td>0.000000</td>\n",
       "      <td>0.000000</td>\n",
       "      <td>0.000000</td>\n",
       "      <td>0.000000</td>\n",
       "      <td>0.000000</td>\n",
       "      <td>0.000000</td>\n",
       "      <td>0.000000</td>\n",
       "      <td>0.000000</td>\n",
       "      <td>0.000000</td>\n",
       "    </tr>\n",
       "    <tr>\n",
       "      <th>75%</th>\n",
       "      <td>1.000000</td>\n",
       "      <td>1.000000</td>\n",
       "      <td>0.000000</td>\n",
       "      <td>1.000000</td>\n",
       "      <td>1.000000</td>\n",
       "      <td>1.000000</td>\n",
       "      <td>0.000000</td>\n",
       "      <td>0.000000</td>\n",
       "      <td>0.000000</td>\n",
       "      <td>0.000000</td>\n",
       "      <td>1.000000</td>\n",
       "      <td>0.000000</td>\n",
       "    </tr>\n",
       "    <tr>\n",
       "      <th>max</th>\n",
       "      <td>1.000000</td>\n",
       "      <td>1.000000</td>\n",
       "      <td>1.000000</td>\n",
       "      <td>1.000000</td>\n",
       "      <td>1.000000</td>\n",
       "      <td>1.000000</td>\n",
       "      <td>1.000000</td>\n",
       "      <td>1.000000</td>\n",
       "      <td>1.000000</td>\n",
       "      <td>1.000000</td>\n",
       "      <td>1.000000</td>\n",
       "      <td>1.000000</td>\n",
       "    </tr>\n",
       "  </tbody>\n",
       "</table>\n",
       "</div>"
      ],
      "text/plain": [
       "Product Name  Bud Light 24 Pack  Coke 12 Pack  Coke 20 oz  Doritos 12 oz.  \\\n",
       "count                329.000000    329.000000  329.000000      329.000000   \n",
       "mean                   0.431611      0.294833    0.197568        0.294833   \n",
       "std                    0.496055      0.456662    0.398771        0.456662   \n",
       "min                    0.000000      0.000000    0.000000        0.000000   \n",
       "25%                    0.000000      0.000000    0.000000        0.000000   \n",
       "50%                    0.000000      0.000000    0.000000        0.000000   \n",
       "75%                    1.000000      1.000000    0.000000        1.000000   \n",
       "max                    1.000000      1.000000    1.000000        1.000000   \n",
       "\n",
       "Product Name  Hersheys Candy  Lays Chips 12 oz.  M&M's Candy  \\\n",
       "count             329.000000         329.000000   329.000000   \n",
       "mean                0.303951           0.319149     0.151976   \n",
       "std                 0.460663           0.466857     0.359544   \n",
       "min                 0.000000           0.000000     0.000000   \n",
       "25%                 0.000000           0.000000     0.000000   \n",
       "50%                 0.000000           0.000000     0.000000   \n",
       "75%                 1.000000           1.000000     0.000000   \n",
       "max                 1.000000           1.000000     1.000000   \n",
       "\n",
       "Product Name  Miller Lite 24 Pack  Pepsi 12 Pack  Pepsi 20 oz    Slim Jim  \\\n",
       "count                  329.000000     329.000000   329.000000  329.000000   \n",
       "mean                     0.191489       0.170213     0.176292    0.355623   \n",
       "std                      0.394073       0.376392     0.381649    0.479431   \n",
       "min                      0.000000       0.000000     0.000000    0.000000   \n",
       "25%                      0.000000       0.000000     0.000000    0.000000   \n",
       "50%                      0.000000       0.000000     0.000000    0.000000   \n",
       "75%                      0.000000       0.000000     0.000000    1.000000   \n",
       "max                      1.000000       1.000000     1.000000    1.000000   \n",
       "\n",
       "Product Name  Starbucks Ice  \n",
       "count            329.000000  \n",
       "mean               0.164134  \n",
       "std                0.370961  \n",
       "min                0.000000  \n",
       "25%                0.000000  \n",
       "50%                0.000000  \n",
       "75%                0.000000  \n",
       "max                1.000000  "
      ]
     },
     "execution_count": 573,
     "metadata": {},
     "output_type": "execute_result"
    }
   ],
   "source": [
    "orderCombos.describe()"
   ]
  },
  {
   "cell_type": "markdown",
   "metadata": {},
   "source": [
    "* mean in above table will represent the support of each product in multi item orders"
   ]
  },
  {
   "cell_type": "code",
   "execution_count": 433,
   "metadata": {},
   "outputs": [],
   "source": [
    "from mlxtend.frequent_patterns import apriori\n",
    "from mlxtend.frequent_patterns import association_rules"
   ]
  },
  {
   "cell_type": "markdown",
   "metadata": {},
   "source": [
    "### Training Apriori Model - Setting minimum support for products to occur at 10%"
   ]
  },
  {
   "cell_type": "markdown",
   "metadata": {},
   "source": [
    "* this ensures only popular items are included in order to maximize recommendation quality\n",
    "* a company may not want to waste time recommending purchase pairs or offering coupons to a customer where the item is not sold frequently enough"
   ]
  },
  {
   "cell_type": "code",
   "execution_count": 585,
   "metadata": {},
   "outputs": [
    {
     "data": {
      "text/html": [
       "<div>\n",
       "<style scoped>\n",
       "    .dataframe tbody tr th:only-of-type {\n",
       "        vertical-align: middle;\n",
       "    }\n",
       "\n",
       "    .dataframe tbody tr th {\n",
       "        vertical-align: top;\n",
       "    }\n",
       "\n",
       "    .dataframe thead th {\n",
       "        text-align: right;\n",
       "    }\n",
       "</style>\n",
       "<table border=\"1\" class=\"dataframe\">\n",
       "  <thead>\n",
       "    <tr style=\"text-align: right;\">\n",
       "      <th></th>\n",
       "      <th>support</th>\n",
       "      <th>itemsets</th>\n",
       "    </tr>\n",
       "  </thead>\n",
       "  <tbody>\n",
       "    <tr>\n",
       "      <th>0</th>\n",
       "      <td>0.431611</td>\n",
       "      <td>(Bud Light 24 Pack)</td>\n",
       "    </tr>\n",
       "    <tr>\n",
       "      <th>10</th>\n",
       "      <td>0.355623</td>\n",
       "      <td>(Slim Jim)</td>\n",
       "    </tr>\n",
       "    <tr>\n",
       "      <th>5</th>\n",
       "      <td>0.319149</td>\n",
       "      <td>(Lays Chips 12 oz.)</td>\n",
       "    </tr>\n",
       "    <tr>\n",
       "      <th>4</th>\n",
       "      <td>0.303951</td>\n",
       "      <td>(Hersheys Candy)</td>\n",
       "    </tr>\n",
       "    <tr>\n",
       "      <th>3</th>\n",
       "      <td>0.294833</td>\n",
       "      <td>(Doritos 12 oz.)</td>\n",
       "    </tr>\n",
       "    <tr>\n",
       "      <th>1</th>\n",
       "      <td>0.294833</td>\n",
       "      <td>(Coke 12 Pack)</td>\n",
       "    </tr>\n",
       "    <tr>\n",
       "      <th>2</th>\n",
       "      <td>0.197568</td>\n",
       "      <td>(Coke 20 oz)</td>\n",
       "    </tr>\n",
       "    <tr>\n",
       "      <th>7</th>\n",
       "      <td>0.191489</td>\n",
       "      <td>(Miller Lite 24 Pack)</td>\n",
       "    </tr>\n",
       "    <tr>\n",
       "      <th>9</th>\n",
       "      <td>0.176292</td>\n",
       "      <td>(Pepsi 20 oz)</td>\n",
       "    </tr>\n",
       "    <tr>\n",
       "      <th>8</th>\n",
       "      <td>0.170213</td>\n",
       "      <td>(Pepsi 12 Pack)</td>\n",
       "    </tr>\n",
       "    <tr>\n",
       "      <th>11</th>\n",
       "      <td>0.164134</td>\n",
       "      <td>(Starbucks Ice)</td>\n",
       "    </tr>\n",
       "    <tr>\n",
       "      <th>6</th>\n",
       "      <td>0.151976</td>\n",
       "      <td>(M&amp;M's Candy)</td>\n",
       "    </tr>\n",
       "    <tr>\n",
       "      <th>16</th>\n",
       "      <td>0.142857</td>\n",
       "      <td>(Slim Jim, Bud Light 24 Pack)</td>\n",
       "    </tr>\n",
       "    <tr>\n",
       "      <th>14</th>\n",
       "      <td>0.139818</td>\n",
       "      <td>(Hersheys Candy, Bud Light 24 Pack)</td>\n",
       "    </tr>\n",
       "    <tr>\n",
       "      <th>15</th>\n",
       "      <td>0.133739</td>\n",
       "      <td>(Lays Chips 12 oz., Bud Light 24 Pack)</td>\n",
       "    </tr>\n",
       "    <tr>\n",
       "      <th>13</th>\n",
       "      <td>0.118541</td>\n",
       "      <td>(Bud Light 24 Pack, Doritos 12 oz.)</td>\n",
       "    </tr>\n",
       "    <tr>\n",
       "      <th>21</th>\n",
       "      <td>0.115502</td>\n",
       "      <td>(Lays Chips 12 oz., Slim Jim)</td>\n",
       "    </tr>\n",
       "    <tr>\n",
       "      <th>19</th>\n",
       "      <td>0.112462</td>\n",
       "      <td>(Lays Chips 12 oz., Doritos 12 oz.)</td>\n",
       "    </tr>\n",
       "    <tr>\n",
       "      <th>20</th>\n",
       "      <td>0.112462</td>\n",
       "      <td>(Hersheys Candy, Slim Jim)</td>\n",
       "    </tr>\n",
       "    <tr>\n",
       "      <th>18</th>\n",
       "      <td>0.109422</td>\n",
       "      <td>(Coke 12 Pack, Slim Jim)</td>\n",
       "    </tr>\n",
       "    <tr>\n",
       "      <th>12</th>\n",
       "      <td>0.106383</td>\n",
       "      <td>(Coke 12 Pack, Bud Light 24 Pack)</td>\n",
       "    </tr>\n",
       "    <tr>\n",
       "      <th>17</th>\n",
       "      <td>0.103343</td>\n",
       "      <td>(Coke 12 Pack, Lays Chips 12 oz.)</td>\n",
       "    </tr>\n",
       "  </tbody>\n",
       "</table>\n",
       "</div>"
      ],
      "text/plain": [
       "     support                                itemsets\n",
       "0   0.431611                     (Bud Light 24 Pack)\n",
       "10  0.355623                              (Slim Jim)\n",
       "5   0.319149                     (Lays Chips 12 oz.)\n",
       "4   0.303951                        (Hersheys Candy)\n",
       "3   0.294833                        (Doritos 12 oz.)\n",
       "1   0.294833                          (Coke 12 Pack)\n",
       "2   0.197568                            (Coke 20 oz)\n",
       "7   0.191489                   (Miller Lite 24 Pack)\n",
       "9   0.176292                           (Pepsi 20 oz)\n",
       "8   0.170213                         (Pepsi 12 Pack)\n",
       "11  0.164134                         (Starbucks Ice)\n",
       "6   0.151976                           (M&M's Candy)\n",
       "16  0.142857           (Slim Jim, Bud Light 24 Pack)\n",
       "14  0.139818     (Hersheys Candy, Bud Light 24 Pack)\n",
       "15  0.133739  (Lays Chips 12 oz., Bud Light 24 Pack)\n",
       "13  0.118541     (Bud Light 24 Pack, Doritos 12 oz.)\n",
       "21  0.115502           (Lays Chips 12 oz., Slim Jim)\n",
       "19  0.112462     (Lays Chips 12 oz., Doritos 12 oz.)\n",
       "20  0.112462              (Hersheys Candy, Slim Jim)\n",
       "18  0.109422                (Coke 12 Pack, Slim Jim)\n",
       "12  0.106383       (Coke 12 Pack, Bud Light 24 Pack)\n",
       "17  0.103343       (Coke 12 Pack, Lays Chips 12 oz.)"
      ]
     },
     "execution_count": 585,
     "metadata": {},
     "output_type": "execute_result"
    }
   ],
   "source": [
    "aprioriModel = apriori(orderCombos, min_support=0.10, use_colnames=True)\n",
    "aprioriModel.sort_values(by = \"support\", ascending = False)"
   ]
  },
  {
   "cell_type": "code",
   "execution_count": 586,
   "metadata": {},
   "outputs": [
    {
     "data": {
      "text/html": [
       "<div>\n",
       "<style scoped>\n",
       "    .dataframe tbody tr th:only-of-type {\n",
       "        vertical-align: middle;\n",
       "    }\n",
       "\n",
       "    .dataframe tbody tr th {\n",
       "        vertical-align: top;\n",
       "    }\n",
       "\n",
       "    .dataframe thead th {\n",
       "        text-align: right;\n",
       "    }\n",
       "</style>\n",
       "<table border=\"1\" class=\"dataframe\">\n",
       "  <thead>\n",
       "    <tr style=\"text-align: right;\">\n",
       "      <th></th>\n",
       "      <th>antecedents</th>\n",
       "      <th>consequents</th>\n",
       "      <th>antecedent support</th>\n",
       "      <th>consequent support</th>\n",
       "      <th>support</th>\n",
       "      <th>confidence</th>\n",
       "      <th>lift</th>\n",
       "      <th>leverage</th>\n",
       "      <th>conviction</th>\n",
       "    </tr>\n",
       "  </thead>\n",
       "  <tbody>\n",
       "    <tr>\n",
       "      <th>0</th>\n",
       "      <td>(Hersheys Candy)</td>\n",
       "      <td>(Bud Light 24 Pack)</td>\n",
       "      <td>0.303951</td>\n",
       "      <td>0.431611</td>\n",
       "      <td>0.139818</td>\n",
       "      <td>0.460000</td>\n",
       "      <td>1.065775</td>\n",
       "      <td>0.008629</td>\n",
       "      <td>1.052572</td>\n",
       "    </tr>\n",
       "    <tr>\n",
       "      <th>1</th>\n",
       "      <td>(Bud Light 24 Pack)</td>\n",
       "      <td>(Hersheys Candy)</td>\n",
       "      <td>0.431611</td>\n",
       "      <td>0.303951</td>\n",
       "      <td>0.139818</td>\n",
       "      <td>0.323944</td>\n",
       "      <td>1.065775</td>\n",
       "      <td>0.008629</td>\n",
       "      <td>1.029572</td>\n",
       "    </tr>\n",
       "    <tr>\n",
       "      <th>10</th>\n",
       "      <td>(Lays Chips 12 oz.)</td>\n",
       "      <td>(Slim Jim)</td>\n",
       "      <td>0.319149</td>\n",
       "      <td>0.355623</td>\n",
       "      <td>0.115502</td>\n",
       "      <td>0.361905</td>\n",
       "      <td>1.017664</td>\n",
       "      <td>0.002005</td>\n",
       "      <td>1.009844</td>\n",
       "    </tr>\n",
       "    <tr>\n",
       "      <th>11</th>\n",
       "      <td>(Slim Jim)</td>\n",
       "      <td>(Lays Chips 12 oz.)</td>\n",
       "      <td>0.355623</td>\n",
       "      <td>0.319149</td>\n",
       "      <td>0.115502</td>\n",
       "      <td>0.324786</td>\n",
       "      <td>1.017664</td>\n",
       "      <td>0.002005</td>\n",
       "      <td>1.008349</td>\n",
       "    </tr>\n",
       "    <tr>\n",
       "      <th>6</th>\n",
       "      <td>(Lays Chips 12 oz.)</td>\n",
       "      <td>(Doritos 12 oz.)</td>\n",
       "      <td>0.319149</td>\n",
       "      <td>0.294833</td>\n",
       "      <td>0.112462</td>\n",
       "      <td>0.352381</td>\n",
       "      <td>1.195189</td>\n",
       "      <td>0.018366</td>\n",
       "      <td>1.088861</td>\n",
       "    </tr>\n",
       "    <tr>\n",
       "      <th>7</th>\n",
       "      <td>(Doritos 12 oz.)</td>\n",
       "      <td>(Lays Chips 12 oz.)</td>\n",
       "      <td>0.294833</td>\n",
       "      <td>0.319149</td>\n",
       "      <td>0.112462</td>\n",
       "      <td>0.381443</td>\n",
       "      <td>1.195189</td>\n",
       "      <td>0.018366</td>\n",
       "      <td>1.100709</td>\n",
       "    </tr>\n",
       "    <tr>\n",
       "      <th>8</th>\n",
       "      <td>(Hersheys Candy)</td>\n",
       "      <td>(Slim Jim)</td>\n",
       "      <td>0.303951</td>\n",
       "      <td>0.355623</td>\n",
       "      <td>0.112462</td>\n",
       "      <td>0.370000</td>\n",
       "      <td>1.040427</td>\n",
       "      <td>0.004370</td>\n",
       "      <td>1.022820</td>\n",
       "    </tr>\n",
       "    <tr>\n",
       "      <th>9</th>\n",
       "      <td>(Slim Jim)</td>\n",
       "      <td>(Hersheys Candy)</td>\n",
       "      <td>0.355623</td>\n",
       "      <td>0.303951</td>\n",
       "      <td>0.112462</td>\n",
       "      <td>0.316239</td>\n",
       "      <td>1.040427</td>\n",
       "      <td>0.004370</td>\n",
       "      <td>1.017971</td>\n",
       "    </tr>\n",
       "    <tr>\n",
       "      <th>4</th>\n",
       "      <td>(Coke 12 Pack)</td>\n",
       "      <td>(Slim Jim)</td>\n",
       "      <td>0.294833</td>\n",
       "      <td>0.355623</td>\n",
       "      <td>0.109422</td>\n",
       "      <td>0.371134</td>\n",
       "      <td>1.043616</td>\n",
       "      <td>0.004573</td>\n",
       "      <td>1.024665</td>\n",
       "    </tr>\n",
       "    <tr>\n",
       "      <th>5</th>\n",
       "      <td>(Slim Jim)</td>\n",
       "      <td>(Coke 12 Pack)</td>\n",
       "      <td>0.355623</td>\n",
       "      <td>0.294833</td>\n",
       "      <td>0.109422</td>\n",
       "      <td>0.307692</td>\n",
       "      <td>1.043616</td>\n",
       "      <td>0.004573</td>\n",
       "      <td>1.018575</td>\n",
       "    </tr>\n",
       "    <tr>\n",
       "      <th>2</th>\n",
       "      <td>(Coke 12 Pack)</td>\n",
       "      <td>(Lays Chips 12 oz.)</td>\n",
       "      <td>0.294833</td>\n",
       "      <td>0.319149</td>\n",
       "      <td>0.103343</td>\n",
       "      <td>0.350515</td>\n",
       "      <td>1.098282</td>\n",
       "      <td>0.009248</td>\n",
       "      <td>1.048294</td>\n",
       "    </tr>\n",
       "    <tr>\n",
       "      <th>3</th>\n",
       "      <td>(Lays Chips 12 oz.)</td>\n",
       "      <td>(Coke 12 Pack)</td>\n",
       "      <td>0.319149</td>\n",
       "      <td>0.294833</td>\n",
       "      <td>0.103343</td>\n",
       "      <td>0.323810</td>\n",
       "      <td>1.098282</td>\n",
       "      <td>0.009248</td>\n",
       "      <td>1.042853</td>\n",
       "    </tr>\n",
       "  </tbody>\n",
       "</table>\n",
       "</div>"
      ],
      "text/plain": [
       "            antecedents          consequents  antecedent support  \\\n",
       "0      (Hersheys Candy)  (Bud Light 24 Pack)            0.303951   \n",
       "1   (Bud Light 24 Pack)     (Hersheys Candy)            0.431611   \n",
       "10  (Lays Chips 12 oz.)           (Slim Jim)            0.319149   \n",
       "11           (Slim Jim)  (Lays Chips 12 oz.)            0.355623   \n",
       "6   (Lays Chips 12 oz.)     (Doritos 12 oz.)            0.319149   \n",
       "7      (Doritos 12 oz.)  (Lays Chips 12 oz.)            0.294833   \n",
       "8      (Hersheys Candy)           (Slim Jim)            0.303951   \n",
       "9            (Slim Jim)     (Hersheys Candy)            0.355623   \n",
       "4        (Coke 12 Pack)           (Slim Jim)            0.294833   \n",
       "5            (Slim Jim)       (Coke 12 Pack)            0.355623   \n",
       "2        (Coke 12 Pack)  (Lays Chips 12 oz.)            0.294833   \n",
       "3   (Lays Chips 12 oz.)       (Coke 12 Pack)            0.319149   \n",
       "\n",
       "    consequent support   support  confidence      lift  leverage  conviction  \n",
       "0             0.431611  0.139818    0.460000  1.065775  0.008629    1.052572  \n",
       "1             0.303951  0.139818    0.323944  1.065775  0.008629    1.029572  \n",
       "10            0.355623  0.115502    0.361905  1.017664  0.002005    1.009844  \n",
       "11            0.319149  0.115502    0.324786  1.017664  0.002005    1.008349  \n",
       "6             0.294833  0.112462    0.352381  1.195189  0.018366    1.088861  \n",
       "7             0.319149  0.112462    0.381443  1.195189  0.018366    1.100709  \n",
       "8             0.355623  0.112462    0.370000  1.040427  0.004370    1.022820  \n",
       "9             0.303951  0.112462    0.316239  1.040427  0.004370    1.017971  \n",
       "4             0.355623  0.109422    0.371134  1.043616  0.004573    1.024665  \n",
       "5             0.294833  0.109422    0.307692  1.043616  0.004573    1.018575  \n",
       "2             0.319149  0.103343    0.350515  1.098282  0.009248    1.048294  \n",
       "3             0.294833  0.103343    0.323810  1.098282  0.009248    1.042853  "
      ]
     },
     "execution_count": 586,
     "metadata": {},
     "output_type": "execute_result"
    }
   ],
   "source": [
    "rules = association_rules(aprioriModel, metric = \"lift\", min_threshold= 1)\n",
    "rules.sort_values(\"support\", ascending = False)"
   ]
  },
  {
   "cell_type": "markdown",
   "metadata": {},
   "source": [
    "#### Analysis\n",
    "\n",
    "Based on the rules generated from the apriori algorithm, we see that the top 3 most frequently pairs of items purchased together are Hershey's and Bud Light, Slim Jim's and Lays, and Doritos and Lays.  "
   ]
  },
  {
   "cell_type": "markdown",
   "metadata": {},
   "source": [
    "### VOID Different Method Based on Reference Material\n",
    "https://www.youtube.com/watch?v=eMOA1pPVUc4&list=PLytyvAZQ9Y65cl7Lr95g222cUTTMTDl1A&index=9&ab_channel=KeithGalli"
   ]
  },
  {
   "cell_type": "code",
   "execution_count": 522,
   "metadata": {},
   "outputs": [
    {
     "data": {
      "text/html": [
       "<div>\n",
       "<style scoped>\n",
       "    .dataframe tbody tr th:only-of-type {\n",
       "        vertical-align: middle;\n",
       "    }\n",
       "\n",
       "    .dataframe tbody tr th {\n",
       "        vertical-align: top;\n",
       "    }\n",
       "\n",
       "    .dataframe thead th {\n",
       "        text-align: right;\n",
       "    }\n",
       "</style>\n",
       "<table border=\"1\" class=\"dataframe\">\n",
       "  <thead>\n",
       "    <tr style=\"text-align: right;\">\n",
       "      <th></th>\n",
       "      <th>Timestamp</th>\n",
       "      <th>Transaction Number</th>\n",
       "      <th>Product UPC Number</th>\n",
       "      <th>Price</th>\n",
       "      <th>Retailer</th>\n",
       "      <th>Product Name</th>\n",
       "      <th>DayofWeek</th>\n",
       "      <th>Hour</th>\n",
       "    </tr>\n",
       "  </thead>\n",
       "  <tbody>\n",
       "    <tr>\n",
       "      <th>0</th>\n",
       "      <td>2018-03-02 08:15:50.000</td>\n",
       "      <td>123098</td>\n",
       "      <td>111100001234</td>\n",
       "      <td>1.80</td>\n",
       "      <td>Fast Mart</td>\n",
       "      <td>Coke 20 oz</td>\n",
       "      <td>Friday</td>\n",
       "      <td>8</td>\n",
       "    </tr>\n",
       "    <tr>\n",
       "      <th>1</th>\n",
       "      <td>2018-03-02 08:15:50.000</td>\n",
       "      <td>123098</td>\n",
       "      <td>111100001235</td>\n",
       "      <td>23.45</td>\n",
       "      <td>Fast Mart</td>\n",
       "      <td>Miller Lite 24 Pack</td>\n",
       "      <td>Friday</td>\n",
       "      <td>8</td>\n",
       "    </tr>\n",
       "    <tr>\n",
       "      <th>2</th>\n",
       "      <td>2018-03-02 08:15:50.000</td>\n",
       "      <td>123098</td>\n",
       "      <td>111100001236</td>\n",
       "      <td>6.99</td>\n",
       "      <td>Fast Mart</td>\n",
       "      <td>Pepsi 12 Pack</td>\n",
       "      <td>Friday</td>\n",
       "      <td>8</td>\n",
       "    </tr>\n",
       "    <tr>\n",
       "      <th>3</th>\n",
       "      <td>2018-03-02 08:19:51.920</td>\n",
       "      <td>123099</td>\n",
       "      <td>111100001236</td>\n",
       "      <td>6.99</td>\n",
       "      <td>Quick Stop</td>\n",
       "      <td>Pepsi 12 Pack</td>\n",
       "      <td>Friday</td>\n",
       "      <td>8</td>\n",
       "    </tr>\n",
       "    <tr>\n",
       "      <th>4</th>\n",
       "      <td>2018-03-02 08:19:51.920</td>\n",
       "      <td>123099</td>\n",
       "      <td>111100001237</td>\n",
       "      <td>7.15</td>\n",
       "      <td>Quick Stop</td>\n",
       "      <td>Coke 12 Pack</td>\n",
       "      <td>Friday</td>\n",
       "      <td>8</td>\n",
       "    </tr>\n",
       "  </tbody>\n",
       "</table>\n",
       "</div>"
      ],
      "text/plain": [
       "                Timestamp  Transaction Number  Product UPC Number  Price  \\\n",
       "0 2018-03-02 08:15:50.000              123098        111100001234   1.80   \n",
       "1 2018-03-02 08:15:50.000              123098        111100001235  23.45   \n",
       "2 2018-03-02 08:15:50.000              123098        111100001236   6.99   \n",
       "3 2018-03-02 08:19:51.920              123099        111100001236   6.99   \n",
       "4 2018-03-02 08:19:51.920              123099        111100001237   7.15   \n",
       "\n",
       "     Retailer         Product Name DayofWeek  Hour  \n",
       "0   Fast Mart           Coke 20 oz    Friday     8  \n",
       "1   Fast Mart  Miller Lite 24 Pack    Friday     8  \n",
       "2   Fast Mart        Pepsi 12 Pack    Friday     8  \n",
       "3  Quick Stop        Pepsi 12 Pack    Friday     8  \n",
       "4  Quick Stop         Coke 12 Pack    Friday     8  "
      ]
     },
     "execution_count": 522,
     "metadata": {},
     "output_type": "execute_result"
    },
    {
     "data": {
      "text/plain": [
       "(1189, 8)"
      ]
     },
     "execution_count": 522,
     "metadata": {},
     "output_type": "execute_result"
    }
   ],
   "source": [
    "#copying line of code to get orders with multiple items per order\n",
    "multiItemOrders = pos.loc[pos[\"Transaction Number\"].duplicated(keep = False)]\n",
    "multiItemOrders.head()\n",
    "multiItemOrders.shape"
   ]
  },
  {
   "cell_type": "code",
   "execution_count": 523,
   "metadata": {},
   "outputs": [
    {
     "name": "stderr",
     "output_type": "stream",
     "text": [
      "/anaconda3/lib/python3.6/site-packages/ipykernel_launcher.py:2: SettingWithCopyWarning: \n",
      "A value is trying to be set on a copy of a slice from a DataFrame.\n",
      "Try using .loc[row_indexer,col_indexer] = value instead\n",
      "\n",
      "See the caveats in the documentation: http://pandas.pydata.org/pandas-docs/stable/indexing.html#indexing-view-versus-copy\n",
      "  \n"
     ]
    },
    {
     "data": {
      "text/html": [
       "<div>\n",
       "<style scoped>\n",
       "    .dataframe tbody tr th:only-of-type {\n",
       "        vertical-align: middle;\n",
       "    }\n",
       "\n",
       "    .dataframe tbody tr th {\n",
       "        vertical-align: top;\n",
       "    }\n",
       "\n",
       "    .dataframe thead th {\n",
       "        text-align: right;\n",
       "    }\n",
       "</style>\n",
       "<table border=\"1\" class=\"dataframe\">\n",
       "  <thead>\n",
       "    <tr style=\"text-align: right;\">\n",
       "      <th></th>\n",
       "      <th>Timestamp</th>\n",
       "      <th>Transaction Number</th>\n",
       "      <th>Product UPC Number</th>\n",
       "      <th>Price</th>\n",
       "      <th>Retailer</th>\n",
       "      <th>Product Name</th>\n",
       "      <th>DayofWeek</th>\n",
       "      <th>Hour</th>\n",
       "      <th>Grouped Orders</th>\n",
       "    </tr>\n",
       "  </thead>\n",
       "  <tbody>\n",
       "    <tr>\n",
       "      <th>0</th>\n",
       "      <td>2018-03-02 08:15:50.000</td>\n",
       "      <td>123098</td>\n",
       "      <td>111100001234</td>\n",
       "      <td>1.80</td>\n",
       "      <td>Fast Mart</td>\n",
       "      <td>Coke 20 oz</td>\n",
       "      <td>Friday</td>\n",
       "      <td>8</td>\n",
       "      <td>Coke 20 oz,Miller Lite 24 Pack,Pepsi 12 Pack</td>\n",
       "    </tr>\n",
       "    <tr>\n",
       "      <th>1</th>\n",
       "      <td>2018-03-02 08:15:50.000</td>\n",
       "      <td>123098</td>\n",
       "      <td>111100001235</td>\n",
       "      <td>23.45</td>\n",
       "      <td>Fast Mart</td>\n",
       "      <td>Miller Lite 24 Pack</td>\n",
       "      <td>Friday</td>\n",
       "      <td>8</td>\n",
       "      <td>Coke 20 oz,Miller Lite 24 Pack,Pepsi 12 Pack</td>\n",
       "    </tr>\n",
       "    <tr>\n",
       "      <th>2</th>\n",
       "      <td>2018-03-02 08:15:50.000</td>\n",
       "      <td>123098</td>\n",
       "      <td>111100001236</td>\n",
       "      <td>6.99</td>\n",
       "      <td>Fast Mart</td>\n",
       "      <td>Pepsi 12 Pack</td>\n",
       "      <td>Friday</td>\n",
       "      <td>8</td>\n",
       "      <td>Coke 20 oz,Miller Lite 24 Pack,Pepsi 12 Pack</td>\n",
       "    </tr>\n",
       "    <tr>\n",
       "      <th>3</th>\n",
       "      <td>2018-03-02 08:19:51.920</td>\n",
       "      <td>123099</td>\n",
       "      <td>111100001236</td>\n",
       "      <td>6.99</td>\n",
       "      <td>Quick Stop</td>\n",
       "      <td>Pepsi 12 Pack</td>\n",
       "      <td>Friday</td>\n",
       "      <td>8</td>\n",
       "      <td>Pepsi 12 Pack,Coke 12 Pack,Coke 12 Pack,Dorito...</td>\n",
       "    </tr>\n",
       "    <tr>\n",
       "      <th>4</th>\n",
       "      <td>2018-03-02 08:19:51.920</td>\n",
       "      <td>123099</td>\n",
       "      <td>111100001237</td>\n",
       "      <td>7.15</td>\n",
       "      <td>Quick Stop</td>\n",
       "      <td>Coke 12 Pack</td>\n",
       "      <td>Friday</td>\n",
       "      <td>8</td>\n",
       "      <td>Pepsi 12 Pack,Coke 12 Pack,Coke 12 Pack,Dorito...</td>\n",
       "    </tr>\n",
       "  </tbody>\n",
       "</table>\n",
       "</div>"
      ],
      "text/plain": [
       "                Timestamp  Transaction Number  Product UPC Number  Price  \\\n",
       "0 2018-03-02 08:15:50.000              123098        111100001234   1.80   \n",
       "1 2018-03-02 08:15:50.000              123098        111100001235  23.45   \n",
       "2 2018-03-02 08:15:50.000              123098        111100001236   6.99   \n",
       "3 2018-03-02 08:19:51.920              123099        111100001236   6.99   \n",
       "4 2018-03-02 08:19:51.920              123099        111100001237   7.15   \n",
       "\n",
       "     Retailer         Product Name DayofWeek  Hour  \\\n",
       "0   Fast Mart           Coke 20 oz    Friday     8   \n",
       "1   Fast Mart  Miller Lite 24 Pack    Friday     8   \n",
       "2   Fast Mart        Pepsi 12 Pack    Friday     8   \n",
       "3  Quick Stop        Pepsi 12 Pack    Friday     8   \n",
       "4  Quick Stop         Coke 12 Pack    Friday     8   \n",
       "\n",
       "                                      Grouped Orders  \n",
       "0       Coke 20 oz,Miller Lite 24 Pack,Pepsi 12 Pack  \n",
       "1       Coke 20 oz,Miller Lite 24 Pack,Pepsi 12 Pack  \n",
       "2       Coke 20 oz,Miller Lite 24 Pack,Pepsi 12 Pack  \n",
       "3  Pepsi 12 Pack,Coke 12 Pack,Coke 12 Pack,Dorito...  \n",
       "4  Pepsi 12 Pack,Coke 12 Pack,Coke 12 Pack,Dorito...  "
      ]
     },
     "execution_count": 523,
     "metadata": {},
     "output_type": "execute_result"
    }
   ],
   "source": [
    "#adding column that puts all items per order together in single row\n",
    "multiItemOrders[\"Grouped Orders\"] = multiItemOrders.groupby(\"Transaction Number\")[\"Product Name\"].transform(lambda x: ','.join(x))\n",
    "multiItemOrders.head()"
   ]
  },
  {
   "cell_type": "code",
   "execution_count": 524,
   "metadata": {},
   "outputs": [
    {
     "data": {
      "text/html": [
       "<div>\n",
       "<style scoped>\n",
       "    .dataframe tbody tr th:only-of-type {\n",
       "        vertical-align: middle;\n",
       "    }\n",
       "\n",
       "    .dataframe tbody tr th {\n",
       "        vertical-align: top;\n",
       "    }\n",
       "\n",
       "    .dataframe thead th {\n",
       "        text-align: right;\n",
       "    }\n",
       "</style>\n",
       "<table border=\"1\" class=\"dataframe\">\n",
       "  <thead>\n",
       "    <tr style=\"text-align: right;\">\n",
       "      <th></th>\n",
       "      <th>Transaction Number</th>\n",
       "      <th>Grouped Orders</th>\n",
       "    </tr>\n",
       "  </thead>\n",
       "  <tbody>\n",
       "    <tr>\n",
       "      <th>0</th>\n",
       "      <td>123098</td>\n",
       "      <td>Coke 20 oz,Miller Lite 24 Pack,Pepsi 12 Pack</td>\n",
       "    </tr>\n",
       "    <tr>\n",
       "      <th>3</th>\n",
       "      <td>123099</td>\n",
       "      <td>Pepsi 12 Pack,Coke 12 Pack,Coke 12 Pack,Dorito...</td>\n",
       "    </tr>\n",
       "    <tr>\n",
       "      <th>7</th>\n",
       "      <td>123100</td>\n",
       "      <td>Coke 20 oz,Lays Chips 12 oz.,Slim Jim,M&amp;M's Ca...</td>\n",
       "    </tr>\n",
       "    <tr>\n",
       "      <th>12</th>\n",
       "      <td>123101</td>\n",
       "      <td>Miller Lite 24 Pack,Bud Light 24 Pack,Miller L...</td>\n",
       "    </tr>\n",
       "    <tr>\n",
       "      <th>17</th>\n",
       "      <td>123102</td>\n",
       "      <td>Pepsi 12 Pack,Pepsi 20 oz,Coke 12 Pack</td>\n",
       "    </tr>\n",
       "  </tbody>\n",
       "</table>\n",
       "</div>"
      ],
      "text/plain": [
       "    Transaction Number                                     Grouped Orders\n",
       "0               123098       Coke 20 oz,Miller Lite 24 Pack,Pepsi 12 Pack\n",
       "3               123099  Pepsi 12 Pack,Coke 12 Pack,Coke 12 Pack,Dorito...\n",
       "7               123100  Coke 20 oz,Lays Chips 12 oz.,Slim Jim,M&M's Ca...\n",
       "12              123101  Miller Lite 24 Pack,Bud Light 24 Pack,Miller L...\n",
       "17              123102             Pepsi 12 Pack,Pepsi 20 oz,Coke 12 Pack"
      ]
     },
     "execution_count": 524,
     "metadata": {},
     "output_type": "execute_result"
    },
    {
     "data": {
      "text/plain": [
       "(329, 2)"
      ]
     },
     "execution_count": 524,
     "metadata": {},
     "output_type": "execute_result"
    }
   ],
   "source": [
    "#drop duplicatated transaction numbers now that we paired all the items per order in one row\n",
    "\n",
    "cleanedMultiOrders = multiItemOrders[[\"Transaction Number\", \"Grouped Orders\"]].drop_duplicates()\n",
    "cleanedMultiOrders.head()\n",
    "cleanedMultiOrders.shape"
   ]
  },
  {
   "cell_type": "code",
   "execution_count": 525,
   "metadata": {},
   "outputs": [],
   "source": [
    "# Reference: https://stackoverflow.com/questions/52195887/counting-unique-pairs-of-numbers-into-a-python-dictionary\n",
    "from itertools import combinations\n",
    "from collections import Counter"
   ]
  },
  {
   "cell_type": "code",
   "execution_count": 526,
   "metadata": {},
   "outputs": [],
   "source": [
    "#initializing a counter object\n",
    "counter = Counter()"
   ]
  },
  {
   "cell_type": "code",
   "execution_count": 527,
   "metadata": {},
   "outputs": [],
   "source": [
    "for itemPairs in cleanedMultiOrders[\"Grouped Orders\"]:\n",
    "    splitItems = itemPairs.split(',')\n",
    "    counter.update(Counter(combinations(splitItems,2)))"
   ]
  },
  {
   "cell_type": "code",
   "execution_count": 528,
   "metadata": {},
   "outputs": [
    {
     "name": "stdout",
     "output_type": "stream",
     "text": [
      "('Bud Light 24 Pack', 'Bud Light 24 Pack') 44\n",
      "('Hersheys Candy', 'Bud Light 24 Pack') 42\n",
      "('Bud Light 24 Pack', 'Slim Jim') 41\n",
      "('Coke 12 Pack', 'Bud Light 24 Pack') 39\n",
      "('Bud Light 24 Pack', 'Lays Chips 12 oz.') 39\n",
      "('Bud Light 24 Pack', 'Hersheys Candy') 38\n",
      "('Slim Jim', 'Bud Light 24 Pack') 37\n",
      "('Bud Light 24 Pack', 'Doritos 12 oz.') 34\n",
      "('Coke 12 Pack', 'Lays Chips 12 oz.') 34\n",
      "('Slim Jim', 'Lays Chips 12 oz.') 33\n"
     ]
    }
   ],
   "source": [
    "for items, count in counter.most_common(10):\n",
    "    print(items, count)"
   ]
  },
  {
   "cell_type": "code",
   "execution_count": null,
   "metadata": {},
   "outputs": [],
   "source": []
  }
 ],
 "metadata": {
  "kernelspec": {
   "display_name": "Python 3",
   "language": "python",
   "name": "python3"
  },
  "language_info": {
   "codemirror_mode": {
    "name": "ipython",
    "version": 3
   },
   "file_extension": ".py",
   "mimetype": "text/x-python",
   "name": "python",
   "nbconvert_exporter": "python",
   "pygments_lexer": "ipython3",
   "version": "3.6.10"
  }
 },
 "nbformat": 4,
 "nbformat_minor": 4
}
